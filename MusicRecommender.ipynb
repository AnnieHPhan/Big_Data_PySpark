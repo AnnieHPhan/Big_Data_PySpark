{
 "cells": [
  {
   "cell_type": "markdown",
   "metadata": {},
   "source": [
    "# Predicting Song Listens Using Apache Spark\n",
    "\n",
    "One of the most common uses of big data is to predict what users want.  This allows Google to show you relevant ads, Amazon to recommend relevant products, and Netflix to recommend movies that you might like. We will start with some basic techniques, and then use the [Spark ML][sparkml] library's Alternating Least Squares method to make more sophisticated predictions.\n",
    "\n",
    "We use triplets from 1 million users from the [million song dataset](http://labrosa.ee.columbia.edu/millionsong/pages/getting-dataset), along with metadata for the songs that includes information such as the song title, artist name and tempo. The triplets com in the form (User ID, Song ID, Number of Plays). \n",
    "[sparkml]: https://spark.apache.org/docs/1.6.2/api/python/pyspark.ml.html"
   ]
  },
  {
   "cell_type": "markdown",
   "metadata": {},
   "source": [
    "### Load and Cache\n",
    "\n",
    "The Databricks File System (DBFS) sits on top of S3.  We use both the song plays csv and the song metadata in memory."
   ]
  },
  {
   "cell_type": "code",
   "execution_count": 3,
   "metadata": {},
   "outputs": [
    {
     "data": {
      "text/html": [
       "<style scoped>\n",
       "  .ansiout {\n",
       "    display: block;\n",
       "    unicode-bidi: embed;\n",
       "    white-space: pre-wrap;\n",
       "    word-wrap: break-word;\n",
       "    word-break: break-all;\n",
       "    font-family: \"Source Code Pro\", \"Menlo\", monospace;;\n",
       "    font-size: 13px;\n",
       "    color: #555;\n",
       "    margin-left: 4px;\n",
       "    line-height: 19px;\n",
       "  }\n",
       "</style>\n",
       "<div class=\"ansiout\"></div>"
      ]
     },
     "metadata": {},
     "output_type": "display_data"
    }
   ],
   "source": [
    "# import libraries\n",
    "import os\n",
    "from pyspark.sql.types import *\n",
    "from pyspark.sql import functions as F\n",
    "\n",
    "# list directories\n",
    "base_dir = '/FileStore/'\n",
    "triplets_filename = base_dir + 'train_triplets.txt'\n",
    "\n",
    "#base_dir2 = '/FileStore/tables/qgz865tr1472080731816/'\n",
    "songs2tracks_filename = base_dir + 'taste_profile_song_to_tracks.txt'\n",
    "\n",
    "#base_dir3 = '/FileStore/tables/9204dwdp1472230135186/'\n",
    "metadata_filename = base_dir + 'track_metadata.csv'\n",
    "\n",
    "#lyrics_file = base_dr + 'lyrics.txt'\n",
    "\n",
    "if os.path.sep != '/':\n",
    "  # Handle Windows.\n",
    "  triplets_filename = triplets_filename.replace('/', os.path.sep)\n",
    "  songs2tracks_filename = songs2tracks_filename.replace('/', os.path.sep)\n",
    "  metadata_filename = metadata_filename.replace('/', os.path.sep)\n",
    "  #lyrics_file = lyrics_file.replace('/', os.path.sep)\n",
    "  "
   ]
  },
  {
   "cell_type": "code",
   "execution_count": 4,
   "metadata": {},
   "outputs": [
    {
     "data": {
      "text/html": [
       "<style scoped>\n",
       "  .ansiout {\n",
       "    display: block;\n",
       "    unicode-bidi: embed;\n",
       "    white-space: pre-wrap;\n",
       "    word-wrap: break-word;\n",
       "    word-break: break-all;\n",
       "    font-family: \"Source Code Pro\", \"Menlo\", monospace;;\n",
       "    font-size: 13px;\n",
       "    color: #555;\n",
       "    margin-left: 4px;\n",
       "    line-height: 19px;\n",
       "  }\n",
       "</style>\n",
       "<div class=\"ansiout\"></div>"
      ]
     },
     "metadata": {},
     "output_type": "display_data"
    }
   ],
   "source": [
    "# Create schema so the cluster only runs through the data once\n",
    "plays_df_schema = StructType(\n",
    "  [StructField('userId', StringType()),\n",
    "   StructField('songId', StringType()),\n",
    "   StructField('Plays', IntegerType())]\n",
    ")\n",
    "\n",
    "songs2tracks_df_schema = StructType(\n",
    "  [StructField('songId', StringType()),\n",
    "   StructField('trackId', StringType())]\n",
    ")\n",
    "\n",
    "metadata_df_schema = StructType(\n",
    "  [StructField('', IntegerType()),\n",
    "   StructField('analyzer_version', IntegerType()),\n",
    "   StructField('artist_7digitalid', IntegerType()),\n",
    "   StructField('artist_familiarity', DoubleType()),\n",
    "   StructField('artist_hotttness', DoubleType()),\n",
    "   StructField('artist_id', StringType()),\n",
    "   StructField('artist_latitude', DoubleType()),\n",
    "   StructField('artist_location', StringType()),\n",
    "   StructField('artist_longitude', DoubleType()),\n",
    "   StructField('artist_mbid', StringType()),\n",
    "   StructField('artist_name', StringType()),\n",
    "   StructField('artist_playmeid', IntegerType()),\n",
    "   StructField('genre', StringType()),\n",
    "   StructField('idx_artist_terms', IntegerType()),\n",
    "   StructField('idx_similar_artists', IntegerType()),\n",
    "   StructField('release', StringType()),\n",
    "   StructField('release_7digitalid', IntegerType()),\n",
    "   StructField('song_hotttnesss', DoubleType()),\n",
    "   StructField('songId', StringType()),\n",
    "   StructField('title', StringType()),\n",
    "   StructField('track_7digitalid', IntegerType())\n",
    "   #StructField('index', IntegerType()),\n",
    "   #StructField('trackId', StringType()),\n",
    "   #StructField('duration', DoubleType()),\n",
    "   #StructField('year', IntegerType()),\n",
    "   #StructField('shs_perf', DoubleType()),\n",
    "   #StructField('shs_work', DoubleType())\n",
    "  ]\n",
    ")"
   ]
  },
  {
   "cell_type": "code",
   "execution_count": 5,
   "metadata": {},
   "outputs": [
    {
     "data": {
      "text/html": [
       "<style scoped>\n",
       "  .ansiout {\n",
       "    display: block;\n",
       "    unicode-bidi: embed;\n",
       "    white-space: pre-wrap;\n",
       "    word-wrap: break-word;\n",
       "    word-break: break-all;\n",
       "    font-family: \"Source Code Pro\", \"Menlo\", monospace;;\n",
       "    font-size: 13px;\n",
       "    color: #555;\n",
       "    margin-left: 4px;\n",
       "    line-height: 19px;\n",
       "  }\n",
       "</style>\n",
       "<div class=\"ansiout\"></div>"
      ]
     },
     "metadata": {},
     "output_type": "display_data"
    }
   ],
   "source": [
    "# load in data\n",
    "raw_plays_df = sqlContext.read.format('com.databricks.spark.csv') \\\n",
    "                              .options(delimiter = '\\t', header=True,inferSchema=False) \\\n",
    "                              .schema(plays_df_schema) \\\n",
    "                              .load(triplets_filename)\n",
    "\n",
    "songs2tracks_df = sqlContext.read.format('com.databricks.spark.csv') \\\n",
    "                                 .options(delimiter = '\\t', header=True,inferSchema=False) \\\n",
    "                                 .schema(songs2tracks_df_schema) \\\n",
    "                                 .load(songs2tracks_filename)\n",
    "\n",
    "metadata_df = sqlContext.read.format('com.databricks.spark.csv') \\\n",
    "                             .options(delimiter = ',', header=True,inferSchema=False) \\\n",
    "                             .schema(metadata_df_schema) \\\n",
    "                             .load(metadata_filename)\n",
    "\n",
    "#lyrics_df = sqlContext.read.format('com.databricks.spark.csv') \\\n",
    "#                             .options(delimiter = ',', header=True,inferSchema=True) \n",
    "#                            "
   ]
  },
  {
   "cell_type": "code",
   "execution_count": 6,
   "metadata": {},
   "outputs": [
    {
     "data": {
      "text/html": [
       "<style scoped>\n",
       "  .table-result-container {\n",
       "    max-height: 300px;\n",
       "    overflow: auto;\n",
       "  }\n",
       "  table, th, td {\n",
       "    border: 1px solid black;\n",
       "    border-collapse: collapse;\n",
       "  }\n",
       "  th, td {\n",
       "    padding: 5px;\n",
       "  }\n",
       "  th {\n",
       "    text-align: left;\n",
       "  }\n",
       "</style><div class='table-result-container'><table class='table-result'><thead style='background-color: white'><tr><th>artist_name</th><th>avg(artist_familiarity)</th><th>avg(artist_hotttness)</th></tr></thead><tbody><tr><td>Eurythmics</td><td>0.7510076200369779</td><td>0.5236990777653908</td></tr><tr><td>Pery Ribeiro</td><td>0.38541744679271267</td><td>0.31213122149558203</td></tr><tr><td>Silverstein</td><td>0.7975761098264473</td><td>0.6055071356905753</td></tr><tr><td>Michelle & Vickie</td><td>0.36840432673225254</td><td>0.30379069801488423</td></tr><tr><td>Marga Gomez</td><td>0.3107765232758942</td><td>0.22842866681038246</td></tr><tr><td>DJ Taz</td><td>0.4099894915499974</td><td>0.240551990468017</td></tr><tr><td>Rhian Sheehan</td><td>0.5580077519194866</td><td>0.41478065907349704</td></tr><tr><td>Brian Tyler</td><td>0.6752954694563452</td><td>0.4426967195814664</td></tr><tr><td>Faith Yang</td><td>0.37402463303512845</td><td>0.18721329024920533</td></tr><tr><td>Generation X</td><td>0.6111809474469422</td><td>0.39903376959197284</td></tr><tr><td>Sean Callery</td><td>0.44698353795994644</td><td>0.3546933602901253</td></tr><tr><td>Al Duvall</td><td>0.5027831006782288</td><td>0.3749449388229184</td></tr><tr><td>Abbott & Chambers</td><td>0.5062126420070397</td><td>0.21893641516044704</td></tr><tr><td>Gorki</td><td>0.4940360660550741</td><td>0.3457179318517376</td></tr><tr><td>Jane's Addiction</td><td>0.7118938367316507</td><td>0.5351630421238075</td></tr><tr><td>Tim Hughes</td><td>0.6423553254367379</td><td>0.37034677312620534</td></tr><tr><td>Black Debbath</td><td>0.4804019702957005</td><td>0.3923252825279137</td></tr><tr><td>This Is Hell</td><td>0.6775501489283591</td><td>0.4921322209638422</td></tr><tr><td>Goldfish</td><td>0.5891748758775349</td><td>0.4422857823914656</td></tr><tr><td>Cirrus</td><td>0.6065756794556484</td><td>0.3983941070519857</td></tr><tr><td>Falling Into Place</td><td>0.7728719945919372</td><td>0.4737005012967777</td></tr><tr><td>Ms. Dynamite / Kymani Marley</td><td>0.5896946052467457</td><td>0.38386370432771433</td></tr><tr><td>Pete Rock & C.L. Smooth</td><td>0.48956670886828835</td><td>0.4143995624301108</td></tr><tr><td>Wayne Kramer</td><td>0.7014417589824127</td><td>0.5043077259823238</td></tr><tr><td>John Pagano_ Burt Bacharach</td><td>0.6067695732048534</td><td>0.4707902495273688</td></tr><tr><td>Bruno Sanfilippo</td><td>0.5409710945993634</td><td>0.3719004797519869</td></tr><tr><td>Morton Gould</td><td>0.39535838469227497</td><td>0.3091219516254072</td></tr><tr><td>AUDIO.3</td><td>0.24573062155777617</td><td>0.21807658927198664</td></tr><tr><td>Jennifer Brown</td><td>0.493486473128519</td><td>0.3863121306001651</td></tr><tr><td>Choir & Great Symphony Orchestra of the All-Union Radio_ N. Shpiller_ S. Krassovsky_ V. Gagarina & N</td><td>0.4844855578502837</td><td>0.3739527793505038</td></tr><tr><td>Gold City</td><td>0.5961899382578277</td><td>0.3965213030824702</td></tr><tr><td>Legacy Five</td><td>0.4882373664134809</td><td>0.36735534360917704</td></tr><tr><td>Gustavo A. Santaolalla</td><td>0.6439825914925877</td><td>0.40662621742204</td></tr><tr><td>Corona</td><td>0.6046446897118567</td><td>0.3988625972568107</td></tr><tr><td>Dhamika</td><td>0.42573997813070547</td><td>0.33058171862767266</td></tr><tr><td>Daryl Hall & John Oates</td><td>0.6649243624441277</td><td>0.49638114568159253</td></tr><tr><td>Noisettes</td><td>0.7884852457724834</td><td>0.4701078015350845</td></tr><tr><td>Ben Jelen</td><td>0.6302474951043119</td><td>0.3779044797822591</td></tr><tr><td>Chalk Farm</td><td>0.4124484058932712</td><td>0.24729252791936776</td></tr><tr><td>John Stewart</td><td>0.5282112866402947</td><td>0.3453688250860783</td></tr><tr><td>Piero Esteriore</td><td>0.3848890718766657</td><td>0.1822198088157543</td></tr><tr><td>Belle & Sebastian</td><td>0.744734766782699</td><td>0.5650456592207079</td></tr><tr><td>Joe Graves & The Diggers</td><td>0.22652306712844333</td><td>0.0</td></tr><tr><td>Cama</td><td>0.40618744927506273</td><td>0.27345372725278577</td></tr><tr><td>Lily Allen</td><td>0.9160582384829289</td><td>0.5354083792298137</td></tr><tr><td>Tomorrow</td><td>0.6796169574734833</td><td>0.3544721910518341</td></tr><tr><td>Britney Spears feat. Pharrell Williams</td><td>0.1536055481454315</td><td>0.6072572795814319</td></tr><tr><td>Dexys Midnight Runners</td><td>0.6797935559497997</td><td>0.48945825847064145</td></tr><tr><td>Nickelback</td><td>0.8474517132179911</td><td>0.779968004597178</td></tr><tr><td>Shinehead</td><td>0.5291027999696011</td><td>0.41136413214629225</td></tr><tr><td>Stephan Micus</td><td>0.5613709072283409</td><td>0.3655337561979803</td></tr><tr><td>Ed Byrne</td><td>0.40095244842949446</td><td>0.3578170742518158</td></tr><tr><td>Ed Calle</td><td>0.40156680946575457</td><td>0.28033044155223535</td></tr><tr><td>The Elders</td><td>0.5570945047145802</td><td>0.41530364258122726</td></tr><tr><td>The Continentals</td><td>0.4420305132891076</td><td>0.38010920821880884</td></tr><tr><td>Big Mountain</td><td>0.6235016600579499</td><td>0.4223804090668267</td></tr><tr><td>Françoise Hardy - Maurane</td><td>0.19513091348913872</td><td>0.37384533473395093</td></tr><tr><td>Swim</td><td>0.5074220246144049</td><td>0.3184397757835949</td></tr><tr><td>Vince Guaraldi</td><td>0.5781036297198625</td><td>0.4148926124367487</td></tr><tr><td>Fiona Sit</td><td>0.4396285774270355</td><td>0.37372567873399865</td></tr><tr><td>V V Brown</td><td>0.5967644368314772</td><td>0.4921879007529279</td></tr><tr><td>Maria Forde</td><td>0.3653079710634078</td><td>0.25721308943220716</td></tr><tr><td>B.B.King</td><td>0.7087354000378394</td><td>0.5422899334343946</td></tr><tr><td>Talib Kweli</td><td>0.772794404179852</td><td>0.551016442959872</td></tr><tr><td>Bruce Robison</td><td>0.5785174144965888</td><td>0.47186994585424324</td></tr><tr><td>Rhian Lois</td><td>0.2596329272951822</td><td>0.0</td></tr><tr><td>Gall_ France</td><td>0.6319790854692059</td><td>0.39957965816802155</td></tr><tr><td>David Martin</td><td>0.6375333862984804</td><td>0.31061428147376885</td></tr><tr><td>Brian Dullaghan</td><td>0.291433259678306</td><td>0.1930938192056952</td></tr><tr><td>C-Side & Petit Mal</td><td>0.5606584565020386</td><td>0.27366797002760784</td></tr><tr><td>Cornell Campbell</td><td>0.5870237387492154</td><td>0.3832290261922142</td></tr><tr><td>Herbert Von Karajan</td><td>0.6680556868584198</td><td>0.4641524390532526</td></tr><tr><td>Broadcast</td><td>0.6918507365964088</td><td>0.467885511383105</td></tr><tr><td>Atman</td><td>0.526077280016743</td><td>0.3745602529270401</td></tr><tr><td>Embrace the End</td><td>0.5803697896067754</td><td>0.42017659351689324</td></tr><tr><td>Tony Danza Tap Dance Extravaganza_ The</td><td>0.4950782137324694</td><td>0.3980361069123988</td></tr><tr><td>Tel Basta</td><td>0.24537072297213372</td><td>0.0</td></tr><tr><td>Finest Dearest</td><td>0.48508930139283946</td><td>0.3724035280285297</td></tr><tr><td>Agnostic Front</td><td>0.7014417589824128</td><td>0.5043077259823238</td></tr><tr><td>Madonna</td><td>0.9158232530331046</td><td>0.6621456789109458</td></tr><tr><td>Rod Piazza & The Mighty Flyers</td><td>0.5099846245869376</td><td>0.32270493201548944</td></tr><tr><td>Tito Rodriguez</td><td>0.41286748803742285</td><td>0.2386963500981182</td></tr><tr><td>The Game feat. Jim Jones Camron & Bezell</td><td>0.8029253954519542</td><td>0.528614974324017</td></tr><tr><td>Charlie Haden</td><td>0.6182968439727855</td><td>0.3753748194868852</td></tr><tr><td>The Tamperer</td><td>0.4514817203904106</td><td>0.32084933517977104</td></tr><tr><td>Laura Mikkola</td><td>0.3225526280500946</td><td>0.0</td></tr><tr><td>Slick Rick</td><td>0.6703727837998866</td><td>0.4789857129812936</td></tr><tr><td>Akissa</td><td>0.5335143014619284</td><td>0.39185882843867803</td></tr><tr><td>Goose</td><td>0.6955933512745225</td><td>0.4449351824117356</td></tr><tr><td>Betika_ Daouda</td><td>0.46143965005695153</td><td>0.27974359137207744</td></tr><tr><td>Defari</td><td>0.5961723810558557</td><td>0.35515544995510717</td></tr><tr><td>Saafir</td><td>0.5947799035029359</td><td>0.3189020778687955</td></tr><tr><td>Jason Miles</td><td>0.4580551793630036</td><td>0.34410063232633575</td></tr><tr><td>Regina Belle</td><td>0.5660243021595366</td><td>0.3846016855478264</td></tr><tr><td>Mons Leidvin Takle</td><td>0.221726078186075</td><td>0.28240219935191896</td></tr><tr><td>Furry Lewis</td><td>0.5725006006819785</td><td>0.3680540387507248</td></tr><tr><td>Raze</td><td>0.5503033788841006</td><td>0.40737314928722795</td></tr><tr><td>A.Z.</td><td>0.6406959207035972</td><td>0.4496026559738531</td></tr><tr><td>Les Malpolis</td><td>0.48820685104705724</td><td>0.2712505962615699</td></tr><tr><td>IYOV</td><td>0.33894309164712805</td><td>0.23581602829943166</td></tr><tr><td>Lady Saw</td><td>0.6806202476884844</td><td>0.4403260728086293</td></tr><tr><td>The Frantic</td><td>0.5838738827923154</td><td>0.3259873912685581</td></tr><tr><td>Maria Muldaur</td><td>0.5869500458992859</td><td>0.43205407899019355</td></tr><tr><td>Angel Romero</td><td>0.49007349958682267</td><td>0.334782293472985</td></tr><tr><td>Phantom Planet</td><td>0.7640033685495728</td><td>0.5423950934997648</td></tr><tr><td>Brainchoke</td><td>0.4047560701585289</td><td>0.2785196693967047</td></tr><tr><td>Yiannis Tassios</td><td>null</td><td>0.0</td></tr><tr><td>Happy Mondays</td><td>0.6821012817114168</td><td>0.4241082774163539</td></tr><tr><td>Imiskoubria</td><td>0.3712816797546315</td><td>0.30271627188983663</td></tr><tr><td>AZ</td><td>0.6406959207035972</td><td>0.4496026559738531</td></tr><tr><td>Loketo</td><td>0.3495577095441091</td><td>0.2747418961947559</td></tr><tr><td>Palito Ortega</td><td>0.455087591330881</td><td>0.36016349140867365</td></tr><tr><td>Intex Systems</td><td>0.4278232383443736</td><td>0.0</td></tr><tr><td>The Allies</td><td>0.5111844063880663</td><td>0.3491611547989112</td></tr><tr><td>Daara J</td><td>0.529020069005829</td><td>0.30073460390237744</td></tr><tr><td>Clp</td><td>0.5505136978482137</td><td>0.42270564102939107</td></tr><tr><td>Bröderna Djup</td><td>0.3460734761458812</td><td>0.24735931919995893</td></tr><tr><td>Vanessa Bell Armstrong</td><td>0.5738431163226819</td><td>0.40864682737660296</td></tr><tr><td>Gary Morris</td><td>0.4420249810973847</td><td>0.28603261691822185</td></tr><tr><td>Tom Barabas</td><td>0.4480253455381388</td><td>0.38754693929380035</td></tr><tr><td>Frankie Randall</td><td>0.2485037264210925</td><td>0.12154267465443479</td></tr><tr><td>Peppermint Creeps</td><td>0.4304529611441741</td><td>0.335469461590953</td></tr><tr><td>Sleepy John Estes</td><td>0.5190000723734253</td><td>0.35303574014515915</td></tr><tr><td>Sulk</td><td>0.4500864479700203</td><td>0.31791328227769183</td></tr><tr><td>Steve Green</td><td>0.5160213594264099</td><td>0.3485268895981834</td></tr><tr><td>Leonardo Favio</td><td>0.5461168843799594</td><td>0.3984075199761793</td></tr><tr><td>Mississippi Mass Choir</td><td>0.5077842051687999</td><td>0.45962960758739696</td></tr><tr><td>DJ Spinn and DJ Rashad</td><td>0.5153102332305513</td><td>0.2607967782533836</td></tr><tr><td>Big Star</td><td>0.7410404327961191</td><td>0.4965081187205733</td></tr><tr><td>Eduardo Dusek</td><td>0.40704480621528977</td><td>0.2904050896801759</td></tr><tr><td>María Elena Walsh</td><td>0.34151385491859326</td><td>0.2570629202962798</td></tr><tr><td>Héroes del Silencio</td><td>0.6729041339303496</td><td>0.5240633327763052</td></tr><tr><td>Ronnie Drew</td><td>0.5227140752907256</td><td>0.3858666236406792</td></tr><tr><td>RUN-DMC Featuring Jagged Edge</td><td>0.6869889546292448</td><td>0.6066301517291853</td></tr><tr><td>El Gran Combo De Puerto Rico</td><td>0.5975318646122364</td><td>0.0</td></tr><tr><td>Britt Nicole</td><td>0.669500125220809</td><td>0.544446276903691</td></tr><tr><td>Bitter End</td><td>0.6028680667446589</td><td>0.44900243552230545</td></tr><tr><td>Silverchair</td><td>0.767768809032461</td><td>0.536219992815098</td></tr><tr><td>Die Symphony</td><td>0.42950767177027105</td><td>0.2620939623464242</td></tr><tr><td>Coraleena Ellis</td><td>0.6103636444058818</td><td>0.0</td></tr><tr><td>The Jets</td><td>0.5654823506955199</td><td>0.3912425060150865</td></tr><tr><td>Janitor Joe</td><td>0.47001240256629634</td><td>0.36278294075354944</td></tr><tr><td>Lifehouse</td><td>0.8200724177064315</td><td>0.7108790709912577</td></tr><tr><td>Cavo</td><td>0.6626979631539963</td><td>0.4967678464663095</td></tr><tr><td>Tanika Turner</td><td>0.200729608076517</td><td>0.0</td></tr><tr><td>The Hollywood Brats</td><td>0.4531200834872984</td><td>0.3684550906517637</td></tr><tr><td>David Palmer</td><td>0.39840082036642216</td><td>0.3532480968232024</td></tr><tr><td>The Baltimore Consort</td><td>0.42572365804650586</td><td>0.0</td></tr><tr><td>Frl.Menke</td><td>0.5050095631044134</td><td>0.31006542453762087</td></tr><tr><td>Harry Lauder</td><td>0.4815952124852683</td><td>0.2273875691203391</td></tr><tr><td>Jim Jones featuring Oshy</td><td>0.8029253954519542</td><td>0.528614974324017</td></tr><tr><td>Rauni Pekkala</td><td>0.049036791876213154</td><td>0.0</td></tr><tr><td>Mario Telles</td><td>0.2361050409465589</td><td>0.19936896984358282</td></tr><tr><td>Original Love</td><td>0.5074476002070633</td><td>0.40379485918457086</td></tr><tr><td>Kat Deluna / Akon</td><td>0.727030782206353</td><td>0.530321954826795</td></tr><tr><td>Tony Malone And The Rapparees</td><td>0.030267635869388496</td><td>0.0</td></tr><tr><td>Taal</td><td>0.4125446299311757</td><td>0.35329028976873145</td></tr><tr><td>Princess Lover</td><td>0.5691315861983045</td><td>0.3994927874638357</td></tr><tr><td>D.R.S.</td><td>0.5102430890437599</td><td>0.35074983870797555</td></tr><tr><td>Kiril Valeri</td><td>0.6058740493326593</td><td>0.433945513830991</td></tr><tr><td>Placebo</td><td>0.8045235206697149</td><td>0.5864333787181634</td></tr><tr><td>Luar Na Lubre</td><td>0.6333136084998439</td><td>0.4198609939749071</td></tr><tr><td>Los Originales De San Juan</td><td>0.648902582006874</td><td>0.4408350067130934</td></tr><tr><td>Alan Silvestri</td><td>0.6293018056764849</td><td>0.45077989068682317</td></tr><tr><td>Alfredo Gutiérrez</td><td>0.37813013436299636</td><td>0.2792557598816767</td></tr><tr><td>J. B. Lenoir</td><td>0.5205537457116164</td><td>0.35597435894657803</td></tr><tr><td>Paulette Tajah</td><td>0.3394444587077702</td><td>0.3191825349606215</td></tr><tr><td>Roni Size</td><td>0.6741604753853118</td><td>0.4784907329726669</td></tr><tr><td>Omni</td><td>0.558281487404435</td><td>0.3441817504465177</td></tr><tr><td>Claude François</td><td>0.5548908991362025</td><td>0.3855836607891528</td></tr><tr><td>Ale Möller</td><td>0.4308823848704253</td><td>0.3544585599066665</td></tr><tr><td>Anneli Drecker</td><td>0.505115114643318</td><td>0.33961429528347165</td></tr><tr><td>EPMD / Nocturnal</td><td>0.6982916236578486</td><td>0.45385026533052464</td></tr><tr><td>Angelo Badalamenti / Patrick Wolf</td><td>0.6987704777958721</td><td>0.39945172400502926</td></tr><tr><td>CMW - Compton's Most Wanted</td><td>0.5743837440339365</td><td>0.3729595817925329</td></tr><tr><td>Eiffel 65</td><td>0.7225592971714011</td><td>0.4665098031149589</td></tr><tr><td>DJ X-Change featuring DJ Joey A</td><td>0.34244014433162095</td><td>0.28128421554929817</td></tr><tr><td>Ragheb Alama</td><td>0.5542264666164733</td><td>0.4249318351787764</td></tr><tr><td>Arkona</td><td>0.6463220620023868</td><td>0.46085314529155835</td></tr><tr><td>Colin James</td><td>0.523962423072147</td><td>0.44086755722970855</td></tr><tr><td>James Scott Skinner</td><td>0.247485184161284</td><td>0.0</td></tr><tr><td>Jo Privat</td><td>0.39145406405090427</td><td>0.3208501295544305</td></tr><tr><td>Steve Chou</td><td>0.4228875566904192</td><td>0.29624881058023994</td></tr><tr><td>Patti Smith</td><td>0.7370012768920197</td><td>0.504964405986607</td></tr><tr><td>Jaguares</td><td>0.6682049606272</td><td>0.4943812090858947</td></tr><tr><td>Ben Sidran</td><td>0.5999351719472565</td><td>0.356795543166664</td></tr><tr><td>Cactus</td><td>0.5183101267586124</td><td>0.3981810549843257</td></tr><tr><td>Dealership</td><td>0.494911483413335</td><td>0.3071887090406312</td></tr><tr><td>Super700</td><td>0.5716403680515861</td><td>0.411495406281723</td></tr><tr><td>Black Tambourine</td><td>0.5758057152739557</td><td>0.3971703414501831</td></tr><tr><td>James Blackwood with The Light Crust Doughboys</td><td>0.36768074515126326</td><td>0.0</td></tr><tr><td>The Sterns</td><td>0.48787193246557115</td><td>0.367464833037383</td></tr><tr><td>Time Zone</td><td>0.46977960026764576</td><td>0.3458666651020481</td></tr><tr><td>Kelly Sweet</td><td>0.6061460761906468</td><td>0.4300356108586407</td></tr><tr><td>Prince & Tevin Campbell</td><td>0.8319289485282608</td><td>0.5946278669439055</td></tr><tr><td>Os Gaiteiros de Soutelo</td><td>0.3043006433936292</td><td>0.0</td></tr><tr><td>X-ecutioners featuring Tom Tom Club & Biz Markie</td><td>0.6192606048777783</td><td>0.41693587166116425</td></tr><tr><td>Chris Camozzi</td><td>0.3327377332221258</td><td>0.2580015796283461</td></tr><tr><td>Chatelaine</td><td>0.4813360480067023</td><td>0.4369719312721286</td></tr><tr><td>U2</td><td>0.8435265433330642</td><td>0.7754207057640014</td></tr><tr><td>Creedence Clearwater Revived</td><td>0.36766770988680636</td><td>0.2290287362917185</td></tr><tr><td>Hatebreed</td><td>0.8327574313141051</td><td>0.5463837481981597</td></tr><tr><td>Daniel Johnston</td><td>0.7133221465467204</td><td>0.4736131893753991</td></tr><tr><td>Trick Trick / Eminem</td><td>0.6044790069718515</td><td>0.39048953512187623</td></tr><tr><td>The Sun Harbor's Chorus-Documentary Recordings</td><td>0.3758941716421044</td><td>0.24913722953955114</td></tr><tr><td>Geggy Tah</td><td>0.5183370258223012</td><td>0.33533510832863395</td></tr><tr><td>Doyle Bramhall</td><td>0.6285601559358945</td><td>0.29296817047544627</td></tr><tr><td>Moraes Moreira</td><td>0.4617414933052843</td><td>0.33425247404349007</td></tr><tr><td>Baby Bash</td><td>0.8338938078525133</td><td>0.6021154546672973</td></tr><tr><td>Shunza</td><td>0.11454804617962795</td><td>0.0</td></tr><tr><td>Pennywise</td><td>0.8169981890795497</td><td>0.5122291893908338</td></tr><tr><td>Kate Clinton</td><td>0.36653793608212737</td><td>0.33201955953798884</td></tr><tr><td>Markscheider Kunst</td><td>0.5414049686341038</td><td>0.4464456618279216</td></tr><tr><td>Orquestra</td><td>0.4817718201419764</td><td>0.28249164570808005</td></tr><tr><td>Play</td><td>0.7226104115222189</td><td>0.3823445779042949</td></tr><tr><td>Bob Hope</td><td>0.43759907186364566</td><td>0.3364197375804766</td></tr><tr><td>Terror Squad featuring Big Pun</td><td>0.6213619102466308</td><td>0.3950738187400653</td></tr><tr><td>Michelle Wright</td><td>0.5131368174012146</td><td>0.37146541025100527</td></tr><tr><td>Bob McKenzie / Doug McKenzie</td><td>0.332466938344621</td><td>0.3044969336458154</td></tr><tr><td>Sivuca & Camerata Brasílica</td><td>0.4796207472295076</td><td>0.3243342048085304</td></tr><tr><td>Paris_ Texas</td><td>0.5139322636770347</td><td>0.2909063254259155</td></tr><tr><td>Abner Burnette</td><td>0.22419313842204025</td><td>0.42041261759961973</td></tr><tr><td>Xcultures</td><td>0.4004335134580979</td><td>0.26627528554651025</td></tr><tr><td>Eddie</td><td>0.6226841673398639</td><td>0.3651164472904305</td></tr><tr><td>DJ Dips</td><td>0.39257016560810254</td><td>0.31398973328035057</td></tr><tr><td>Antonis Remos</td><td>0.29911776637426124</td><td>0.0</td></tr><tr><td>DJ Ostkurve</td><td>0.4017088742880177</td><td>0.0</td></tr><tr><td>MN</td><td>0.45393336167444404</td><td>0.32919497765107164</td></tr><tr><td>The High Strung</td><td>0.5999446698556915</td><td>0.3968002189789247</td></tr><tr><td>Mudhoney</td><td>0.6726805928835385</td><td>0.4763891088258561</td></tr><tr><td>Tum Tum</td><td>0.592494980055643</td><td>0.35062894689721674</td></tr><tr><td>Willie Clancy</td><td>0.3462368107029975</td><td>0.2848243557918731</td></tr><tr><td>Bob Marley</td><td>0.7791929657520082</td><td>0.570106511951141</td></tr><tr><td>Lonnie Johnson</td><td>0.558905158388185</td><td>0.4048271165593455</td></tr><tr><td>Mithotyn</td><td>0.5481851957102345</td><td>0.3611059375374605</td></tr><tr><td>Onyx</td><td>0.6365823790006426</td><td>0.42128726251105253</td></tr><tr><td>The Paul Butterfield Blues Band</td><td>0.45393580535167805</td><td>0.3954788611599233</td></tr><tr><td>Jeff Talmadge</td><td>0.4197553662875338</td><td>0.31783841080089725</td></tr><tr><td>Beenie Man Featuring Janet Jackson</td><td>0.7292122740965461</td><td>0.48133930857423185</td></tr><tr><td>Juliette & The Licks</td><td>0.7208092205760908</td><td>0.4559156292170878</td></tr><tr><td>Taylor Swift</td><td>0.8897492196471154</td><td>0.8974298332648715</td></tr><tr><td>Lightnin' Hopkins</td><td>0.7091984546610177</td><td>0.45577485357028213</td></tr><tr><td>089 Clique feat. Prophet</td><td>0.4399936927978003</td><td>0.0</td></tr><tr><td>Jeremy Fisher</td><td>0.607327068135898</td><td>0.5004501862956541</td></tr><tr><td>Dilated Peoples Featuring Capleton</td><td>0.8048388888270448</td><td>0.45784115609436704</td></tr><tr><td>Timbalada</td><td>0.5419283596660456</td><td>0.3738563445216253</td></tr><tr><td>Arne Weise</td><td>0.19966808485160387</td><td>0.0</td></tr><tr><td>G Unit ft. 50 Cent_ Lloyd Banks & Tony Yayo</td><td>0.8453733038122141</td><td>0.5344297136566577</td></tr><tr><td>Havok</td><td>0.6256343816115406</td><td>0.4168717661517543</td></tr><tr><td>Fulanito</td><td>0.5665379919676716</td><td>0.37571165345897</td></tr><tr><td>Busdriver</td><td>0.6180027149087711</td><td>0.34947632719784977</td></tr><tr><td>Blind Blake & The Royal Victoria Hotel Calypsos</td><td>0.5217122143644578</td><td>0.3513450770925733</td></tr><tr><td>Scar Symmetry</td><td>0.7138381362819012</td><td>0.4558259788030443</td></tr><tr><td>Orquesta Broadway</td><td>0.39885871321158833</td><td>0.3410613992194141</td></tr><tr><td>Various Indian Tribes</td><td>0.03550242022064674</td><td>0.137659673230993</td></tr><tr><td>Carl Crack</td><td>0.3792180605659784</td><td>0.29478990364016155</td></tr><tr><td>Long Beach Dub Allstars</td><td>0.5754126005522645</td><td>0.41735105580296544</td></tr><tr><td>LL Cool J / Freeway</td><td>0.749217793048955</td><td>0.5443219148388789</td></tr><tr><td>Movado</td><td>0.6165098534447004</td><td>0.4287919216156046</td></tr><tr><td>Jimmy McCracklin</td><td>0.42429413010909</td><td>0.3272396060497089</td></tr><tr><td>Motograter</td><td>0.6323196407600796</td><td>0.39425271503998616</td></tr><tr><td>Porno For Pyros</td><td>0.6249671064026375</td><td>0.40971267828672114</td></tr><tr><td>Fleet Foxes</td><td>0.7862120591541235</td><td>0.5476090330976463</td></tr><tr><td>The Small Knives</td><td>0.4420824802425576</td><td>0.3233207311421996</td></tr><tr><td>Billy Murray</td><td>0.4306159634638236</td><td>0.3225499654741361</td></tr><tr><td>Konexion</td><td>0.027730375787217293</td><td>0.0</td></tr><tr><td>Moonsorrow</td><td>0.6466185290996221</td><td>0.4426520030419225</td></tr><tr><td>King Curtis</td><td>0.5756850665867294</td><td>0.3668207876397976</td></tr><tr><td>Leon Russell & New Grass Revival</td><td>0.6342271647350888</td><td>0.443708895002134</td></tr><tr><td>STEVE CAMP</td><td>0.5270787639041354</td><td>0.31442818079602025</td></tr><tr><td>Fudge Tunnel</td><td>0.5266460549313882</td><td>0.3523420130063612</td></tr><tr><td>Emeneya</td><td>0.21408171311864113</td><td>0.0</td></tr><tr><td>Rihanna</td><td>0.9178432781700844</td><td>0.9082026192084819</td></tr><tr><td>Ray Conniff</td><td>0.5557649996003</td><td>0.3765142312148788</td></tr><tr><td>Dine et Déon</td><td>0.43015589450031305</td><td>0.1781988200402047</td></tr><tr><td>Asterisk*</td><td>0.4269478124055993</td><td>0.2947268761139814</td></tr><tr><td>Starless & Bible Black</td><td>0.0</td><td>0.2515999237274326</td></tr><tr><td>Riviera Regime</td><td>0.5355553591392451</td><td>0.17153224239720058</td></tr><tr><td>Saman</td><td>0.7678150638653863</td><td>0.3191032216881931</td></tr><tr><td>Amy Lambert</td><td>0.23183750348947407</td><td>0.22428366322924728</td></tr><tr><td>Cool Connection</td><td>0.0921250734123447</td><td>0.0</td></tr><tr><td>Yvette</td><td>0.45552850503813364</td><td>0.3834668362237058</td></tr><tr><td>Mick Moloney</td><td>0.4605742120420632</td><td>0.30012825264875287</td></tr><tr><td>The Sonics</td><td>0.5816392976164401</td><td>0.44960808830900445</td></tr><tr><td>Anthony Cruz</td><td>0.5344436024147244</td><td>0.3335846278352392</td></tr><tr><td>The Tall Grass</td><td>0.42645184459887914</td><td>0.26859387985460426</td></tr><tr><td>Greis</td><td>0.5516804220491882</td><td>0.39437571994682297</td></tr><tr><td>Murphy Lee / Zee</td><td>0.6057033020608091</td><td>0.42959192002494306</td></tr><tr><td>Damita</td><td>0.5362839890004534</td><td>0.35850077758251947</td></tr><tr><td>Maria Callas/Eugenio Fernandi/Elisabeth Schwarzkopf/Giuseppe Nessi/Nicola Zaccaria/Mario Borriello/Renato Ercolani/Piero de Palma/Giulio Mauri/Elisabetta Fusco/Pinuccia Perotti/Coro del Teatro alla Scala_ Milano/Orchestra del Teatro alla Scala_ Milano/Tul</td><td>0.6128586541080373</td><td>0.36034468591382346</td></tr><tr><td>Louie Ramirez</td><td>0.3305207625085287</td><td>0.22882184828264412</td></tr><tr><td>Richard Smith</td><td>0.3467445104799772</td><td>0.3067840169704845</td></tr><tr><td>Vienna Concert House Orchestra_ Wiener Sängerknaben_ Ferdinand Grossmann</td><td>0.0</td><td>0.0</td></tr><tr><td>Michael English</td><td>0.5928931298703243</td><td>0.34621991956649656</td></tr><tr><td>Neil Innes</td><td>0.4893600464920905</td><td>0.3621134776387494</td></tr><tr><td>Las Ketchup</td><td>0.5932267348502084</td><td>0.3635638516604679</td></tr><tr><td>The Creation</td><td>0.5557874605581772</td><td>0.3544547084781845</td></tr><tr><td>O'2L</td><td>0.37917349589097205</td><td>0.29149863156022204</td></tr><tr><td>Galactic</td><td>0.6904920320241795</td><td>0.4589872578660966</td></tr><tr><td>Tampa Red</td><td>0.5077968849276677</td><td>0.3546029258766705</td></tr><tr><td>Marc Perrone</td><td>0.4561366744349239</td><td>0.2855912715175029</td></tr><tr><td>Brian Eno And David Byrne</td><td>0.6157403530616774</td><td>0.42360891263941286</td></tr><tr><td>Mavado</td><td>0.6943577464366076</td><td>0.5207841069422383</td></tr><tr><td>Danny Elfman</td><td>0.7668262054597053</td><td>0.5494459610037913</td></tr><tr><td>Terminal 11 feat. b.b0Nd</td><td>0.5237902600192696</td><td>0.32705730090543983</td></tr><tr><td>J.B. Lenoir</td><td>0.5205537457116164</td><td>0.35597435894657803</td></tr><tr><td>Johannes Linstead</td><td>0.5796145596913875</td><td>0.4184180965091739</td></tr><tr><td>Gerard Lenorman</td><td>0.5153445179741777</td><td>0.33899997919312697</td></tr><tr><td>Baby Bash / Grimm</td><td>0.8338938078525133</td><td>0.6021154546672973</td></tr><tr><td>Andrae Crouch</td><td>0.4524005818708859</td><td>0.40146205320734124</td></tr><tr><td>Sinch</td><td>0.5379505190876106</td><td>0.4056577581500732</td></tr><tr><td>The Clancy Brothers;Tommy Makem</td><td>0.562597242082877</td><td>0.40895583313300066</td></tr><tr><td>Rocket From The Tombs</td><td>0.4706154005905156</td><td>0.3556464690258315</td></tr><tr><td>Groove Karma</td><td>0.3745700265658916</td><td>0.23393960904934938</td></tr><tr><td>The Glencastle Sound</td><td>0.3502744437115729</td><td>0.2529730657944457</td></tr><tr><td>Zumpano</td><td>0.502942306735046</td><td>0.39635775416309527</td></tr><tr><td>Sister Rosetta Tharpe & Marie</td><td>0.553104832920521</td><td>0.36035044785399334</td></tr><tr><td>Sergio Mendes</td><td>0.6491554310375938</td><td>0.4551913281136325</td></tr><tr><td>Cadacross</td><td>0.5211435203292369</td><td>0.39444029406950937</td></tr><tr><td>Stephen Marley</td><td>0.7248130678122553</td><td>0.47717883383688675</td></tr><tr><td>Little Angels</td><td>0.4637903901983013</td><td>0.41229837137681036</td></tr><tr><td>Sharon Shannon_ Carol Keogh</td><td>0.5851612067387485</td><td>0.3670714492885737</td></tr><tr><td>A-Mei</td><td>0.5378441563336069</td><td>0.36724376615480964</td></tr><tr><td>Kurtis Blow</td><td>0.6051157892275887</td><td>0.44645923791723957</td></tr><tr><td>Rance Allen Group</td><td>0.4582625161319195</td><td>0.2916500235938438</td></tr><tr><td>Mance Lipscomb</td><td>0.4508526851344091</td><td>0.3323898702808034</td></tr><tr><td>Bongzilla</td><td>0.5744007886920006</td><td>0.4460715844124553</td></tr><tr><td>The Real Kids</td><td>0.4848931311955439</td><td>0.3448719221712127</td></tr><tr><td>Zeromancer</td><td>0.6445196917869935</td><td>0.405618981980809</td></tr><tr><td>BigElf</td><td>0.6282908566142944</td><td>0.3641638102724453</td></tr><tr><td>Our Time Down Here</td><td>0.5188067600066829</td><td>0.42968916619680797</td></tr><tr><td>Toots Thielemans</td><td>0.6411728176207399</td><td>0.43676906970906904</td></tr><tr><td>Hushabye Baby</td><td>0.35342955022197026</td><td>0.365514003262653</td></tr><tr><td>Kitty Wells</td><td>0.5514774342720729</td><td>0.38072823961162366</td></tr><tr><td>Pheeroan Aklaff</td><td>0.35969351113356596</td><td>0.0</td></tr><tr><td>Red Stick Ramblers</td><td>0.550752434792912</td><td>0.3760487487497496</td></tr><tr><td>Opiate For The Masses</td><td>0.6526535836079583</td><td>0.40841995001093645</td></tr><tr><td>Cabin Crew</td><td>0.5721443376639826</td><td>0.340750193731799</td></tr><tr><td>Johnny Kidd And The Pirates</td><td>0.5659939389788706</td><td>0.35321520069141527</td></tr><tr><td>Ray Price</td><td>0.5747468650313539</td><td>0.36736869064146993</td></tr><tr><td>Sue Foley</td><td>0.5782235235977704</td><td>0.40220310151136207</td></tr><tr><td>Plies featuring Tank</td><td>0.9195170922254553</td><td>0.5479404294879846</td></tr><tr><td>Serge Desaunay</td><td>0.036103552369306936</td><td>0.0</td></tr><tr><td>Necrodaemon</td><td>0.34688385946705835</td><td>0.0</td></tr><tr><td>John Hammond</td><td>0.506308215383282</td><td>0.41117522520082705</td></tr><tr><td>Xmilk</td><td>0.4621406002070351</td><td>0.32138373011129995</td></tr><tr><td>Cache Cache</td><td>0.48363987819990845</td><td>0.3393712142461008</td></tr><tr><td>Joi</td><td>0.6790118688100006</td><td>0.36087146537460557</td></tr><tr><td>Tim Exile</td><td>0.6205019249164577</td><td>0.3018470948111364</td></tr><tr><td>Panzer AG</td><td>0.5886080865488486</td><td>0.37361111191126956</td></tr><tr><td>Steve Azar</td><td>0.5508742244754086</td><td>0.3943452753722506</td></tr><tr><td>Rebecca Lynn Howard</td><td>0.6854353836435828</td><td>0.43266935290740416</td></tr><tr><td>Alain Turban</td><td>0.41193900753627105</td><td>0.0</td></tr><tr><td>ZO2</td><td>0.5956609047408887</td><td>0.3452411367594495</td></tr><tr><td>Plasmatics</td><td>0.5578751684218033</td><td>0.3593247265042632</td></tr><tr><td>The Ghost Of Lemora</td><td>0.48695742941692977</td><td>0.32609905980701764</td></tr><tr><td>Incubus</td><td>0.8992795990782162</td><td>0.5794419378857449</td></tr><tr><td>Luke Bryan</td><td>0.7485361422255534</td><td>0.7025947546160906</td></tr><tr><td>Soilent Green</td><td>0.460409667072096</td><td>0.44234844848420407</td></tr><tr><td>Love Jones</td><td>0.45685284602087284</td><td>0.3403854297065707</td></tr><tr><td>Jesse Malin</td><td>0.7550413499986276</td><td>0.4585920249078077</td></tr><tr><td>Go Fish</td><td>0.4923218705874481</td><td>0.3486099592932765</td></tr><tr><td>Alias</td><td>0.6453679560153077</td><td>0.4230219215750594</td></tr><tr><td>Nora</td><td>0.8399750935384906</td><td>0.5418889720336469</td></tr><tr><td>Organized Konfusion</td><td>0.6837194679130381</td><td>0.4126716309926985</td></tr><tr><td>Rah Digga (Featuring Outsidaz)</td><td>0.5832316045878672</td><td>0.41144814277843267</td></tr><tr><td>Zuzu Bollin</td><td>0.4361554247159955</td><td>0.0</td></tr><tr><td>Champion Jack Dupree</td><td>0.5380851649995297</td><td>0.3135007553703385</td></tr><tr><td>Avril</td><td>0.8971780384699787</td><td>0.43823441386890283</td></tr><tr><td>Barley Bree</td><td>0.2823175882878433</td><td>0.0</td></tr><tr><td>D.O.W.N.</td><td>0.7411328018082258</td><td>0.5425339931632684</td></tr><tr><td>Hermeto Pascoal</td><td>0.5792730416866078</td><td>0.40658292930958295</td></tr><tr><td>Eldar</td><td>0.5189128119166423</td><td>0.4001855640103364</td></tr><tr><td>Tony Matterhorn</td><td>0.6639552602267632</td><td>0.42927253416282785</td></tr><tr><td>The Knife</td><td>0.7690988371149553</td><td>0.4878483892451856</td></tr><tr><td>Gershon Kingsley</td><td>0.4769862772605304</td><td>0.33560726423970144</td></tr><tr><td>Light Of The World</td><td>0.4757309775508306</td><td>0.36584157406786777</td></tr><tr><td>Big Daddy Rick</td><td>0.1963120599843201</td><td>0.0</td></tr><tr><td>Del The Funky Homosapien</td><td>0.7326611319120517</td><td>0.4584394682388324</td></tr><tr><td>The Florida Boys</td><td>0.4340263679025057</td><td>0.23451976036910782</td></tr><tr><td>Hunters</td><td>0.5003517104367703</td><td>0.32150497422119517</td></tr><tr><td>Mr. Blue</td><td>0.5016198978554159</td><td>0.22251697531460474</td></tr><tr><td>Charly Garcia</td><td>0.6200271891846529</td><td>0.44037073066611837</td></tr><tr><td>The Sex Pistols</td><td>0.7311842304128983</td><td>0.5492043838770254</td></tr><tr><td>Despina Vandi</td><td>0.632559542284651</td><td>0.41168895978577885</td></tr><tr><td>DMX</td><td>0.8223162359788411</td><td>0.5088131950100051</td></tr><tr><td>Biddu</td><td>0.37066720774606776</td><td>0.29725838406265936</td></tr><tr><td>Les Bantous De La Capitale</td><td>0.4279874916531715</td><td>0.2733657514287392</td></tr><tr><td>Bénabar</td><td>0.6092941551456632</td><td>0.37306049281190096</td></tr><tr><td>Abracadabra</td><td>0.4420161280720587</td><td>0.29269049187019053</td></tr><tr><td>Grace Gale</td><td>0.6122004289215379</td><td>0.31990535386426106</td></tr><tr><td>Spiral Stairs</td><td>0.5067345046837132</td><td>0.39724973501940264</td></tr><tr><td>ISRAEL & NEW BREED</td><td>0.6971131129490103</td><td>0.41703311713480384</td></tr><tr><td>Hound Dog Taylor and The Houserockers</td><td>0.45058559586262714</td><td>0.33682036867351545</td></tr><tr><td>Charlie Louvin</td><td>0.40029603492033755</td><td>0.39134245187534317</td></tr><tr><td>Mohammad Nouri</td><td>0.26821000464815703</td><td>0.36650217418645376</td></tr><tr><td>Koordinate Of Wonders</td><td>0.058400937234881795</td><td>0.0</td></tr><tr><td>Tullycraft</td><td>0.5965936234905801</td><td>0.3700367944235147</td></tr><tr><td>Way Out West</td><td>0.6488501826283618</td><td>0.4561823828015073</td></tr><tr><td>Olive</td><td>0.6075624174257759</td><td>0.4346074012636719</td></tr><tr><td>Temple Of The Dog</td><td>0.6303088461080303</td><td>0.488944201360234</td></tr><tr><td>Oui Oui</td><td>0.44106128409945095</td><td>0.3437719451180466</td></tr><tr><td>Nightwish</td><td>0.8031218402306443</td><td>0.5825584537360038</td></tr><tr><td>Jimmy Witherspoon</td><td>0.5017261734169001</td><td>0.35344185300598147</td></tr><tr><td>Saosin</td><td>0.7550771510720238</td><td>0.5637637522823244</td></tr><tr><td>Jean Lumière</td><td>0.2908264773401513</td><td>0.2618223854964904</td></tr><tr><td>The Kitchen</td><td>0.47525933225962746</td><td>0.0</td></tr><tr><td>Goldfinger</td><td>0.7291494406802604</td><td>0.5222778974185658</td></tr><tr><td>UK Subs</td><td>0.6599449187584954</td><td>0.43469691279710654</td></tr><tr><td>Charlie Peacock</td><td>0.4811802117780876</td><td>0.3794956505687384</td></tr><tr><td>Jack Off Jill</td><td>0.6919564731425232</td><td>0.4603895823113582</td></tr><tr><td>Jimmy McGriff</td><td>0.5902437967911479</td><td>0.3874232710097214</td></tr><tr><td>Lexi</td><td>0.4310149634086798</td><td>0.35290225382037665</td></tr><tr><td>Atreyu</td><td>0.8187642061594973</td><td>0.5924394855278091</td></tr><tr><td>Eyes Set to Kill</td><td>0.7898364388222088</td><td>0.5649692527979074</td></tr><tr><td>Oceansize</td><td>0.6770166962147779</td><td>0.4900344606385803</td></tr><tr><td>P.O.S</td><td>0.7422021193636035</td><td>0.4641888246173276</td></tr><tr><td>NO-TONE ft.Inusa</td><td>0.39480582365864597</td><td>0.23917479636071767</td></tr><tr><td>Oscar Peterson Trio</td><td>0.5311244928926967</td><td>0.3825281579378538</td></tr><tr><td>Ashbrg</td><td>0.41936966293312367</td><td>0.3331083863033298</td></tr><tr><td>Portobello</td><td>0.4466489379068855</td><td>0.2738910086550566</td></tr><tr><td>Schizoid</td><td>0.49555965151406806</td><td>0.34919221761645924</td></tr><tr><td>Roy Rogers</td><td>0.5103679324691051</td><td>0.4050803533252499</td></tr><tr><td>Bob Wills</td><td>0.4988349749869825</td><td>0.37996076697507797</td></tr><tr><td>Fuzz</td><td>0.479290854130295</td><td>0.3597756615359539</td></tr><tr><td>Pyrolator</td><td>0.4566206872218679</td><td>0.34776698016403446</td></tr><tr><td>Kanye West</td><td>0.8772137459246515</td><td>1.0825025567261237</td></tr><tr><td>Leon Russell</td><td>0.6342269633902287</td><td>0.443708895002134</td></tr><tr><td>Catia Werneck</td><td>0.4938603103901747</td><td>0.3516797712222428</td></tr><tr><td>Tad</td><td>0.5951665849900721</td><td>0.3989088977214786</td></tr><tr><td>Linkin Park</td><td>0.8873860805964897</td><td>0.787134894639172</td></tr><tr><td>Albin Myers</td><td>0.528563793158552</td><td>0.34003073938791123</td></tr><tr><td>Old Man's Child</td><td>0.6354834550741343</td><td>0.4284419402888814</td></tr><tr><td>Bangalafumenga</td><td>0.43145863417931996</td><td>0.0</td></tr><tr><td>Moving Ninja</td><td>0.48657373418447203</td><td>0.31751629804874426</td></tr><tr><td>Southside Johnny Lyon</td><td>0.365086714994351</td><td>0.33040006566008207</td></tr><tr><td>Les Brown</td><td>0.5297880410812457</td><td>0.4201141802650848</td></tr><tr><td>Leona Naess</td><td>0.6271852491605759</td><td>0.3930157300453095</td></tr><tr><td>Becoming The Archetype</td><td>0.6578262934725394</td><td>0.44617054317222404</td></tr><tr><td>Jimmy Johnson</td><td>0.5053782030752867</td><td>0.40368294931031784</td></tr><tr><td>Weedeater</td><td>0.6746337342772888</td><td>0.4211201115246508</td></tr><tr><td>Mitch Ryder & Engerling</td><td>0.4767476813995823</td><td>0.29405319339903574</td></tr><tr><td>Bravehearts featuring Nas and Jully Black</td><td>0.505163004914416</td><td>0.37196026649265634</td></tr><tr><td>Jaco & Mixxmaster</td><td>0.35075530760411905</td><td>0.19742667974466002</td></tr><tr><td>Willie Colon</td><td>0.621629435824529</td><td>0.519120079762355</td></tr><tr><td>Stew</td><td>0.5410779524977934</td><td>0.30454771337183484</td></tr><tr><td>SOJA</td><td>0.6126405242364219</td><td>0.4367829494947106</td></tr><tr><td>Zimbabwe Legit</td><td>0.38472013841978675</td><td>0.0</td></tr><tr><td>Fat Joe</td><td>0.8229085341315784</td><td>0.5720278536807922</td></tr><tr><td>Birmingham Jubilee Singers</td><td>0.3383701545262613</td><td>0.0</td></tr><tr><td>Kzss & Atma</td><td>0.4105886069225466</td><td>0.0</td></tr><tr><td>Lizzy Borden</td><td>0.6098197611515211</td><td>0.41996793577089686</td></tr><tr><td>Wet Wet Wet</td><td>0.6422807694263776</td><td>0.41119568787754324</td></tr><tr><td>Small Faces</td><td>0.6024233344754651</td><td>0.44905257515374747</td></tr><tr><td>Brenda Boykin</td><td>0.4402588221646908</td><td>0.39335933762075587</td></tr><tr><td>Cotton Candy</td><td>0.5590884691695681</td><td>0.40105064610355906</td></tr><tr><td>Phantomsmasher</td><td>0.25265207341009116</td><td>0.3097941493882096</td></tr><tr><td>3 Way Funk</td><td>0.629089814035632</td><td>0.26921295113639365</td></tr><tr><td>DJ Isaac</td><td>0.6164539996521629</td><td>0.4584004939943689</td></tr><tr><td>Vox Dei</td><td>0.49105944647675287</td><td>0.3543846900179031</td></tr><tr><td>Jennifer Clarke</td><td>0.5120253147594293</td><td>0.1610365027127481</td></tr><tr><td>Smiley</td><td>0.6742960860783537</td><td>0.4295777058209317</td></tr><tr><td>Jean Carignan</td><td>0.38023018843118744</td><td>0.2239836989207165</td></tr><tr><td>Xose Manuel Budiño</td><td>0.47574533736302593</td><td>0.2717574484293663</td></tr><tr><td>DJ Vix</td><td>0.5019211636507392</td><td>0.34425375042218076</td></tr><tr><td>Sportsguitar</td><td>0.35676303470686155</td><td>0.2842324457546301</td></tr><tr><td>Nick Jonas & The Administration</td><td>0.5626420079059706</td><td>0.4460839354920225</td></tr><tr><td>Aisha Duo</td><td>0.6380733763602572</td><td>0.4179673472629846</td></tr><tr><td>La Charanga Rubalcaba</td><td>0.2677886148922473</td><td>0.2169749606549394</td></tr><tr><td>Speech</td><td>0.596275993745723</td><td>0.34195999660000126</td></tr><tr><td>The Rambos</td><td>0.42463056463469434</td><td>0.2522077819929179</td></tr><tr><td>Joy Enriquez</td><td>0.5941718921816072</td><td>0.33738757988602186</td></tr><tr><td>Hins Cheung</td><td>0.4250722223352613</td><td>0.36345213067536375</td></tr><tr><td>Jericho</td><td>0.4819831133587578</td><td>0.40574895642118436</td></tr><tr><td>Dinosaur Jr</td><td>0.7497969594005849</td><td>0.5515524551563505</td></tr><tr><td>Pamelo Mounk'a</td><td>0.3286785456686613</td><td>0.2550112582896334</td></tr><tr><td>Jay Pérez</td><td>0.5501038502561703</td><td>0.38623768283972165</td></tr><tr><td>Memphis La Blusera</td><td>0.472247769436684</td><td>0.3167245506978163</td></tr><tr><td>Leigh Jones</td><td>0.5931192721027791</td><td>0.3730007395759258</td></tr><tr><td>Michael Gettel</td><td>0.5106602362805842</td><td>0.3337708451653926</td></tr><tr><td>Yuridia</td><td>0.7015062869017662</td><td>0.364164341184009</td></tr><tr><td>Danny Wright</td><td>0.4908979883911508</td><td>0.3653021909738527</td></tr><tr><td>Jope Ruonansuu</td><td>0.4643625908988418</td><td>0.41784614771379464</td></tr><tr><td>Papoose</td><td>0.7724713126740976</td><td>0.44040744391896935</td></tr><tr><td>Jacques Dutronc</td><td>0.6129531542390639</td><td>0.4545419291512976</td></tr><tr><td>MICHAEL WHITE</td><td>0.44230283023408284</td><td>0.29801223168417307</td></tr><tr><td>Larytta</td><td>0.5208951482409959</td><td>0.2815210881195725</td></tr><tr><td>Los Traileros Del Norte</td><td>0.5031546449330798</td><td>0.3010940912365588</td></tr><tr><td>Flickerstick</td><td>0.6258069281002089</td><td>0.35812107294871603</td></tr><tr><td>Alkonost</td><td>0.5370502242962027</td><td>0.4317314312251263</td></tr><tr><td>Twista Featuring Cee-Lo</td><td>0.8896135547440263</td><td>0.5938083651752645</td></tr><tr><td>Roger Clyne & The Peacemakers</td><td>0.565760016262531</td><td>0.419497926843249</td></tr><tr><td>V'ro</td><td>0.4558575662031043</td><td>0.37529659216883504</td></tr><tr><td>Perfection</td><td>0.4871408009458939</td><td>0.30672097559350214</td></tr><tr><td>Mylon LeFevre</td><td>0.3380939224734462</td><td>0.25900209452546863</td></tr><tr><td>The Radio Department</td><td>0.7394548738996426</td><td>0.5133391958475938</td></tr><tr><td>Reach 454</td><td>0.41716442232685497</td><td>0.31728859770577345</td></tr><tr><td>First Blood</td><td>0.6623740258876866</td><td>0.3888819542043598</td></tr><tr><td>Ras Michael and the Sons of Negus</td><td>0.4221030433845711</td><td>0.3405238268004334</td></tr><tr><td>The Box Tops</td><td>0.6306300375898077</td><td>0.4174996449709784</td></tr><tr><td>Wolfmother</td><td>0.7922555897317167</td><td>0.5669715662185826</td></tr><tr><td>DJ Quik</td><td>0.7120989021279718</td><td>0.41339391128749997</td></tr><tr><td>The Secret Life of Teenage Girls</td><td>0.06257076333095579</td><td>0.23313168694832853</td></tr><tr><td>Mack and Jamie</td><td>0.370429861995241</td><td>0.26626975719270224</td></tr><tr><td>Chango Spasiuk</td><td>0.4682509114975055</td><td>0.41084158724086123</td></tr><tr><td>Matisyahu</td><td>0.8305925064701626</td><td>0.6397981642808125</td></tr><tr><td>Jimmy Cliff</td><td>0.6721999444118557</td><td>0.46678421162847866</td></tr><tr><td>Between The Buried And Me</td><td>0.8405904383361571</td><td>0.5465451619554416</td></tr><tr><td>Coldplay</td><td>0.8650215114996608</td><td>0.9160532282837347</td></tr><tr><td>Scott Krippayne</td><td>0.5570261643754362</td><td>0.3203064969873311</td></tr><tr><td>Bela Fleck And The Flecktones</td><td>0.5665326538181099</td><td>0.27236462632552966</td></tr><tr><td>Cobra Killer</td><td>0.6317418017131599</td><td>0.4645254506711376</td></tr><tr><td>The Steeles</td><td>0.43746358594754686</td><td>0.34678104189114095</td></tr><tr><td>Múm</td><td>0.7139458812470219</td><td>0.4669912722868447</td></tr><tr><td>Baby D</td><td>0.620868047719365</td><td>0.37897186363589425</td></tr><tr><td>Fran Perea</td><td>0.5253329136601428</td><td>0.38339432219425473</td></tr><tr><td>Max Steiner</td><td>0.47189487551491605</td><td>0.35549113602485716</td></tr><tr><td>Roger Subirana</td><td>0.3942216683544873</td><td>0.34966962994611317</td></tr><tr><td>Seatrain</td><td>0.400284058934027</td><td>0.28997644927818106</td></tr><tr><td>Dub Pistols feat. TK</td><td>0.6876196662345889</td><td>0.417068912495152</td></tr><tr><td>Karen Peck & New River</td><td>0.32570077099924793</td><td>0.37383289436536393</td></tr><tr><td>Ghost Machine</td><td>0.5937786413028058</td><td>0.40928088377272526</td></tr><tr><td>23rd Turnoff</td><td>0.3073226627395018</td><td>0.0</td></tr><tr><td>Magnatune Compilation</td><td>0.07644737035295708</td><td>0.27217399665428305</td></tr><tr><td>Jah Wobble & Bill Laswell</td><td>0.6781255023273798</td><td>0.4040397337752738</td></tr><tr><td>We Five</td><td>0.44454158376006503</td><td>0.3769583561626902</td></tr><tr><td>Jody Bernal</td><td>0.3913985818041051</td><td>0.0</td></tr><tr><td>David Jalbert</td><td>0.5052373106638819</td><td>0.31311974443621077</td></tr><tr><td>Smartbomb</td><td>0.5624637835796072</td><td>0.3224851056611973</td></tr><tr><td>John Davis</td><td>0.5454352386697442</td><td>0.38763547770598455</td></tr><tr><td>Maurice Larcange</td><td>0.3602418012082646</td><td>0.279642625276782</td></tr><tr><td>Chico</td><td>0.504447582619328</td><td>0.36648330175813837</td></tr><tr><td>Séamus Egan</td><td>0.4771800087520739</td><td>0.32795475415321146</td></tr><tr><td>Mil</td><td>0.6409716825781632</td><td>0.2716648787085755</td></tr><tr><td>John Stevens</td><td>0.4962914691939757</td><td>0.3763493227493786</td></tr><tr><td>Wilks featuring pee wee ellis</td><td>0.3511824538830121</td><td>0.08016693866425</td></tr><tr><td>Gov't Mule</td><td>0.6971741834274382</td><td>0.5275485822878766</td></tr><tr><td>D.A.R.</td><td>0.5177077519253539</td><td>0.2581119880277058</td></tr><tr><td>Hi-Tack</td><td>0.49725419334485377</td><td>0.4257688838906011</td></tr><tr><td>Klubbingman feat. Beatrix Delgado</td><td>0.5790894490033919</td><td>0.35970604731380074</td></tr><tr><td>HardNox</td><td>0.5130813777205246</td><td>0.31119808019831713</td></tr><tr><td>Kevin Max</td><td>0.5994647627472443</td><td>0.39274731080277514</td></tr><tr><td>Montserrat Caballé</td><td>0.5221971752411875</td><td>0.39137058721808954</td></tr><tr><td>Catherine King/Matthew Schwinghammer/The American Boychoir</td><td>0.40982763502826935</td><td>0.2918834217879059</td></tr><tr><td>The Freedom</td><td>0.5296593308867515</td><td>0.31311203183458997</td></tr><tr><td>Zachary Richard</td><td>0.4814450922686157</td><td>0.3228797950126099</td></tr><tr><td>Her Majesty's Finest</td><td>0.3163847113372829</td><td>0.0</td></tr><tr><td>Jill Paquette</td><td>0.38453308608953346</td><td>0.27669883102321097</td></tr><tr><td>Ellen McIlwaine</td><td>0.43888747505017295</td><td>0.3251485709173023</td></tr><tr><td>The Killers</td><td>0.9184517888889826</td><td>0.8242472918844966</td></tr><tr><td>Extreme</td><td>0.717991695486114</td><td>0.4977114441406651</td></tr><tr><td>Ini Kamoze</td><td>0.6218253617513655</td><td>0.4787493500052321</td></tr><tr><td>Marco Beltrami</td><td>0.594832623751445</td><td>0.3786499789617854</td></tr><tr><td>John D. Loudermilk</td><td>0.41424422917234577</td><td>0.28737003459245986</td></tr><tr><td>Tommy Castro</td><td>0.5726162458211238</td><td>0.4155828806804246</td></tr><tr><td>The Lord Weird Slough Feg</td><td>0.5070160807186288</td><td>0.42138826495338527</td></tr><tr><td>Edwin Hawkins</td><td>0.4187014670153261</td><td>0.14468466090957882</td></tr><tr><td>Jack Sheldon</td><td>0.4072431195052308</td><td>0.3156170640787539</td></tr><tr><td>Methods Of Mayhem / Scott Kirkland</td><td>0.3683081396568305</td><td>0.3976478301695002</td></tr><tr><td>Foxy Brown / Total</td><td>0.6876874858721554</td><td>0.4066860994666606</td></tr><tr><td>P.O.D.</td><td>0.8598733119890262</td><td>0.5330853751571502</td></tr><tr><td>Herb Alpert And The Tijuana Brass</td><td>0.5524167322191708</td><td>0.4813690532756141</td></tr><tr><td>Elizete Cardoso</td><td>0.37815044582168983</td><td>0.3128629074131546</td></tr><tr><td>Jean-michel Rotin</td><td>0.5099813426515611</td><td>0.40306610684203775</td></tr><tr><td>Prince With 94 East</td><td>0.4325296591938823</td><td>0.33938512578612073</td></tr><tr><td>Casey Bill Weldon</td><td>0.46421098325082955</td><td>0.0</td></tr><tr><td>Hector</td><td>0.5887266353072353</td><td>0.3685504476390117</td></tr><tr><td>Mr. De'</td><td>0.4438491869741072</td><td>0.26974992542225795</td></tr><tr><td>L.a. Dream Team</td><td>0.414995146405462</td><td>0.26923068798449545</td></tr><tr><td>Shay Torrent</td><td>0.39374141293483095</td><td>0.2362754158691257</td></tr><tr><td>X (Australia)</td><td>0.7040939465198991</td><td>0.4107435775323873</td></tr><tr><td>Oztara</td><td>0.4508777777264901</td><td>0.3131716019482552</td></tr><tr><td>Bobbie Gentry</td><td>0.5824605669027118</td><td>0.38479890996490645</td></tr><tr><td>DJ Spinn featuring Traxman</td><td>0.5153102332305513</td><td>0.2607967782533836</td></tr><tr><td>Tora Tora</td><td>0.5578578500456283</td><td>0.36982344721963717</td></tr><tr><td>Kaija Koo</td><td>0.5008761600501868</td><td>0.3792280690900896</td></tr><tr><td>liquid soul & freq</td><td>0.6290082258599237</td><td>0.3619179264135601</td></tr><tr><td>An Cafe</td><td>0.45537185503230326</td><td>0.3138666001571988</td></tr><tr><td>Vaselines</td><td>0.6063516523001649</td><td>0.41781909051467636</td></tr><tr><td>Oldelaf et Monsieur D</td><td>0.36052101152613164</td><td>0.2799760250330418</td></tr><tr><td>Storyville</td><td>0.5952547644800101</td><td>0.34870219952008724</td></tr><tr><td>Nestor Torres</td><td>0.4859212857211151</td><td>0.3531562974667231</td></tr><tr><td>Rea_ Chris</td><td>0.643182772912233</td><td>0.500691340913453</td></tr><tr><td>H-Town</td><td>0.6142758429530866</td><td>0.3986332861319407</td></tr><tr><td>Randy Stonehill</td><td>0.5479486816889496</td><td>0.32582401925914245</td></tr><tr><td>Annie Blanchard</td><td>0.4797352392070569</td><td>0.35245961591753205</td></tr><tr><td>Richard Hawley And Death Ramps_ Arctic Monkeys</td><td>0.816596710223241</td><td>0.5536612332977672</td></tr><tr><td>The Shirrows</td><td>0.04459591525698877</td><td>0.0</td></tr><tr><td>This Moment In Black History</td><td>0.5466465034851766</td><td>0.21473463816508837</td></tr><tr><td>Edgar De L'est</td><td>0.44211120027219936</td><td>0.16261558232925397</td></tr><tr><td>Bobby Marchan</td><td>0.44979879238170795</td><td>0.32488509518093983</td></tr><tr><td>The Game / Nas</td><td>0.9279859310153593</td><td>0.599859524967033</td></tr><tr><td>Flexy</td><td>0.43992860174580173</td><td>0.26559720863236885</td></tr><tr><td>Esperanza Spalding / Leo Genovese</td><td>0.6742484209608345</td><td>0.46051574170106624</td></tr><tr><td>Bobaflex</td><td>0.5887819593694067</td><td>0.41540895186750293</td></tr><tr><td>Patrizia Pace/Waltraud Meier/Frank Lopardo/James Morris/Swedish Radio Choir/Stockholm Chamber Choir/Berliner Philharmoniker/Riccardo Muti</td><td>0.02823706192010644</td><td>0.2261310732616017</td></tr><tr><td>Big Joe Turner</td><td>0.594464632807191</td><td>0.3645865754085436</td></tr><tr><td>Taboo</td><td>0.5080366162448481</td><td>0.33962756104436337</td></tr><tr><td>Tina Britt</td><td>0.36061366996779365</td><td>0.0</td></tr><tr><td>The Grease Band</td><td>0.32412862831801836</td><td>0.19119399348566748</td></tr><tr><td>Jackie Davis</td><td>0.4613943598497839</td><td>0.3257671803229243</td></tr><tr><td>The Mad Capsule Markets</td><td>0.547684660288279</td><td>0.4370505575231345</td></tr><tr><td>Barrio Obrero</td><td>0.4010201762483526</td><td>0.2973207381866574</td></tr><tr><td>Little Milton</td><td>0.5794237147134707</td><td>0.3864410971038427</td></tr><tr><td>The Tragically Hip</td><td>0.758299703809623</td><td>0.49362943781241375</td></tr><tr><td>Tom Collier</td><td>0.28835077306172935</td><td>0.0</td></tr><tr><td>Dave Valentin</td><td>0.49899167275479245</td><td>0.3253046738296753</td></tr><tr><td>Koffi Olomidé</td><td>0.4534449307485466</td><td>0.31161748493154134</td></tr><tr><td>Screaming Lord Sutch</td><td>0.5252273355598288</td><td>0.3381298642824651</td></tr><tr><td>Les Paul_ Mary Ford</td><td>0.4626423212761609</td><td>0.3700578290505779</td></tr><tr><td>DJ Phiene</td><td>0.4354559573042964</td><td>0.2793958758016093</td></tr><tr><td>George Faith</td><td>0.43319463854408863</td><td>0.295549702547384</td></tr><tr><td>New Found Glory</td><td>0.8918537796888409</td><td>0.5482282091918806</td></tr><tr><td>Crowbar</td><td>0.6938838526148974</td><td>0.49109945330583543</td></tr><tr><td>Juan Carmona; Ricardo Larroze</td><td>0.4109128807304758</td><td>0.3126785596305983</td></tr><tr><td>K.A.L.I.</td><td>0.5433500129660529</td><td>0.399265149721187</td></tr><tr><td>Gwen Stefani</td><td>0.8378720470826208</td><td>0.5328035417971383</td></tr><tr><td>Sonia Dersion</td><td>0.3759621333677302</td><td>0.34987338133306917</td></tr><tr><td>John Frizzell</td><td>0.4328393673069391</td><td>0.3669058527885173</td></tr><tr><td>Behemoth</td><td>0.8421933500213755</td><td>0.5504228248591988</td></tr><tr><td>Cândido</td><td>0.5440663154265842</td><td>0.35193218157389383</td></tr><tr><td>Jimmy Riley</td><td>0.4777247324919735</td><td>0.299705214086752</td></tr><tr><td>Otis Taylor</td><td>0.5907929571811064</td><td>0.3948844378399719</td></tr><tr><td>Devo</td><td>0.7078399684415906</td><td>0.5324458709594074</td></tr><tr><td>AFI</td><td>0.909247283466974</td><td>0.5549385224746309</td></tr><tr><td>Bizzy Bone</td><td>0.7541808331304262</td><td>0.47625416220006334</td></tr><tr><td>Soulwax</td><td>0.8030873549481594</td><td>0.5018259436544124</td></tr><tr><td>Ann Lee</td><td>0.5318292157745828</td><td>0.3457348661635466</td></tr><tr><td>Nana Mouskouri</td><td>0.5882378619955281</td><td>0.3871861471349829</td></tr><tr><td>God Lives Underwater</td><td>0.5644969719384171</td><td>0.36338641535022187</td></tr><tr><td>Jim Smoak & The Louisiana Honeydrippers</td><td>0.2308271430870021</td><td>0.0</td></tr><tr><td>Billy Pilgrim</td><td>0.43017204575703666</td><td>0.354619058459955</td></tr><tr><td>Roger Miller</td><td>0.6512975404193961</td><td>0.41787057814887635</td></tr><tr><td>Joe Turner / Pee Wee Crayton / Sonny Stitt</td><td>0.4736241237475465</td><td>0.3645865754085436</td></tr><tr><td>Orthrelm</td><td>0.5204200530944023</td><td>0.2965536905119507</td></tr><tr><td>David Guetta - Joachim Garraud - Chris Willis</td><td>0.8123195772139676</td><td>0.633409776061689</td></tr><tr><td>Martina McBride</td><td>0.6148709339199385</td><td>0.6282464191914875</td></tr><tr><td>Sandi Thom</td><td>0.6553591154261498</td><td>0.40503129793646875</td></tr><tr><td>Neil Sedaka</td><td>0.7208421831658263</td><td>0.4440256810109478</td></tr><tr><td>Oasis</td><td>0.8345640982768509</td><td>0.5468050567604423</td></tr><tr><td>Shelby Lynne</td><td>0.6856916490003033</td><td>0.5425020961048547</td></tr><tr><td>Kix</td><td>0.5306718939542427</td><td>0.42356389026271546</td></tr><tr><td>Jenney</td><td>0.03604361672910314</td><td>0.0</td></tr><tr><td>Del Tha Funkee Homosapien</td><td>0.7326607219648308</td><td>0.4584394682388324</td></tr><tr><td>Dntel</td><td>0.6974345858436946</td><td>0.4777989877125818</td></tr><tr><td>The Del McCoury Band</td><td>0.6087035683375996</td><td>0.3622189568153928</td></tr><tr><td>Ron Goodwin</td><td>0.4446778705825481</td><td>0.3330153017242651</td></tr><tr><td>Moon Mullican</td><td>0.3867161753601155</td><td>0.281887097438807</td></tr><tr><td>SNAP!</td><td>0.7188102099645777</td><td>0.4639000947923324</td></tr><tr><td>The Cure</td><td>0.8119530400982676</td><td>0.5789935486635668</td></tr><tr><td>Anne Dudley</td><td>0.5432902428659292</td><td>0.35199833790961566</td></tr><tr><td>Jorgen Ingmann</td><td>0.3028578196433144</td><td>0.17785511079856645</td></tr><tr><td>Ty Herndon</td><td>0.6546449746458465</td><td>0.450775217814067</td></tr><tr><td>Pete Miser</td><td>0.5462530728517105</td><td>0.1682020629302813</td></tr><tr><td>Hinge</td><td>0.5618215107787774</td><td>0.34977634545642816</td></tr><tr><td>Groundhogs</td><td>0.5184423040510363</td><td>0.42203383557785346</td></tr><tr><td>Life Long Tragedy</td><td>0.6281966856169188</td><td>0.38080208884980415</td></tr><tr><td>Maurice Chevalier / Françoise Dorin / Marina Hottine / Suzanne Gabriello / Jo Charrier / Marcel Carpentier / Perrette Souplex / Andree Grandjean / Cadet Rivers / Raymond Girerd / Orchestre De Jacques-Henri Rys / Jacques Henri Rys</td><td>0.5024531765214763</td><td>0.3915853290262099</td></tr><tr><td>The Bureau De Change</td><td>0.3432648281095668</td><td>0.20149957735873547</td></tr><tr><td>Henri Pousseur</td><td>0.3809058802724405</td><td>0.25751540347437846</td></tr><tr><td>Peret</td><td>0.548738642273159</td><td>0.33961173191175686</td></tr><tr><td>The Charms</td><td>0.6225679552233179</td><td>0.31992724238883236</td></tr><tr><td>Marilyn Horne / Wiener Opernorchester / Henry Lewis</td><td>0.44585867085349606</td><td>0.3120444556762467</td></tr><tr><td>Gary Nichols</td><td>0.6215977892386508</td><td>0.3864701422367919</td></tr><tr><td>Alain Morisod</td><td>0.35371238575461394</td><td>0.2941618819859714</td></tr><tr><td>Mighty Mighty Bosstones</td><td>0.6992620557763054</td><td>0.4759412895980046</td></tr><tr><td>Tree</td><td>0.5805177765557403</td><td>0.31762454603358753</td></tr><tr><td>Kruger</td><td>0.5328453025595845</td><td>0.3505121318380373</td></tr><tr><td>99 Posse</td><td>0.5475384016896533</td><td>0.47354490861901083</td></tr><tr><td>Tresenlesen</td><td>0.2984096783882951</td><td>0.2150212953240427</td></tr><tr><td>Lupe Fiasco feat. GemStones and Graham Burris</td><td>0.9020629269028733</td><td>0.5546332305741549</td></tr><tr><td>Carroll Thompson</td><td>0.3968178443102914</td><td>0.2974048028708694</td></tr><tr><td>Nikos Kalaintzis</td><td>0.20749124732341506</td><td>0.0</td></tr><tr><td>Luisito Rosario</td><td>0.3293667099902436</td><td>0.1923496946810962</td></tr><tr><td>Faye Adams</td><td>0.3964552539172961</td><td>0.2992303679293693</td></tr><tr><td>Kinky</td><td>0.7396843345988899</td><td>0.5535962334348039</td></tr><tr><td>Sunnyland Slim</td><td>0.4857929193413321</td><td>0.33287056693742817</td></tr><tr><td>C.C. Adcock</td><td>0.42338584679609104</td><td>0.36700796149333836</td></tr><tr><td>Speedball</td><td>0.4866791431655032</td><td>0.36250143392097245</td></tr><tr><td>Pepe Kalle</td><td>0.3375760412468442</td><td>0.0</td></tr><tr><td>Cracker</td><td>0.6405741491675592</td><td>0.4547148410790918</td></tr><tr><td>Nicole C. Mullen</td><td>0.6146429541591771</td><td>0.4390245612067925</td></tr><tr><td>Laid Back</td><td>0.5979630872689875</td><td>0.4233234235917964</td></tr><tr><td>Joe Heaney</td><td>0.40132798622497184</td><td>0.28857861572516413</td></tr><tr><td>Jacques Douai</td><td>0.31385115159841964</td><td>0.14519082979005077</td></tr><tr><td>Cats In Boots</td><td>0.384681056924534</td><td>0.3017449095846954</td></tr><tr><td>José Roberto Bertrami</td><td>0.4114072705319423</td><td>0.3151677119219265</td></tr><tr><td>Mark Feldman_ John Taylor_ Anders Jormin_ Tom Rainey</td><td>0.46519345984702754</td><td>0.3497880682154279</td></tr><tr><td>Kurupt</td><td>0.6328520165748289</td><td>0.41179782681526267</td></tr><tr><td>Virgil Moorefield</td><td>0.3207357599265818</td><td>0.0</td></tr><tr><td>Gathering</td><td>0.6087198712195456</td><td>0.2447904503325335</td></tr><tr><td>Corderoy</td><td>0.49425281927370995</td><td>0.37130459023439955</td></tr><tr><td>Sukhwinder Singh</td><td>0.5284764718396479</td><td>0.37262150167840585</td></tr><tr><td>Dub Pistols feat. TK & JMS</td><td>0.6876196662345889</td><td>0.417068912495152</td></tr><tr><td>Jean Ferret</td><td>0.39145406405090427</td><td>0.3208501295544305</td></tr><tr><td>Daywind Studio Musicians</td><td>0.43746358594754686</td><td>0.34678104189114095</td></tr><tr><td>Les Rythmes Digitales feat. Nik Kershaw</td><td>0.5908165135922658</td><td>0.3760663614521953</td></tr><tr><td>Frank Sinatra</td><td>0.2916735349936803</td><td>0.44719972200380037</td></tr><tr><td>2-4 Grooves feat. Reki D.</td><td>0.6228299968847893</td><td>0.4269442562357665</td></tr><tr><td>Boots Randolph</td><td>0.5448354309231243</td><td>0.33186355680198415</td></tr><tr><td>Rene Touzet</td><td>0.3301395969035168</td><td>0.2491274550133321</td></tr><tr><td>Azukx</td><td>0.1925713406621197</td><td>0.0</td></tr><tr><td>Widespread Bloodshed</td><td>0.36987695823196864</td><td>0.2800618575440023</td></tr><tr><td>Sugarbomb</td><td>0.4843111624870436</td><td>0.3518418956973318</td></tr><tr><td>The London Pops Orchestra</td><td>0.32197509925246204</td><td>0.24453220533902725</td></tr><tr><td>Organ Donors</td><td>0.4672359160951003</td><td>0.4228986301663171</td></tr><tr><td>Orquesta Sublime</td><td>0.49624473660552987</td><td>0.30474365953929233</td></tr><tr><td>Tina Ann</td><td>0.5248345988555921</td><td>0.38000466715536985</td></tr><tr><td>Los Del Rio</td><td>0.44772507538755363</td><td>0.3511702117219038</td></tr><tr><td>Nancy Walker</td><td>0.40013406200796275</td><td>0.16004853486477877</td></tr><tr><td>Elli Kokkinou</td><td>0.31197454557238524</td><td>0.2606967880378364</td></tr><tr><td>La Bergère</td><td>0.4210598135709567</td><td>0.0</td></tr><tr><td>Babbu Maan</td><td>0.4480665608281832</td><td>0.304830331568971</td></tr><tr><td>Patricia Kaas</td><td>0.630795369641182</td><td>0.39819671744709595</td></tr><tr><td>David Johansen</td><td>0.450821298261678</td><td>0.3121908871896026</td></tr><tr><td>FSTZ</td><td>0.31517127825647356</td><td>0.14141924925208998</td></tr><tr><td>089 Clique feat. Minnesota Snipe & Skinny Cueball</td><td>0.4399936927978003</td><td>0.0</td></tr><tr><td>Brenda Lee</td><td>0.6693715019351177</td><td>0.5669124072815322</td></tr><tr><td>Noah Lewis</td><td>0.3803411536117872</td><td>0.0</td></tr><tr><td>Sleepy D</td><td>0.07512476163907388</td><td>0.0</td></tr><tr><td>D'Molls</td><td>0.3726755831274244</td><td>0.2520844264180082</td></tr><tr><td>Los Cumbieros Del Sur</td><td>0.41464582437751</td><td>0.0</td></tr><tr><td>Premiums</td><td>0.34443819648993357</td><td>0.30732398352392937</td></tr><tr><td>Bingo Players</td><td>0.40067450487201595</td><td>0.23643380474148568</td></tr><tr><td>DJ Rashad featuring DJ Chi Boogie</td><td>0.4028001989899977</td><td>0.3668472075699554</td></tr><tr><td>Wyclef Jean featuring will.i.am and Melissa Jiménez;Wyclef Jean featuring Machel Montano_ Daniela Mercury_ Black Alex_ and Djakout Mizik</td><td>0.7914655421770528</td><td>0.47788930391586204</td></tr><tr><td>Richard Souther</td><td>0.41994314843493924</td><td>0.33080635685585685</td></tr><tr><td>Marcus Miller</td><td>0.6954165190418939</td><td>0.4121104952052674</td></tr><tr><td>Modeselektor</td><td>0.7411952394747722</td><td>0.3957935459099355</td></tr><tr><td>Pedro Aznar</td><td>0.5977029042110494</td><td>0.43773596834452544</td></tr><tr><td>Maurane</td><td>0.58048134794179</td><td>0.41261081923196263</td></tr><tr><td>GWAR</td><td>0.687023631104995</td><td>0.475085634411099</td></tr><tr><td>Dive</td><td>0.6151068464217128</td><td>0.3456102035553218</td></tr><tr><td>Otis Spann</td><td>0.5344643522287597</td><td>0.3686893725480519</td></tr><tr><td>The Jackson Southernaires</td><td>0.3230089909532322</td><td>0.3114376403272833</td></tr><tr><td>Juana Molina</td><td>0.7036648899166419</td><td>0.44822358922684985</td></tr><tr><td>Chuck Wicks</td><td>0.7699678192633778</td><td>0.480812448609679</td></tr><tr><td>Beenie Man</td><td>0.729212274096546</td><td>0.4813393085742318</td></tr><tr><td>Oscar Castro-Neves</td><td>0.35406552231656824</td><td>0.2705580182187266</td></tr><tr><td>Kristine W.</td><td>0.620379479284656</td><td>0.4078984664579443</td></tr><tr><td>Energy</td><td>0.6165648063444212</td><td>0.4174057975201058</td></tr><tr><td>George Huff</td><td>0.5895719474773142</td><td>0.3861169077220984</td></tr><tr><td>Erik Tronic</td><td>0.40272116422995424</td><td>0.23955970969682597</td></tr><tr><td>Gail Davies</td><td>0.3321943831413619</td><td>0.23232848937033523</td></tr><tr><td>Leslie Mendelson</td><td>0.49123842225944964</td><td>0.34866476966572346</td></tr><tr><td>Rob Mullins</td><td>0.4179360568274809</td><td>0.3224678213454545</td></tr><tr><td>Eko Fresh feat. Summer Cem & DJ Ses</td><td>0.6894947649928427</td><td>0.3559056297814026</td></tr><tr><td>Clannad</td><td>0.6846275539188404</td><td>0.45576904042948735</td></tr><tr><td>Click / Click_ M_Ferri</td><td>0.6454432714705122</td><td>0.31112311013223287</td></tr><tr><td>Big Rich</td><td>0.7117836809765571</td><td>0.40736477371133695</td></tr><tr><td>Suburbs</td><td>0.48100458301758264</td><td>0.3356518391847009</td></tr><tr><td>The Nelons</td><td>0.381481861314382</td><td>0.3502138249441181</td></tr><tr><td>Jim Kweskin</td><td>0.3417231507961205</td><td>0.28078804646480143</td></tr><tr><td>Leroy Hutson</td><td>0.5303556678749041</td><td>0.39717904259160935</td></tr><tr><td>New Order</td><td>0.7207110575919069</td><td>0.522047955191613</td></tr><tr><td>Latif</td><td>0.646277331310185</td><td>0.34481362496248247</td></tr><tr><td>Buddy Miles</td><td>0.5963498543267984</td><td>0.41842959788461026</td></tr><tr><td>Voyager Series</td><td>0.3276754373509238</td><td>0.2696935503839324</td></tr><tr><td>Charlie Walker</td><td>0.536546301483389</td><td>0.35954231276126625</td></tr><tr><td>Fortitude</td><td>0.46882765557460593</td><td>0.3751355089834346</td></tr><tr><td>The MC5</td><td>0.6548608223430427</td><td>0.4514660603634324</td></tr><tr><td>2-Gether feat. Sarinah</td><td>0.5394785833490315</td><td>0.38616081433104726</td></tr><tr><td>Fast Eddie featuring Kool Rock</td><td>0.5332868803445101</td><td>0.4254545800644876</td></tr><tr><td>The Jam</td><td>0.7781427230552</td><td>0.547746274612012</td></tr><tr><td>Dezz White</td><td>0.3510663903409733</td><td>0.25802870378298154</td></tr><tr><td>Head Horny's</td><td>0.49122370788408287</td><td>0.27143425187640424</td></tr><tr><td>Marquez the Greatest</td><td>0.35908199343880004</td><td>0.2735605257300925</td></tr><tr><td>Paul Carrack</td><td>0.5916020057286843</td><td>0.37549696407171224</td></tr><tr><td>Mario Piu</td><td>0.5665082259541022</td><td>0.3864267491428221</td></tr><tr><td>Pantanito</td><td>0.4250705644168449</td><td>0.0</td></tr><tr><td>LaWanda Page</td><td>0.28752135441888876</td><td>0.18584454879260465</td></tr><tr><td>Savoy Brown</td><td>0.6059472299047571</td><td>0.3842902280818292</td></tr><tr><td>BMX Bandits</td><td>0.5810289831955022</td><td>0.3485530284354946</td></tr><tr><td>Kathy Troccoli with Aaron Jeoffrey</td><td>0.5336595926316837</td><td>0.3658223691365675</td></tr><tr><td>Roger McGuinn</td><td>0.24113375341058682</td><td>0.41643518358517334</td></tr><tr><td>Bob Neuwirth</td><td>0.43427203744951265</td><td>0.30150246185842855</td></tr><tr><td>George Lopez</td><td>0.6680202487233046</td><td>0.5169637307383411</td></tr><tr><td>Percy Faith And His Orchestra</td><td>0.43763471807167803</td><td>0.36134021043150916</td></tr><tr><td>MxPx</td><td>0.763010513430572</td><td>0.5376756280636735</td></tr><tr><td>Beaver Harris</td><td>0.23330880981250302</td><td>0.10530883406918205</td></tr><tr><td>Rishi Rich</td><td>0.49266950256154113</td><td>0.3313731698994171</td></tr><tr><td>Shirley Caesar</td><td>0.579309488079539</td><td>0.3702735189662959</td></tr><tr><td>Hélio Ziskind</td><td>0.35126929118251227</td><td>0.0</td></tr><tr><td>Wang Chung</td><td>0.6066112636280024</td><td>0.44136658534263323</td></tr><tr><td>Bobby Broom</td><td>0.5320695697982138</td><td>0.3078629003228008</td></tr><tr><td>Klimperei</td><td>0.3949625000942707</td><td>0.310087326212534</td></tr><tr><td>Zombina & The Skeletones</td><td>0.603602148412424</td><td>0.40948425265569705</td></tr><tr><td>Domna Kountouri</td><td>0.05124139585816517</td><td>0.1705924994834402</td></tr><tr><td>Jay-Z</td><td>0.8600332481398372</td><td>0.78141234199446</td></tr><tr><td>Isabelle Adjani</td><td>0.5109770197596682</td><td>0.3750033687100159</td></tr><tr><td>Lot Lorien</td><td>0.43021459654390676</td><td>0.3486503095518187</td></tr><tr><td>Plaza</td><td>0.5133176536709401</td><td>0.2776405887129925</td></tr><tr><td>Ciaran Byrne</td><td>0.4497408395768027</td><td>0.37437516821599354</td></tr><tr><td>Reptil</td><td>0.460062797921414</td><td>0.26702622085020095</td></tr><tr><td>Howie Day</td><td>0.8306423173947309</td><td>0.5460541800663986</td></tr><tr><td>Sub Swara</td><td>0.5327424427385774</td><td>0.4084248884194018</td></tr><tr><td>Daylight Torn</td><td>0.29107024504882967</td><td>0.23829280794184393</td></tr><tr><td>Bobby Hutcherson</td><td>0.5709001037765814</td><td>0.3932927114415497</td></tr><tr><td>SKOLD vs. KMFDM</td><td>0.4892988161340778</td><td>0.35658034177439135</td></tr><tr><td>DJ Nasty</td><td>0.582365878546936</td><td>0.3028554195218622</td></tr><tr><td>Operator</td><td>0.6215875246460589</td><td>0.40193641451485435</td></tr><tr><td>Gonzalo Rubalcaba</td><td>0.5343922941001787</td><td>0.34517431863973785</td></tr><tr><td>Blind Willie Johnson</td><td>0.6018224966083707</td><td>0.4011447414777875</td></tr><tr><td>Hotwire</td><td>0.6303468086968372</td><td>0.3631602022851569</td></tr><tr><td>Eduardo Fernandez / Norbert Blume / English Chamber Orchestra / George Malcolm</td><td>0.431966634726431</td><td>0.3417147306173628</td></tr><tr><td>Jeanne Robertson</td><td>0.3342834348232057</td><td>0.2493203472340653</td></tr><tr><td>Robin Beanland</td><td>0.3853405383129621</td><td>0.3198173860715626</td></tr><tr><td>The Keys</td><td>0.5304210281378959</td><td>0.37083452968194136</td></tr><tr><td>Ghetto Mafia</td><td>0.408796736678439</td><td>0.0</td></tr><tr><td>Rockabye Baby!</td><td>0.6941192467616055</td><td>0.45602975370052345</td></tr><tr><td>Lighthouse Family</td><td>0.6632296875667867</td><td>0.4021670475170316</td></tr><tr><td>David Rose</td><td>0.518436402575395</td><td>0.34866534017096623</td></tr><tr><td>Joe Lynn Turner</td><td>0.6200416947183899</td><td>0.3649755953962232</td></tr><tr><td>DJ Spinn</td><td>0.5153102332305513</td><td>0.2607967782533836</td></tr><tr><td>Francky Vincent</td><td>0.5157293511134622</td><td>0.29908830573843337</td></tr><tr><td>Amalia Avgoustaki</td><td>0.02761787701465242</td><td>0.0</td></tr><tr><td>Raphaël</td><td>0.5574602197393447</td><td>0.3861516314132549</td></tr><tr><td>Barry Manilow</td><td>0.6767556553226441</td><td>0.5437060505168373</td></tr><tr><td>AFS</td><td>0.47674864816027335</td><td>0.0</td></tr><tr><td>Bob Marley & The Wailers</td><td>0.7791929657520082</td><td>0.570106511951141</td></tr><tr><td>ZombieSuckers</td><td>0.5097938464081935</td><td>0.40023719767688715</td></tr><tr><td>Oliver Lake Quintet</td><td>0.034617322599199196</td><td>0.0</td></tr><tr><td>Casa Bulga</td><td>0.200729608076517</td><td>0.0</td></tr><tr><td>Barry Künzel</td><td>0.35310790974654516</td><td>0.2563267735551753</td></tr><tr><td>Scheich</td><td>0.44983095380591714</td><td>0.29309801498979604</td></tr><tr><td>A Different Breed of Killer</td><td>0.6230173024121374</td><td>0.3535405082000308</td></tr><tr><td>Orquesta America</td><td>0.394428771407274</td><td>0.2995581758981422</td></tr><tr><td>Ai Ai Ai</td><td>0.46741142804425784</td><td>0.26198171253919367</td></tr><tr><td>!!!</td><td>0.6095389916189053</td><td>0.48213108105290364</td></tr><tr><td>Babbie Mason</td><td>0.3817808805646497</td><td>0.30591777539675086</td></tr><tr><td>Skeletonwitch</td><td>0.6895596901712081</td><td>0.5290395723765623</td></tr><tr><td>Pepper</td><td>0.7651414179080641</td><td>0.4714932266763217</td></tr><tr><td>Cam'Ron / JR Writer</td><td>0.8582706777960948</td><td>0.515325300572259</td></tr><tr><td>J.C. Lodge</td><td>0.4490606088368488</td><td>0.17676690144433763</td></tr><tr><td>Fun Lovin' Criminals</td><td>0.6832060400475407</td><td>0.4848767189541058</td></tr><tr><td>Tyrone Taylor</td><td>0.43207479601527515</td><td>0.2993927871977537</td></tr><tr><td>Bacilos</td><td>0.5955540535132754</td><td>0.40070522715058843</td></tr><tr><td>Peter Tosh</td><td>0.7227339629633907</td><td>0.4654923562443533</td></tr><tr><td>Death SS</td><td>0.48440912262498836</td><td>0.4501290484177503</td></tr><tr><td>The Monroes</td><td>0.5162582580815553</td><td>0.38756169656333034</td></tr><tr><td>\"Ricky Martin Feat. La Mari de \"\"Chambao\"</td><td>0.7309590855000573</td><td>0.4814269364777582</td></tr><tr><td>Long John Hunter</td><td>0.3784085580880031</td><td>0.3171877691384044</td></tr><tr><td>The Rance Allen Group</td><td>0.48800888180325214</td><td>0.3140117898326241</td></tr><tr><td>Tshala Muana</td><td>0.4486440856941158</td><td>0.3255636712011714</td></tr><tr><td>Carl Davis</td><td>0.41528718185876845</td><td>0.31907462389548225</td></tr><tr><td>Tammy Pescatelli</td><td>0.1041869865719754</td><td>0.0</td></tr><tr><td>DCX</td><td>0.46901873521831006</td><td>0.33343232679771556</td></tr><tr><td>Les Paul and Mary Ford</td><td>0.4626423212761609</td><td>0.3700578290505779</td></tr><tr><td>Big Jay Oakerson</td><td>0.2337879913457057</td><td>0.26575366341222106</td></tr><tr><td>Winterlight</td><td>0.4671375506977614</td><td>0.3084860991203661</td></tr><tr><td>Jinx</td><td>0.5565669727879069</td><td>0.43182488836018795</td></tr><tr><td>Luna Orbit Project</td><td>0.4209666667412285</td><td>0.31066189568534663</td></tr><tr><td>Deborah Allen</td><td>0.5107980105115456</td><td>0.35223551654624485</td></tr><tr><td>Prisma</td><td>0.5692758347457628</td><td>0.4067491940050154</td></tr><tr><td>Bebe Winans</td><td>0.6001953927988161</td><td>0.48818138999888305</td></tr><tr><td>ÄI-TIEM</td><td>0.06532732813951624</td><td>0.0</td></tr><tr><td>Michael Bloomfield</td><td>0.4946648179334442</td><td>0.3721798778574063</td></tr><tr><td>Thomas Dolby</td><td>0.6413540809343606</td><td>0.38423056297251057</td></tr><tr><td>Paso Doble</td><td>0.46025092210598406</td><td>0.0</td></tr><tr><td>Ben E. King</td><td>0.6886386535712518</td><td>0.47878007430730035</td></tr><tr><td>Philip Bailey</td><td>0.5132644760400453</td><td>0.33407266881677433</td></tr><tr><td>Lil Boosie</td><td>0.8723255970176356</td><td>0.5358910429591184</td></tr><tr><td>Gustavo Santaolalla</td><td>0.6439825914925877</td><td>0.40662621742204</td></tr><tr><td>3 Steps Ahead</td><td>0.5005283534444809</td><td>0.40135421512256614</td></tr><tr><td>Halfway to Gone</td><td>0.5071087396786993</td><td>0.35353262776472605</td></tr><tr><td>Smash Palace</td><td>0.4738629974170709</td><td>0.40470887241695647</td></tr><tr><td>DAVE MATTHEWS BAND</td><td>0.8118900811714377</td><td>0.6480859130133647</td></tr><tr><td>Paulo Flores</td><td>0.4658015888688616</td><td>0.31284833094320696</td></tr><tr><td>Stickboy</td><td>0.5817531364935757</td><td>0.37233551584434355</td></tr><tr><td>David Taylor</td><td>0.4183993103634775</td><td>0.29017466692780897</td></tr><tr><td>Tunsi</td><td>0.4738039250123142</td><td>0.31672195348599</td></tr><tr><td>Lidell Townsell</td><td>0.4316220351586416</td><td>0.3070843081171468</td></tr><tr><td>Geiom Feat. Marita</td><td>0.5050991390562366</td><td>0.38091717062497904</td></tr><tr><td>Mr Lab!</td><td>0.5393117280417092</td><td>0.3437528970000622</td></tr><tr><td>Paul Overman</td><td>0.16485330120346647</td><td>0.0</td></tr><tr><td>Kirk Franklin</td><td>0.7520580962372019</td><td>0.4863705097457527</td></tr><tr><td>Jere McAllister</td><td>0.4316220351586416</td><td>0.3070843081171468</td></tr><tr><td>Big Rich featuring Devo</td><td>0.7117836809765571</td><td>0.40736477371133695</td></tr><tr><td>Dictafone</td><td>0.5164895170173499</td><td>0.13294601118708804</td></tr><tr><td>Salt-N-Pepa</td><td>0.6923445305736569</td><td>0.5192881204083811</td></tr><tr><td>Deep Blue Something</td><td>0.6558886686737124</td><td>0.4097293787891668</td></tr><tr><td>Yung Joc</td><td>0.8512180638530791</td><td>0.5104900809935683</td></tr><tr><td>Chimaira</td><td>0.8374501282954904</td><td>0.47676086709831694</td></tr><tr><td>Sapo</td><td>0.48087292458404746</td><td>0.3811064916799453</td></tr><tr><td>Irma Thomas</td><td>0.6238237678518291</td><td>0.4411063591444711</td></tr><tr><td>Groucho Marx</td><td>0.4265127607348456</td><td>0.4346218524642435</td></tr><tr><td>Ice</td><td>0.6491557735314687</td><td>0.34593570218633163</td></tr><tr><td>John Mayall</td><td>0.6446233218842091</td><td>0.40266219913199947</td></tr><tr><td>Deep Puddle Dynamics</td><td>0.5071263100439816</td><td>0.3579856977333384</td></tr><tr><td>Polkaholix</td><td>0.4697881611224668</td><td>0.4357986452160094</td></tr><tr><td>Mr. Kilombo</td><td>0.5228082845174962</td><td>0.3588878294951296</td></tr><tr><td>The Roots / Jaguar</td><td>0.8627954137489581</td><td>0.6002824907473767</td></tr><tr><td>Midwest Product</td><td>0.5281074677262658</td><td>0.34833290898056585</td></tr><tr><td>Eko Fresh feat. Ado</td><td>0.6894947649928427</td><td>0.3559056297814026</td></tr><tr><td>Tiny Tim/Cast/Ghost Of Christmas Present/Scrooge</td><td>0.5934960438312681</td><td>0.4048973354801111</td></tr><tr><td>Harald Kloser</td><td>0.500388858998459</td><td>0.35562594621770727</td></tr><tr><td>Death Cab for Cutie</td><td>0.8312536499643949</td><td>0.6014272039115601</td></tr><tr><td>Vuneny</td><td>0.5508627546551241</td><td>0.32398405449830525</td></tr><tr><td>Leland Martin</td><td>0.38514335108945025</td><td>0.2721901520589511</td></tr><tr><td>Delroy Wilson</td><td>0.5834430235496894</td><td>0.3857876145843115</td></tr><tr><td>Mariano Yanani</td><td>0.3797345117455375</td><td>0.31386609958029293</td></tr><tr><td>Evergreen Terrace</td><td>0.8251920292669888</td><td>0.5291659021019358</td></tr><tr><td>Sofi Marinova</td><td>0.4485305418592766</td><td>0.38528564261478293</td></tr><tr><td>Vrse Murphy</td><td>0.4391513754413694</td><td>0.29966742755216763</td></tr><tr><td>De La Soul / MF Doom</td><td>0.7456251877421854</td><td>0.5130656545045009</td></tr><tr><td>The Last Days Of Jesus</td><td>0.5237035972040383</td><td>0.3543073532757172</td></tr><tr><td>Rooney</td><td>0.7754945075880668</td><td>0.5426018702160604</td></tr><tr><td>D:Fuse vs The Scumfrog</td><td>0.5374253096699335</td><td>0.3057340310842137</td></tr><tr><td>Nikos Xilouris</td><td>0.46000662804255893</td><td>0.0</td></tr><tr><td>Killers</td><td>0.9184517888889826</td><td>0.8195882822285578</td></tr><tr><td>Porter Wagoner</td><td>0.5921082291438861</td><td>0.37206162812003885</td></tr><tr><td>The Mystic Moods Orchestra</td><td>0.32442221675811933</td><td>0.16979703260637394</td></tr><tr><td>Lynette Schultz</td><td>0.0921250734123447</td><td>0.0</td></tr><tr><td>Leana</td><td>0.510098894399033</td><td>0.3477495590121899</td></tr><tr><td>Lupe Fiasco feat. GemStones</td><td>0.9020629269028733</td><td>0.5546332305741549</td></tr><tr><td>Liquid Spill</td><td>0.4508580633827698</td><td>0.3434660658595638</td></tr><tr><td>Studio</td><td>0.6195777990151731</td><td>0.36333056598371694</td></tr><tr><td>Punk'd Royal</td><td>0.4564680724485116</td><td>0.365075970976099</td></tr><tr><td>Helen Hobson</td><td>0.28171429834299266</td><td>0.0</td></tr><tr><td>Monomonkey</td><td>0.4862200589790597</td><td>0.38477354138946035</td></tr><tr><td>A Static Lullaby</td><td>0.7586787151629478</td><td>0.5575624722214324</td></tr><tr><td>3 Doors Down</td><td>0.8404324537957831</td><td>0.6283537050312692</td></tr><tr><td>Soul Embraced</td><td>0.6276551667388738</td><td>0.3528241940138724</td></tr><tr><td>Burning Spear</td><td>0.6742377995907541</td><td>0.4652702100858289</td></tr><tr><td>Mägo de Oz</td><td>0.6297516051019162</td><td>0.5314117519895055</td></tr><tr><td>\"Dave \"\"Baby\"\" Cortez\"</td><td>0.44615150489083594</td><td>0.31126988471266326</td></tr><tr><td>In Extremo</td><td>0.7490777791573782</td><td>0.4473304871718775</td></tr><tr><td>Jimmy Hughes</td><td>0.45224998598123506</td><td>0.32489400917702077</td></tr><tr><td>Rachael Lampa</td><td>0.62558262471993</td><td>0.46819387431680104</td></tr><tr><td>Bravehearts</td><td>0.505163004914416</td><td>0.37196026649265634</td></tr><tr><td>Tony Ashton & Friends</td><td>0.1598476223277656</td><td>0.0</td></tr><tr><td>Electronic pig</td><td>0.36001552171499535</td><td>0.19664176799852934</td></tr><tr><td>Dottie Rambo_ The Whites</td><td>0.535712478985484</td><td>0.40045045622144987</td></tr><tr><td>Mikey General</td><td>0.5154556541589456</td><td>0.4187362051246881</td></tr><tr><td>Russ Taff</td><td>0.48261530146260223</td><td>0.3621160062202606</td></tr><tr><td>Chris Eaton</td><td>0.48656264320237363</td><td>0.3336632036045475</td></tr><tr><td>María</td><td>0.6429072492271951</td><td>0.35589903845892507</td></tr><tr><td>Oh No</td><td>0.6706428435139353</td><td>0.4267778201164245</td></tr><tr><td>Harry Gregson-Williams</td><td>0.6228749388799568</td><td>0.46124579814347016</td></tr><tr><td>The Golden Age Orchestra_ Paul Summer </td><td>0.32197509925246204</td><td>0.24453220533902725</td></tr><tr><td>Hot Tuna</td><td>0.5672788711826817</td><td>0.405178358907612</td></tr><tr><td>Elva Hsiao</td><td>0.48221286999195057</td><td>0.3745312554413246</td></tr><tr><td>A Perfect Murder</td><td>0.6079199780130808</td><td>0.3987271229661493</td></tr><tr><td>Speaker</td><td>0.6932000535407005</td><td>0.32123723379103947</td></tr><tr><td>Juelz Santana / Bezel</td><td>0.8228432547721751</td><td>0.5314367365425635</td></tr><tr><td>Prince</td><td>0.8319289073299819</td><td>0.5946278669439055</td></tr><tr><td>Astrovamps</td><td>0.5441034694527811</td><td>0.3958356539933544</td></tr><tr><td>Fountains Of Wayne</td><td>0.7177627022534055</td><td>0.5322661862525124</td></tr><tr><td>Commander Cody And His Lost Planet Airman</td><td>0.4874456479269531</td><td>0.38314073102074364</td></tr><tr><td>Marvin Hamlisch</td><td>0.49219933133362154</td><td>0.3449724560901687</td></tr><tr><td>Jeanne Pruett</td><td>0.3988463194994709</td><td>0.31367575227131844</td></tr><tr><td>Liquid Gang</td><td>0.42672367910905545</td><td>0.3327371975770705</td></tr><tr><td>Jean Fauque</td><td>0.519740959226449</td><td>0.3547166203298187</td></tr><tr><td>Berlin</td><td>0.6517726585261778</td><td>0.5244771835768736</td></tr><tr><td>Bonita</td><td>0.4779630135082117</td><td>0.4270153429835595</td></tr><tr><td>TYR</td><td>0.6326087489832906</td><td>0.43185418323886204</td></tr><tr><td>Radio Birdman</td><td>0.6174384612413234</td><td>0.39297728930348147</td></tr><tr><td>Disco D</td><td>0.5182916460696715</td><td>0.3756769293497006</td></tr><tr><td>Five Bolt Main</td><td>0.6090637000310501</td><td>0.3636513650591166</td></tr><tr><td>UFO</td><td>0.6811302418484678</td><td>0.45339908329024603</td></tr><tr><td>GG Allin</td><td>0.6323675939714912</td><td>0.3843277162876662</td></tr><tr><td>Ziggy Marley And The Melody Makers</td><td>0.7504798171418188</td><td>0.5384911275040679</td></tr><tr><td>Republica;Jonny Male;Dave Arch</td><td>0.6147555886925882</td><td>0.396490351911818</td></tr><tr><td>Janis Joplin</td><td>0.8141279566809014</td><td>0.5599258685693549</td></tr><tr><td>K.T. Oslin</td><td>0.5168638782721227</td><td>0.36496860827348665</td></tr><tr><td>Vangelis</td><td>0.77287247431006</td><td>0.47370050129677777</td></tr><tr><td>The Fontane Sisters</td><td>0.3883878539679844</td><td>0.3294326643532808</td></tr><tr><td>DJ Godfather</td><td>0.4912562094922858</td><td>0.3262082546201735</td></tr><tr><td>9th Wonder</td><td>0.7110170210947583</td><td>0.43269522885910233</td></tr><tr><td>Beres Hammond Feat. Natural Black</td><td>0.6810844198440649</td><td>0.453371188064994</td></tr><tr><td>LL Cool J / Amil</td><td>0.749217793048955</td><td>0.5443219148388789</td></tr><tr><td>Melissa Auf der Maur</td><td>0.5699888892338775</td><td>0.36681613379183026</td></tr><tr><td>Sir Neville Marriner</td><td>0.43002498682970675</td><td>0.35303405577540575</td></tr><tr><td>Commander Cody And His Lost Planet Airmen</td><td>0.48354168702336436</td><td>0.33740131682731117</td></tr><tr><td>The Animals_ Sonny Boy Williamson</td><td>0.40737228057002517</td><td>0.4824868021390311</td></tr><tr><td>Nirvana</td><td>0.8258053861924912</td><td>0.6613829243380245</td></tr><tr><td>The Clancy Brothers</td><td>0.562597242082877</td><td>0.40895583313300066</td></tr><tr><td>Jimi Hendrix</td><td>0.8409639009345767</td><td>0.5907492542389727</td></tr><tr><td>Laurindo Almeida</td><td>0.5603342570408378</td><td>0.3419045735408989</td></tr><tr><td>Geiom Ft. Marita</td><td>0.5050991390562366</td><td>0.38091717062497904</td></tr><tr><td>Supertalented</td><td>0.2442721117945255</td><td>0.0</td></tr><tr><td>Autonomous Bass Heads</td><td>0.532678058806903</td><td>0.23101450752597977</td></tr><tr><td>Dark Party</td><td>0.5061684910794044</td><td>0.3842449517139682</td></tr><tr><td>Rodney O_ Joe Cooley</td><td>0.41578460769961484</td><td>0.30790209386949613</td></tr><tr><td>Marc Et Claude</td><td>0.6024282060712299</td><td>0.3804066920288365</td></tr><tr><td>Deborahe Glasgow</td><td>0.3738899787956248</td><td>0.24761331863249805</td></tr><tr><td>Steven Halpern</td><td>0.5254757419134042</td><td>0.3723930968758113</td></tr><tr><td>Lambda</td><td>0.47715129328680733</td><td>0.33408082423590113</td></tr><tr><td>The Dells</td><td>0.5916960688222075</td><td>0.3873331457823412</td></tr><tr><td>Lil Boosie feat. Bun B_ Trae_ Yo Gotti & Foxx</td><td>0.8723255970176356</td><td>0.5358910429591184</td></tr><tr><td>Drouz</td><td>0.4330194367105166</td><td>0.2519681251676274</td></tr><tr><td>Bebe Winans / Stephanie Mills</td><td>0.6001953927988161</td><td>0.48818138999888305</td></tr><tr><td>Jimmy Wayne</td><td>0.7079250270253531</td><td>0.4990183984153171</td></tr><tr><td>Tayfun</td><td>0.47423982112496826</td><td>0.3176268569189271</td></tr><tr><td>The Gaskets</td><td>0.47293841794254965</td><td>0.2872559134404465</td></tr><tr><td>Perez Prado_ His Orchestra</td><td>0.5549815126993878</td><td>0.38472259854619023</td></tr><tr><td>Fontaine Sisters</td><td>0.4172164420950514</td><td>0.3294326643532808</td></tr><tr><td>Markus</td><td>0.5375333077362084</td><td>0.34388404852562177</td></tr><tr><td>Marcel Azzola</td><td>0.31970494188633497</td><td>0.21660646489226862</td></tr><tr><td>Mike Jones (Featuring CJ_ Mello & Lil' Bran)</td><td>0.7936050803712417</td><td>0.42631795640769016</td></tr></tbody></table></div>"
      ]
     },
     "metadata": {},
     "output_type": "display_data"
    }
   ],
   "source": [
    "from pyspark.sql.functions import avg\n",
    "display(metadata_df.select(\"artist_familiarity\",\"artist_hotttness\",\"artist_name\").groupBy(\"artist_name\").agg(avg(\"artist_familiarity\"),avg(\"artist_hotttness\")))"
   ]
  },
  {
   "cell_type": "code",
   "execution_count": 7,
   "metadata": {},
   "outputs": [
    {
     "data": {
      "text/html": [
       "<style scoped>\n",
       "  .ansiout {\n",
       "    display: block;\n",
       "    unicode-bidi: embed;\n",
       "    white-space: pre-wrap;\n",
       "    word-wrap: break-word;\n",
       "    word-break: break-all;\n",
       "    font-family: \"Source Code Pro\", \"Menlo\", monospace;;\n",
       "    font-size: 13px;\n",
       "    color: #555;\n",
       "    margin-left: 4px;\n",
       "    line-height: 19px;\n",
       "  }\n",
       "</style>\n",
       "<div class=\"ansiout\">+--------------------+------------------+-----+\n",
       "              userId|            songId|Plays|\n",
       "+--------------------+------------------+-----+\n",
       "b80344d063b5ccb32...|SOAPDEY12A81C210A9|    1|\n",
       "b80344d063b5ccb32...|SOBBMDR12A8C13253B|    2|\n",
       "b80344d063b5ccb32...|SOBFNSP12AF72A0E22|    1|\n",
       "b80344d063b5ccb32...|SOBFOVM12A58A7D494|    1|\n",
       "b80344d063b5ccb32...|SOBNZDC12A6D4FC103|    1|\n",
       "+--------------------+------------------+-----+\n",
       "only showing top 5 rows\n",
       "\n",
       "+------------------+------------------+\n",
       "            songId|           trackId|\n",
       "+------------------+------------------+\n",
       "SOAAADE12A6D4F80CC|TRSKKFK128F148B615|\n",
       "SOAAADF12A8C13DF62|TRCQMSP128F428A6F7|\n",
       "SOAAADZ12A8C1334FB|TRMDNZY128F425A532|\n",
       "SOAAAFI12A6D4F9C66|TRZEXLQ128F1491D17|\n",
       "SOAAAGK12AB0189572|TRDZUFJ12903CE29FC|\n",
       "+------------------+------------------+\n",
       "only showing top 5 rows\n",
       "\n",
       "+---+----------------+-----------------+------------------+-------------------+------------------+---------------+---------------+----------------+--------------------+----------------+---------------+-----+----------------+-------------------+--------------------+------------------+------------------+------------------+----------------+----------------+\n",
       "   |analyzer_version|artist_7digitalid|artist_familiarity|   artist_hotttness|         artist_id|artist_latitude|artist_location|artist_longitude|         artist_mbid|     artist_name|artist_playmeid|genre|idx_artist_terms|idx_similar_artists|             release|release_7digitalid|   song_hotttnesss|            songId|           title|track_7digitalid|\n",
       "+---+----------------+-----------------+------------------+-------------------+------------------+---------------+---------------+----------------+--------------------+----------------+---------------+-----+----------------+-------------------+--------------------+------------------+------------------+------------------+----------------+----------------+\n",
       "  0|            null|           165270|0.5817937658450281| 0.4019975433642836|ARD7TVE1187B99BFB1|           null|California - LA|            null|e77e51a5-4761-45b...|          Casual|           4479| null|               0|                  0|         Fear Itself|            300848|0.6021199899057548|SOMZWCG12A8C13C480|I Didn&apos;t Mean To|         3401791|\n",
       "  0|            null|             1998|0.6306300375898077| 0.4174996449709784|ARMJAGH1187FB546F3|       35.14968|    Memphis, TN|       -90.04892|1c78ab62-db33-443...|    The Box Tops|          22066| null|               0|                  0|          Dimensions|            300822|              null|SOCIWDW12A8C13D406|       Soul Deep|         3400270|\n",
       "  0|            null|           290021|0.4873567909281477|0.34342837829688244|ARKRRTF1187B9984DA|           null|           null|            null|7a273984-edd9-445...|Sonora Santanera|          13951| null|               0|                  0|Las Numero 1 De L...|            514953|              null|SOXVLOJ12AB0189215| Amor De Cabaret|         5703798|\n",
       "  0|            null|            19072|0.6303823341467806| 0.4542311565706205|AR7G5I41187FB4CE6C|           null|London, England|            null|e188a520-9cb7-4f7...|        Adam Ant|          12697| null|               0|                  0|       Friend Or Foe|            287650|              null|SONHOTT12A8C13493C| Something Girls|         3226795|\n",
       "  0|            null|            30973|0.6510456608317947|0.40172368550367865|ARXR32B1187FB57099|           null|           null|            null|c6903a2e-063c-4f9...|             Gob|           8355| null|               0|                  0|       Muertos Vivos|            611336|0.6045007385888197|SOFSOCN12A8C143F5D|  Face the Ashes|         6795666|\n",
       "+---+----------------+-----------------+------------------+-------------------+------------------+---------------+---------------+----------------+--------------------+----------------+---------------+-----+----------------+-------------------+--------------------+------------------+------------------+------------------+----------------+----------------+\n",
       "only showing top 5 rows\n",
       "\n",
       "</div>"
      ]
     },
     "metadata": {},
     "output_type": "display_data"
    }
   ],
   "source": [
    "# cache the dataframes\n",
    "raw_plays_df.cache()\n",
    "raw_plays_df.show(5)\n",
    "\n",
    "songs2tracks_df.cache()\n",
    "songs2tracks_df.show(5)\n",
    "\n",
    "metadata_df.cache()\n",
    "metadata_df.show(5)"
   ]
  },
  {
   "cell_type": "code",
   "execution_count": 8,
   "metadata": {},
   "outputs": [
    {
     "data": {
      "text/html": [
       "<style scoped>\n",
       "  .ansiout {\n",
       "    display: block;\n",
       "    unicode-bidi: embed;\n",
       "    white-space: pre-wrap;\n",
       "    word-wrap: break-word;\n",
       "    word-break: break-all;\n",
       "    font-family: \"Source Code Pro\", \"Menlo\", monospace;;\n",
       "    font-size: 13px;\n",
       "    color: #555;\n",
       "    margin-left: 4px;\n",
       "    line-height: 19px;\n",
       "  }\n",
       "</style>\n",
       "<div class=\"ansiout\">Number of unique users: 1019318\n",
       "Number of unique songs: 384546\n",
       "Number of unique artists: 3888\n",
       "</div>"
      ]
     },
     "metadata": {},
     "output_type": "display_data"
    }
   ],
   "source": [
    "# change ids from strings to integers - this is needed for ALS\n",
    "userId_change = raw_plays_df.select('userId').distinct()\n",
    "songId_change = raw_plays_df.select('songId').distinct()\n",
    "artistId_change = metadata_df.select('artist_id').distinct()\n",
    "\n",
    "print('Number of unique users: {0}'.format(userId_change.count()))\n",
    "print('Number of unique songs: {0}'.format(songId_change.count()))\n",
    "print('Number of unique artists: {0}'.format(artistId_change.count()))"
   ]
  },
  {
   "cell_type": "code",
   "execution_count": 9,
   "metadata": {},
   "outputs": [
    {
     "data": {
      "text/html": [
       "<style scoped>\n",
       "  .ansiout {\n",
       "    display: block;\n",
       "    unicode-bidi: embed;\n",
       "    white-space: pre-wrap;\n",
       "    word-wrap: break-word;\n",
       "    word-break: break-all;\n",
       "    font-family: \"Source Code Pro\", \"Menlo\", monospace;;\n",
       "    font-size: 13px;\n",
       "    color: #555;\n",
       "    margin-left: 4px;\n",
       "    line-height: 19px;\n",
       "  }\n",
       "</style>\n",
       "<div class=\"ansiout\"></div>"
      ]
     },
     "metadata": {},
     "output_type": "display_data"
    }
   ],
   "source": [
    "# change ids from strings to integers - this is needed for ALS\n",
    "userId_change.createOrReplaceTempView('u')\n",
    "userId_change = spark.sql('select row_number() over (order by \"userId\") as new_userId, * from u')\n",
    "\n",
    "songId_change.createOrReplaceTempView('s')\n",
    "songId_change = spark.sql('select row_number() over (order by \"songId\") as new_songId, * from s')\n",
    "\n",
    "artistId_change.createOrReplaceTempView('a')\n",
    "artistId_change = spark.sql('select row_number() over (order by \"artist_id\") as new_artistId, * from a')"
   ]
  },
  {
   "cell_type": "code",
   "execution_count": 10,
   "metadata": {},
   "outputs": [
    {
     "data": {
      "text/html": [
       "<style scoped>\n",
       "  .ansiout {\n",
       "    display: block;\n",
       "    unicode-bidi: embed;\n",
       "    white-space: pre-wrap;\n",
       "    word-wrap: break-word;\n",
       "    word-break: break-all;\n",
       "    font-family: \"Source Code Pro\", \"Menlo\", monospace;;\n",
       "    font-size: 13px;\n",
       "    color: #555;\n",
       "    margin-left: 4px;\n",
       "    line-height: 19px;\n",
       "  }\n",
       "</style>\n",
       "<div class=\"ansiout\">+----------+--------------------+\n",
       "new_userId|              userId|\n",
       "+----------+--------------------+\n",
       "         1|e0cfa84380bbf815c...|\n",
       "         2|1db81ad6b41ced930...|\n",
       "         3|39e032482d27268ed...|\n",
       "         4|57d49f396c9c00002...|\n",
       "         5|57b9feb2ca204c946...|\n",
       "+----------+--------------------+\n",
       "only showing top 5 rows\n",
       "\n",
       "+----------+------------------+\n",
       "new_songId|            songId|\n",
       "+----------+------------------+\n",
       "         1|SOAMPRJ12A8AE45F38|\n",
       "         2|SOIOXEH12AB0189AC7|\n",
       "         3|SOBTTRJ12A8C141FB4|\n",
       "         4|SOXKBTG12A6D4FA2AF|\n",
       "         5|SOPVQLJ12A67AE2281|\n",
       "+----------+------------------+\n",
       "only showing top 5 rows\n",
       "\n",
       "+------------+------------------+\n",
       "new_artistId|         artist_id|\n",
       "+------------+------------------+\n",
       "           1|AR0IAWL1187B9A96D0|\n",
       "           2|AR1072G1187FB5B351|\n",
       "           3|ARXZIHJ1187B9A4ED9|\n",
       "           4|AR5R7791187FB3A8C3|\n",
       "           5|AR5T4YC1187FB5915E|\n",
       "+------------+------------------+\n",
       "only showing top 5 rows\n",
       "\n",
       "</div>"
      ]
     },
     "metadata": {},
     "output_type": "display_data"
    }
   ],
   "source": [
    "userId_change.cache()\n",
    "userId_change.show(5)\n",
    "\n",
    "songId_change.cache()\n",
    "songId_change.show(5)\n",
    "\n",
    "artistId_change.cache()\n",
    "artistId_change.show(5)"
   ]
  },
  {
   "cell_type": "code",
   "execution_count": 11,
   "metadata": {},
   "outputs": [
    {
     "data": {
      "text/html": [
       "<style scoped>\n",
       "  .ansiout {\n",
       "    display: block;\n",
       "    unicode-bidi: embed;\n",
       "    white-space: pre-wrap;\n",
       "    word-wrap: break-word;\n",
       "    word-break: break-all;\n",
       "    font-family: \"Source Code Pro\", \"Menlo\", monospace;;\n",
       "    font-size: 13px;\n",
       "    color: #555;\n",
       "    margin-left: 4px;\n",
       "    line-height: 19px;\n",
       "  }\n",
       "</style>\n",
       "<div class=\"ansiout\">Number of unique users: 1019318\n",
       "Number of unique songs: 384546\n",
       "Number of unique artists: 3888\n",
       "</div>"
      ]
     },
     "metadata": {},
     "output_type": "display_data"
    }
   ],
   "source": [
    "unique_users = userId_change.count()\n",
    "unique_songs = songId_change.count()\n",
    "unique_artists = artistId_change.count()\n",
    "print('Number of unique users: {0}'.format(unique_users))\n",
    "print('Number of unique songs: {0}'.format(unique_songs))\n",
    "print('Number of unique artists: {0}'.format(unique_artists))"
   ]
  },
  {
   "cell_type": "code",
   "execution_count": 12,
   "metadata": {},
   "outputs": [
    {
     "data": {
      "text/html": [
       "<style scoped>\n",
       "  .ansiout {\n",
       "    display: block;\n",
       "    unicode-bidi: embed;\n",
       "    white-space: pre-wrap;\n",
       "    word-wrap: break-word;\n",
       "    word-break: break-all;\n",
       "    font-family: \"Source Code Pro\", \"Menlo\", monospace;;\n",
       "    font-size: 13px;\n",
       "    color: #555;\n",
       "    margin-left: 4px;\n",
       "    line-height: 19px;\n",
       "  }\n",
       "</style>\n",
       "<div class=\"ansiout\">Number of unique users: 1019318\n",
       "Number of unique songs: 384546\n",
       "Number of unique artists: 3888\n",
       "+------------------+------------------+--------------------+-----+----------+----------+------------+\n",
       "         artist_id|            songId|              userId|Plays|new_userId|new_songId|new_artistId|\n",
       "+------------------+------------------+--------------------+-----+----------+----------+------------+\n",
       "ARXSABJ1187FB3C336|SOCKUUJ12A6D4FA41C|12be039b66971ca07...|    1|    815574|    305499|         626|\n",
       "ARXSABJ1187FB3C336|SOCKUUJ12A6D4FA41C|4cb81273ceae78834...|    5|    816822|    305499|         626|\n",
       "ARXSABJ1187FB3C336|SOCKUUJ12A6D4FA41C|5a4a3b4aeff30080e...|    5|    816806|    305499|         626|\n",
       "ARXSABJ1187FB3C336|SOCKUUJ12A6D4FA41C|632dc6e049c989d1b...|    1|    818443|    305499|         626|\n",
       "ARXSABJ1187FB3C336|SOCKUUJ12A6D4FA41C|921933941000d6cd9...|    1|    816207|    305499|         626|\n",
       "+------------------+------------------+--------------------+-----+----------+----------+------------+\n",
       "only showing top 5 rows\n",
       "\n",
       "</div>"
      ]
     },
     "metadata": {},
     "output_type": "display_data"
    }
   ],
   "source": [
    "# join dataframes - append new Ids\n",
    "raw_plays_df_with_int_ids = raw_plays_df.join(userId_change, 'userId').join(songId_change, 'songId')\n",
    "\n",
    "# join dataframes - append original artist Ids and then new Ids\n",
    "raw_plays_df_with_int_ids = raw_plays_df_with_int_ids.join(metadata_df.select('artist_id', 'songId'), 'songId')\n",
    "raw_plays_df_with_int_ids = raw_plays_df_with_int_ids.join(artistId_change, 'artist_id')\n",
    "\n",
    "# remove half users to make more manageable -- SKIP THIS STEP\n",
    "#raw_plays_df_with_int_ids = raw_plays_df_with_int_ids.filter(raw_plays_df_with_int_ids.new_userId < unique_users/2)\n",
    "\n",
    "print('Number of unique users: {0}'.format(unique_users))\n",
    "print('Number of unique songs: {0}'.format(unique_songs))\n",
    "print('Number of unique artists: {0}'.format(unique_artists))\n",
    "\n",
    "# cache\n",
    "raw_plays_df_with_int_ids.cache()\n",
    "raw_plays_df_with_int_ids.show(5)"
   ]
  },
  {
   "cell_type": "markdown",
   "metadata": {},
   "source": [
    "## Basic Recommendations\n",
    "\n",
    "One way to recommend songs is to simply always recommend the songs with that are most listened to. In this part, We use Spark to find the name, total number of plays, filter those that have been listened to by more that 200 unique users to account for a broad range of appeal"
   ]
  },
  {
   "cell_type": "markdown",
   "metadata": {},
   "source": [
    "### For Songs"
   ]
  },
  {
   "cell_type": "code",
   "execution_count": 15,
   "metadata": {},
   "outputs": [
    {
     "data": {
      "text/html": [
       "<style scoped>\n",
       "  .ansiout {\n",
       "    display: block;\n",
       "    unicode-bidi: embed;\n",
       "    white-space: pre-wrap;\n",
       "    word-wrap: break-word;\n",
       "    word-break: break-all;\n",
       "    font-family: \"Source Code Pro\", \"Menlo\", monospace;;\n",
       "    font-size: 13px;\n",
       "    color: #555;\n",
       "    margin-left: 4px;\n",
       "    line-height: 19px;\n",
       "  }\n",
       "</style>\n",
       "<div class=\"ansiout\">+------------------+----------+-----------+\n",
       "songId            |User_Count|Total_Plays|\n",
       "+------------------+----------+-----------+\n",
       "SOULTKQ12AB018A183|30117     |87366      |\n",
       "SOIZLKI12A6D4F7B61|28286     |75669      |\n",
       "SOEHWGF12A6D4F8B2B|16128     |41301      |\n",
       "+------------------+----------+-----------+\n",
       "only showing top 3 rows\n",
       "\n",
       "</div>"
      ]
     },
     "metadata": {},
     "output_type": "display_data"
    }
   ],
   "source": [
    "song_ids_with_total_listens = raw_plays_df_with_int_ids.groupBy('songId') \\\n",
    "                                                       .agg(F.count(raw_plays_df_with_int_ids.Plays).alias('User_Count'),\n",
    "                                                            F.sum(raw_plays_df_with_int_ids.Plays).alias('Total_Plays')) \\\n",
    "                                                       .orderBy('Total_Plays', ascending = False)\n",
    "\n",
    "song_ids_with_total_listens.show(3, truncate=False)"
   ]
  },
  {
   "cell_type": "code",
   "execution_count": 16,
   "metadata": {},
   "outputs": [
    {
     "data": {
      "text/html": [
       "<style scoped>\n",
       "  .ansiout {\n",
       "    display: block;\n",
       "    unicode-bidi: embed;\n",
       "    white-space: pre-wrap;\n",
       "    word-wrap: break-word;\n",
       "    word-break: break-all;\n",
       "    font-family: \"Source Code Pro\", \"Menlo\", monospace;;\n",
       "    font-size: 13px;\n",
       "    color: #555;\n",
       "    margin-left: 4px;\n",
       "    line-height: 19px;\n",
       "  }\n",
       "</style>\n",
       "<div class=\"ansiout\">+-----------------------------+-------------------------------------------------+------------------+----------+-----------+\n",
       "artist_name                  |title                                            |songId            |User_Count|Total_Plays|\n",
       "+-----------------------------+-------------------------------------------------+------------------+----------+-----------+\n",
       "B.o.B                        |Nothin&apos; On You [feat. Bruno Mars] (Album Version)|SOULTKQ12AB018A183|30117     |87366      |\n",
       "Muse                         |Supermassive Black Hole (Album Version)          |SOIZLKI12A6D4F7B61|28286     |75669      |\n",
       "Shakira Featuring Wyclef Jean|Hips Don&apos;t Lie (featuring Wyclef Jean)           |SOEHWGF12A6D4F8B2B|16128     |41301      |\n",
       "+-----------------------------+-------------------------------------------------+------------------+----------+-----------+\n",
       "only showing top 3 rows\n",
       "\n",
       "</div>"
      ]
     },
     "metadata": {},
     "output_type": "display_data"
    }
   ],
   "source": [
    "song_names_with_plays_df = song_ids_with_total_listens.join(metadata_df, 'songId' ) \\\n",
    "                                                      .filter('User_Count >= 200') \\\n",
    "                                                      .select('artist_name', 'title', 'songId', 'User_Count','Total_Plays') \\\n",
    "                                                      .orderBy('Total_Plays', ascending = False)\n",
    "\n",
    "song_names_with_plays_df.show(3, truncate = False)"
   ]
  },
  {
   "cell_type": "markdown",
   "metadata": {},
   "source": [
    "### For Artists"
   ]
  },
  {
   "cell_type": "code",
   "execution_count": 18,
   "metadata": {},
   "outputs": [
    {
     "data": {
      "text/html": [
       "<style scoped>\n",
       "  .ansiout {\n",
       "    display: block;\n",
       "    unicode-bidi: embed;\n",
       "    white-space: pre-wrap;\n",
       "    word-wrap: break-word;\n",
       "    word-break: break-all;\n",
       "    font-family: \"Source Code Pro\", \"Menlo\", monospace;;\n",
       "    font-size: 13px;\n",
       "    color: #555;\n",
       "    margin-left: 4px;\n",
       "    line-height: 19px;\n",
       "  }\n",
       "</style>\n",
       "<div class=\"ansiout\">+------------------+----------+-----------+\n",
       "         artist_id|User_Count|Total_Plays|\n",
       "+------------------+----------+-----------+\n",
       "ARR3ONV1187B9A2F59|     39983|     110308|\n",
       "ARKQQZA12086C116FC|     30117|      87366|\n",
       "ARQUMH41187B9AF699|     20659|      57866|\n",
       "AR6PJ8R1187FB5AD70|     19858|      50212|\n",
       "AR65K7A1187FB4DAA4|     20093|      46886|\n",
       "+------------------+----------+-----------+\n",
       "only showing top 5 rows\n",
       "\n",
       "</div>"
      ]
     },
     "metadata": {},
     "output_type": "display_data"
    }
   ],
   "source": [
    "# Basic recommendation (popularity) -- ARTISTS\n",
    "\n",
    "artist_ids_with_total_listens = raw_plays_df_with_int_ids.groupBy('artist_id') \\\n",
    "                                                       .agg(F.count(raw_plays_df_with_int_ids.Plays).alias('User_Count'),\n",
    "                                                            F.sum(raw_plays_df_with_int_ids.Plays).alias('Total_Plays')) \\\n",
    "                                                       .orderBy('Total_Plays', ascending = False)\n",
    "artist_ids_with_total_listens.show(5)"
   ]
  },
  {
   "cell_type": "code",
   "execution_count": 19,
   "metadata": {},
   "outputs": [
    {
     "data": {
      "text/html": [
       "<style scoped>\n",
       "  .ansiout {\n",
       "    display: block;\n",
       "    unicode-bidi: embed;\n",
       "    white-space: pre-wrap;\n",
       "    word-wrap: break-word;\n",
       "    word-break: break-all;\n",
       "    font-family: \"Source Code Pro\", \"Menlo\", monospace;;\n",
       "    font-size: 13px;\n",
       "    color: #555;\n",
       "    margin-left: 4px;\n",
       "    line-height: 19px;\n",
       "  }\n",
       "</style>\n",
       "<div class=\"ansiout\">+--------------------+------------------+----------+-----------+\n",
       "         artist_name|         artist_id|User_Count|Total_Plays|\n",
       "+--------------------+------------------+----------+-----------+\n",
       "                Muse|ARR3ONV1187B9A2F59|     39983|     110308|\n",
       "               B.o.B|ARKQQZA12086C116FC|     30117|      87366|\n",
       "         Linkin Park|ARQUMH41187B9AF699|     20659|      57866|\n",
       "             Shakira|AR6PJ8R1187FB5AD70|     19858|      50212|\n",
       "Shakira Featuring...|AR6PJ8R1187FB5AD70|     19858|      50212|\n",
       "+--------------------+------------------+----------+-----------+\n",
       "only showing top 5 rows\n",
       "\n",
       "</div>"
      ]
     },
     "metadata": {},
     "output_type": "display_data"
    }
   ],
   "source": [
    "# Join with metadata to get artist details\n",
    "artist_names_with_plays_df = artist_ids_with_total_listens.join(metadata_df, 'artist_id' ) \\\n",
    "                                                      .filter('User_Count >= 200') \\\n",
    "                                                      .select('artist_name', 'artist_id', 'User_Count','Total_Plays') \\\n",
    "                                                      .distinct() \\\n",
    "                                                      .orderBy('Total_Plays', ascending = False)\n",
    "\n",
    "artist_names_with_plays_df.show(5)"
   ]
  },
  {
   "cell_type": "code",
   "execution_count": 20,
   "metadata": {},
   "outputs": [
    {
     "data": {
      "text/html": [
       "<style scoped>\n",
       "  .ansiout {\n",
       "    display: block;\n",
       "    unicode-bidi: embed;\n",
       "    white-space: pre-wrap;\n",
       "    word-wrap: break-word;\n",
       "    word-break: break-all;\n",
       "    font-family: \"Source Code Pro\", \"Menlo\", monospace;;\n",
       "    font-size: 13px;\n",
       "    color: #555;\n",
       "    margin-left: 4px;\n",
       "    line-height: 19px;\n",
       "  }\n",
       "</style>\n",
       "<div class=\"ansiout\">+------------------+----------+-----------+\n",
       "         artist_id|User_Count|Total_Plays|\n",
       "+------------------+----------+-----------+\n",
       "ARR3ONV1187B9A2F59|     39983|     110308|\n",
       "ARKQQZA12086C116FC|     30117|      87366|\n",
       "ARQUMH41187B9AF699|     20659|      57866|\n",
       "+------------------+----------+-----------+\n",
       "only showing top 3 rows\n",
       "\n",
       "</div>"
      ]
     },
     "metadata": {},
     "output_type": "display_data"
    }
   ],
   "source": [
    "artist_ids_with_total_listens.show(3)"
   ]
  },
  {
   "cell_type": "markdown",
   "metadata": {},
   "source": [
    "## Collaborative Filtering\n",
    "\n",
    "[Collaborative filtering][collab] is a method of making automatic predictions (filtering) about the interests of a user by collecting preferences or taste information from many users (collaborating). The underlying assumption of the collaborative filtering approach is that if a person A has the same opinion as a person B on an issue, A is more likely to have B's opinion on a different issue x than to have the opinion on x of a person chosen randomly. \n",
    "\n",
    "----\n",
    "\n",
    "For song recommendations, we start with a matrix whose entries are number of song plays by users.\n",
    "\n",
    "Since not all users have listened to all songs, we do not know all of the entries in this matrix, which is precisely why we need collaborative filtering.  For each user, we have number of song plays for only a subset of the songs.  With collaborative filtering, the idea is to approximate the matrix by factorizing it as the product of two matrices: one that describes properties of each user, and one that describes properties of each song.\n",
    "\n",
    "\n",
    "We want to select these two matrices such that the error for the users/songs pairs where we know the correct number of plays is minimized.  The Alternating Least Squares (ALS) algorithm does this by first randomly filling the users matrix with values and then optimizing the value of the songs such that the error is minimized.  Then, it holds the songs matrix constant and optimizes the value of the user's matrix.  This alternation between which matrix to optimize is the reason for the \"alternating\" in the name.\n",
    "\n",
    "Given a fixed set of user factors (i.e., values in the users matrix), we use the known number of plays to find the best values for the songs factors using the least squares optimization.  Then we \"alternate\" and pick the best user factors given fixed songs factors."
   ]
  },
  {
   "cell_type": "code",
   "execution_count": 22,
   "metadata": {},
   "outputs": [
    {
     "data": {
      "text/html": [
       "<style scoped>\n",
       "  .ansiout {\n",
       "    display: block;\n",
       "    unicode-bidi: embed;\n",
       "    white-space: pre-wrap;\n",
       "    word-wrap: break-word;\n",
       "    word-break: break-all;\n",
       "    font-family: \"Source Code Pro\", \"Menlo\", monospace;;\n",
       "    font-size: 13px;\n",
       "    color: #555;\n",
       "    margin-left: 4px;\n",
       "    line-height: 19px;\n",
       "  }\n",
       "</style>\n",
       "<div class=\"ansiout\">Training: 464130, validation: 154348, test: 154183\n",
       "\n",
       "+------------------+------------------+--------------------+-----+----------+----------+------------+\n",
       "         artist_id|            songId|              userId|Plays|new_userId|new_songId|new_artistId|\n",
       "+------------------+------------------+--------------------+-----+----------+----------+------------+\n",
       "AR1PCLK1187FB5BBFF|SOJUGKQ12A8C13A83A|03699fa50d944261d...|    1|    427565|       349|        1831|\n",
       "AR1PCLK1187FB5BBFF|SOJUGKQ12A8C13A83A|15ae83218a98bdabc...|    1|    208894|       349|        1831|\n",
       "AR1PCLK1187FB5BBFF|SOJUGKQ12A8C13A83A|193b52a23322f3c38...|    1|    683290|       349|        1831|\n",
       "+------------------+------------------+--------------------+-----+----------+----------+------------+\n",
       "only showing top 3 rows\n",
       "\n",
       "+------------------+------------------+--------------------+-----+----------+----------+------------+\n",
       "         artist_id|            songId|              userId|Plays|new_userId|new_songId|new_artistId|\n",
       "+------------------+------------------+--------------------+-----+----------+----------+------------+\n",
       "AR1PCLK1187FB5BBFF|SOJUGKQ12A8C13A83A|3888b133d6bcd161f...|    3|    534451|       349|        1831|\n",
       "AR1PCLK1187FB5BBFF|SOJUGKQ12A8C13A83A|3d1d9a7e246b95467...|    7|    532304|       349|        1831|\n",
       "AR1PCLK1187FB5BBFF|SOJUGKQ12A8C13A83A|95e728c940b51dc1e...|    5|    229691|       349|        1831|\n",
       "+------------------+------------------+--------------------+-----+----------+----------+------------+\n",
       "only showing top 3 rows\n",
       "\n",
       "+------------------+------------------+--------------------+-----+----------+----------+------------+\n",
       "         artist_id|            songId|              userId|Plays|new_userId|new_songId|new_artistId|\n",
       "+------------------+------------------+--------------------+-----+----------+----------+------------+\n",
       "AR1PCLK1187FB5BBFF|SOJUGKQ12A8C13A83A|2dbe9b45bb2362b87...|    1|    291708|       349|        1831|\n",
       "AR1PCLK1187FB5BBFF|SOJUGKQ12A8C13A83A|56dd58c313226feea...|    1|   1004763|       349|        1831|\n",
       "AR1PCLK1187FB5BBFF|SOJUGKQ12A8C13A83A|a95131cfe02735ab9...|    1|    726012|       349|        1831|\n",
       "+------------------+------------------+--------------------+-----+----------+----------+------------+\n",
       "only showing top 3 rows\n",
       "\n",
       "</div>"
      ]
     },
     "metadata": {},
     "output_type": "display_data"
    }
   ],
   "source": [
    "# We'll hold out 60% for training, 20% of our data for validation, and leave 20% for testing\n",
    "seed = 1\n",
    "(split_60_df, split_a_20_df, split_b_20_df) = raw_plays_df_with_int_ids.randomSplit([0.6, 0.2, 0.2], seed = seed)\n",
    "\n",
    "# Let's cache these datasets for performance\n",
    "training_df = split_60_df.cache()\n",
    "validation_df = split_a_20_df.cache()\n",
    "test_df = split_b_20_df.cache()\n",
    "\n",
    "print('Training: {0}, validation: {1}, test: {2}\\n'.format(\n",
    "  training_df.count(), validation_df.count(), test_df.count())\n",
    ")\n",
    "training_df.show(3)\n",
    "validation_df.show(3)\n",
    "test_df.show(3)\n"
   ]
  },
  {
   "cell_type": "code",
   "execution_count": 23,
   "metadata": {},
   "outputs": [
    {
     "data": {
      "text/html": [
       "<style scoped>\n",
       "  .ansiout {\n",
       "    display: block;\n",
       "    unicode-bidi: embed;\n",
       "    white-space: pre-wrap;\n",
       "    word-wrap: break-word;\n",
       "    word-break: break-all;\n",
       "    font-family: \"Source Code Pro\", \"Menlo\", monospace;;\n",
       "    font-size: 13px;\n",
       "    color: #555;\n",
       "    margin-left: 4px;\n",
       "    line-height: 19px;\n",
       "  }\n",
       "</style>\n",
       "<div class=\"ansiout\">+------------------+------------------+--------------------+-----+----------+----------+------------+\n",
       "         artist_id|            songId|              userId|Plays|new_userId|new_songId|new_artistId|\n",
       "+------------------+------------------+--------------------+-----+----------+----------+------------+\n",
       "AR1PCLK1187FB5BBFF|SOJUGKQ12A8C13A83A|3888b133d6bcd161f...|  3.0|    720266|      1089|        3841|\n",
       "AR1PCLK1187FB5BBFF|SOJUGKQ12A8C13A83A|3d1d9a7e246b95467...|  7.0|    723516|      1089|        3841|\n",
       "AR1PCLK1187FB5BBFF|SOJUGKQ12A8C13A83A|95e728c940b51dc1e...|  5.0|    209106|      1089|        3841|\n",
       "AR77MEJ1187B98F8CA|SOEXTFN12AB0188B18|6a21c2837209d3cf1...|  2.0|     65884|      1758|        3134|\n",
       "ARABTW91187FB3A73B|SOJUBCK12A81C2050B|0253abf0972ac4efe...|  1.0|    515690|      1078|        1816|\n",
       "ARABTW91187FB3A73B|SOJUBCK12A81C2050B|627897f8fa044dbb0...|  1.0|     65585|      1078|        1816|\n",
       "ARABTW91187FB3A73B|SOJUBCK12A81C2050B|8f7f0e310936aa71b...|  1.0|    933993|      1078|        1816|\n",
       "ARABTW91187FB3A73B|SOJUBCK12A81C2050B|f7b397d85f435e226...|  5.0|    430590|      1078|        1816|\n",
       "ARAIJG51187B9B97A4|SOTSIIH12A8C13A516|002abc31db3d2d789...|  1.0|    695282|       106|        2142|\n",
       "ARAIJG51187B9B97A4|SOTSIIH12A8C13A516|003c6a97c6f53c5ee...|  1.0|    227966|       106|        2142|\n",
       "+------------------+------------------+--------------------+-----+----------+----------+------------+\n",
       "only showing top 10 rows\n",
       "\n",
       "</div>"
      ]
     },
     "metadata": {},
     "output_type": "display_data"
    }
   ],
   "source": [
    "#Number of plays needs to be double type, not integers\n",
    "validation_df = validation_df.withColumn(\"Plays\", validation_df[\"Plays\"].cast(DoubleType()))\n",
    "validation_df.show(10)"
   ]
  },
  {
   "cell_type": "code",
   "execution_count": 24,
   "metadata": {},
   "outputs": [
    {
     "data": {
      "text/html": [
       "<style scoped>\n",
       "  .ansiout {\n",
       "    display: block;\n",
       "    unicode-bidi: embed;\n",
       "    white-space: pre-wrap;\n",
       "    word-wrap: break-word;\n",
       "    word-break: break-all;\n",
       "    font-family: \"Source Code Pro\", \"Menlo\", monospace;;\n",
       "    font-size: 13px;\n",
       "    color: #555;\n",
       "    margin-left: 4px;\n",
       "    line-height: 19px;\n",
       "  }\n",
       "</style>\n",
       "<div class=\"ansiout\">+------------------+--------------------+----------+------------+-----+\n",
       "         artist_id|              userId|new_userId|new_artistId|Plays|\n",
       "+------------------+--------------------+----------+------------+-----+\n",
       "ARG9CID1187B9AB010|0c91fa7d9e220c56b...|    631103|        1114|    1|\n",
       "ARG9CID1187B9AB010|bd899d5f2cadff3ce...|     10794|        1114|    1|\n",
       "ARG9CID1187B9AB010|5ab8603f502511e31...|    248786|        1114|    2|\n",
       "ARG9CID1187B9AB010|9a14c2e509eab28dd...|    378990|        1114|    1|\n",
       "ARF3HEO1187B9AF2F4|3cbb10ce899144d04...|    126120|        1192|    3|\n",
       "+------------------+--------------------+----------+------------+-----+\n",
       "only showing top 5 rows\n",
       "\n",
       "</div>"
      ]
     },
     "metadata": {},
     "output_type": "display_data"
    }
   ],
   "source": [
    "artist_plays_df = raw_plays_df_with_int_ids.groupBy(\"artist_id\", \"userId\", \"new_userId\", \"new_artistId\").agg(F.sum(raw_plays_df_with_int_ids.Plays).alias('Plays'))\n",
    "\n",
    "artist_plays_df.show(5)"
   ]
  },
  {
   "cell_type": "code",
   "execution_count": 25,
   "metadata": {},
   "outputs": [
    {
     "data": {
      "text/html": [
       "<style scoped>\n",
       "  .ansiout {\n",
       "    display: block;\n",
       "    unicode-bidi: embed;\n",
       "    white-space: pre-wrap;\n",
       "    word-wrap: break-word;\n",
       "    word-break: break-all;\n",
       "    font-family: \"Source Code Pro\", \"Menlo\", monospace;;\n",
       "    font-size: 13px;\n",
       "    color: #555;\n",
       "    margin-left: 4px;\n",
       "    line-height: 19px;\n",
       "  }\n",
       "</style>\n",
       "<div class=\"ansiout\">Training: 425101, validation: 141542, test: 141972\n",
       "\n",
       "+------------------+--------------------+----------+------------+-----+\n",
       "         artist_id|              userId|new_userId|new_artistId|Plays|\n",
       "+------------------+--------------------+----------+------------+-----+\n",
       "AR02YGA1187B9B8AC4|233c25118865ca3ac...|     25015|        2472|  2.0|\n",
       "AR02YGA1187B9B8AC4|48f561ec4070412fe...|    673630|        2472|  1.0|\n",
       "AR02YGA1187B9B8AC4|4ced3be5f889df34e...|    910705|        2472|  2.0|\n",
       "+------------------+--------------------+----------+------------+-----+\n",
       "only showing top 3 rows\n",
       "\n",
       "+------------------+--------------------+----------+------------+-----+\n",
       "         artist_id|              userId|new_userId|new_artistId|Plays|\n",
       "+------------------+--------------------+----------+------------+-----+\n",
       "AR03BDP1187FB5B324|0d87331d41e1e276c...|    607859|        3557| 16.0|\n",
       "AR03BDP1187FB5B324|1e4ad0a7ca33b49b1...|    698799|        3557|  1.0|\n",
       "AR03BDP1187FB5B324|8ea9dd54010b157e0...|    304805|        3557|  1.0|\n",
       "+------------------+--------------------+----------+------------+-----+\n",
       "only showing top 3 rows\n",
       "\n",
       "+------------------+--------------------+----------+------------+-----+\n",
       "         artist_id|              userId|new_userId|new_artistId|Plays|\n",
       "+------------------+--------------------+----------+------------+-----+\n",
       "AR035N21187FB3938E|c3644f56bd6a8b343...|    663988|         107|  1.0|\n",
       "AR03BDP1187FB5B324|3bc20a78491a1395c...|    276154|        3557|  4.0|\n",
       "AR03BDP1187FB5B324|b72dd8684a6b54761...|   1003835|        3557|  1.0|\n",
       "+------------------+--------------------+----------+------------+-----+\n",
       "only showing top 3 rows\n",
       "\n",
       "</div>"
      ]
     },
     "metadata": {},
     "output_type": "display_data"
    }
   ],
   "source": [
    "# create test, trian, validation for Artist\n",
    "\n",
    "# We'll hold out 60% for training, 20% of our data for validation, and leave 20% for testing\n",
    "seed = 1\n",
    "(split_60_artist, split_a_20_artist, split_b_20_artist) = artist_plays_df.randomSplit([0.6, 0.2, 0.2], seed = seed)\n",
    "\n",
    "# Let's cache these datasets for performance\n",
    "training_artist = split_60_artist.cache()\n",
    "validation_artist = split_a_20_artist.cache()\n",
    "test_artist = split_b_20_artist.cache()\n",
    "\n",
    "print('Training: {0}, validation: {1}, test: {2}\\n'.format(\n",
    "  training_artist.count(), validation_artist.count(), test_artist.count())\n",
    ")\n",
    "\n",
    "#Number of plays needs to be double type, not integers\n",
    "training_artist = training_artist.withColumn(\"Plays\", training_artist[\"Plays\"].cast(DoubleType()))\n",
    "validation_artist = validation_artist.withColumn(\"Plays\", validation_artist[\"Plays\"].cast(DoubleType()))\n",
    "test_artist = test_artist.withColumn(\"Plays\", test_artist[\"Plays\"].cast(DoubleType()))\n",
    "\n",
    "training_artist.show(3)\n",
    "validation_artist.show(3)\n",
    "test_artist.show(3)"
   ]
  },
  {
   "cell_type": "markdown",
   "metadata": {},
   "source": [
    "### Alternating Least Squares\n",
    "\n",
    "In this part, we will use the Apache Spark ML Pipeline implementation of Alternating Least Squares, [ALS](http://spark.apache.org/docs/1.6.2/api/python/pyspark.ml.html#pyspark.ml.recommendation.ALS). ALS takes a training dataset (DataFrame) and several parameters that control the model creation process. To determine the best values for the parameters, we will use ALS to train several models, and then we will select the best model and use the parameters from that model in the rest of the analysis.\n",
    "\n",
    "The process we will use for determining the best model is as follows:\n",
    "1. Pick a set of model parameters. The most important parameter to model is the *rank*, which is the number of columns in the Users matrix or the number of rows in the Movies matrix (blue in the diagram above). In general, a lower rank will mean higher error on the training dataset, but a high rank may lead to [overfitting](https://en.wikipedia.org/wiki/Overfitting).  We will train models with ranks of 4, 8, 12 and 16 using the `training_df` dataset, as well as iterating over the regularization parameter. Because most of the number of songs are have only be listened to once, I expect a higher regularization parameter to be more effective.\n",
    "\n",
    "2. We set the appropriate parameters on the `ALS` object:\n",
    "    * The \"User\" column will be set to the values in our `new_userId` DataFrame column.\n",
    "    * The \"Item\" column will be set to the values in our `new_songId` or `new_artistId` DataFrame column.\n",
    "    * The \"Rating\" column will be set to the values in our `Plays` DataFrame column.\n",
    "    * We'll set the max number of iterations to be 5.\n",
    "\n",
    "3. Have the ALS output transformation (i.e., the result of [ALS.fit()](http://spark.apache.org/docs/1.6.2/api/python/pyspark.ml.html#pyspark.ml.recommendation.ALS.fit)) produce a _new_ column\n",
    "   called \"prediction\" that contains the predicted value.\n",
    "\n",
    "4. Create multiple models using [ALS.fit()](http://spark.apache.org/docs/1.6.2/api/python/pyspark.ml.html#pyspark.ml.recommendation.ALS.fit), one for each of our rank values. We'll fit\n",
    "   against the training data set (`training_df`).\n",
    "\n",
    "5. For each model, we'll run a prediction against our validation data set (`validation_df`) and check the error.\n",
    "\n",
    "6. We'll keep the model with the best error rate."
   ]
  },
  {
   "cell_type": "code",
   "execution_count": 27,
   "metadata": {},
   "outputs": [
    {
     "data": {
      "text/html": [
       "<style scoped>\n",
       "  .ansiout {\n",
       "    display: block;\n",
       "    unicode-bidi: embed;\n",
       "    white-space: pre-wrap;\n",
       "    word-wrap: break-word;\n",
       "    word-break: break-all;\n",
       "    font-family: \"Source Code Pro\", \"Menlo\", monospace;;\n",
       "    font-size: 13px;\n",
       "    color: #555;\n",
       "    margin-left: 4px;\n",
       "    line-height: 19px;\n",
       "  }\n",
       "</style>\n",
       "<div class=\"ansiout\">For rank 4, regularization parameter 0.15 the RMSE is 5.305359899900203\n",
       "For rank 8, regularization parameter 0.15 the RMSE is 5.057682557275098\n",
       "For rank 12, regularization parameter 0.15 the RMSE is 5.037615304177453\n",
       "For rank 16, regularization parameter 0.15 the RMSE is 4.995392506309996\n",
       "For rank 4, regularization parameter 0.2 the RMSE is 5.241601352929219\n",
       "For rank 8, regularization parameter 0.2 the RMSE is 5.030263426872916\n",
       "For rank 12, regularization parameter 0.2 the RMSE is 5.011767767875298\n",
       "For rank 16, regularization parameter 0.2 the RMSE is 4.9739499486300005\n",
       "For rank 4, regularization parameter 0.25 the RMSE is 5.1978961767270295\n",
       "For rank 8, regularization parameter 0.25 the RMSE is 5.020512065791947\n",
       "For rank 12, regularization parameter 0.25 the RMSE is 4.994552621921719\n",
       "For rank 16, regularization parameter 0.25 the RMSE is 4.963960846433318\n",
       "The best model was trained with regularization parameter 0.25\n",
       "The best model was trained with rank 4\n",
       "</div>"
      ]
     },
     "metadata": {},
     "output_type": "display_data"
    }
   ],
   "source": [
    "from pyspark.ml.recommendation import ALS\n",
    "from pyspark.ml.evaluation import RegressionEvaluator\n",
    "\n",
    "# Let's initialize our ALS learner\n",
    "als = ALS()\n",
    "\n",
    "# Now set the parameters for the method\n",
    "als.setMaxIter(5)\\\n",
    "   .setSeed(seed)\\\n",
    "   .setItemCol(\"new_songId\")\\\n",
    "   .setRatingCol(\"Plays\")\\\n",
    "   .setUserCol(\"new_userId\")\n",
    "\n",
    "# Now let's compute an evaluation metric for our test dataset\n",
    "# We Create an RMSE evaluator using the label and predicted columns\n",
    "reg_eval = RegressionEvaluator(predictionCol=\"prediction\", labelCol=\"Plays\", metricName=\"rmse\")\n",
    "\n",
    "tolerance = 0.03\n",
    "ranks = [4, 8, 12, 16]\n",
    "regParams = [0.15, 0.2, 0.25]\n",
    "errors = [[0]*len(ranks)]*len(regParams)\n",
    "models = [[0]*len(ranks)]*len(regParams)\n",
    "err = 0\n",
    "min_error = float('inf')\n",
    "best_rank = -1\n",
    "i = 0\n",
    "for regParam in regParams:\n",
    "  j = 0\n",
    "  for rank in ranks:\n",
    "    # Set the rank here:\n",
    "    als.setParams(rank = rank, regParam = regParam)\n",
    "    # Create the model with these parameters.\n",
    "    model = als.fit(training_df)\n",
    "    # Run the model to create a prediction. Predict against the validation_df.\n",
    "    predict_df = model.transform(validation_df)\n",
    "\n",
    "    # Remove NaN values from prediction (due to SPARK-14489)\n",
    "    predicted_plays_df = predict_df.filter(predict_df.prediction != float('nan'))\n",
    "    predicted_plays_df = predicted_plays_df.withColumn(\"prediction\", F.abs(F.round(predicted_plays_df[\"prediction\"],0)))\n",
    "    # Run the previously created RMSE evaluator, reg_eval, on the predicted_ratings_df DataFrame\n",
    "    error = reg_eval.evaluate(predicted_plays_df)\n",
    "    errors[i][j] = error\n",
    "    models[i][j] = model\n",
    "    print ('For rank %s, regularization parameter %s the RMSE is %s' % (rank, regParam, error))\n",
    "    if error < min_error:\n",
    "      min_error = error\n",
    "      best_params = [i,j]\n",
    "      j += 1\n",
    "  i += 1\n",
    "\n",
    "als.setRegParam(regParams[best_params[0]])\n",
    "als.setRank(ranks[best_params[1]])\n",
    "print ('The best model was trained with regularization parameter %s' % regParams[best_params[0]])\n",
    "print ('The best model was trained with rank %s' % ranks[best_params[1]])\n",
    "my_model = models[best_params[0]][best_params[1]]"
   ]
  },
  {
   "cell_type": "code",
   "execution_count": 28,
   "metadata": {},
   "outputs": [
    {
     "data": {
      "text/html": [
       "<style scoped>\n",
       "  .ansiout {\n",
       "    display: block;\n",
       "    unicode-bidi: embed;\n",
       "    white-space: pre-wrap;\n",
       "    word-wrap: break-word;\n",
       "    word-break: break-all;\n",
       "    font-family: \"Source Code Pro\", \"Menlo\", monospace;;\n",
       "    font-size: 13px;\n",
       "    color: #555;\n",
       "    margin-left: 4px;\n",
       "    line-height: 19px;\n",
       "  }\n",
       "</style>\n",
       "<div class=\"ansiout\"></div>"
      ]
     },
     "metadata": {},
     "output_type": "display_data"
    }
   ],
   "source": [
    "# Let's initialize our ALS learner\n",
    "als = ALS()\n",
    "\n",
    "# Now set the parameters for the method\n",
    "als.setMaxIter(5)\\\n",
    "   .setSeed(seed)\\\n",
    "   .setItemCol(\"new_songId\")\\\n",
    "   .setRatingCol(\"Plays\")\\\n",
    "   .setUserCol(\"new_userId\")\n",
    "\n",
    "# Now let's compute an evaluation metric for our test dataset\n",
    "# We Create an RMSE evaluator using the label and predicted columns\n",
    "reg_eval = RegressionEvaluator(predictionCol=\"prediction\", labelCol=\"Plays\", metricName=\"rmse\")\n",
    "\n",
    "als.setParams(rank = 4, regParam = 0.25)\n",
    "model = als.fit(training_df)\n",
    "predict_df = model.transform(validation_df)\n",
    "predict_test = model.transform(test_df)"
   ]
  },
  {
   "cell_type": "code",
   "execution_count": 29,
   "metadata": {},
   "outputs": [
    {
     "data": {
      "text/html": [
       "<style scoped>\n",
       "  .ansiout {\n",
       "    display: block;\n",
       "    unicode-bidi: embed;\n",
       "    white-space: pre-wrap;\n",
       "    word-wrap: break-word;\n",
       "    word-break: break-all;\n",
       "    font-family: \"Source Code Pro\", \"Menlo\", monospace;;\n",
       "    font-size: 13px;\n",
       "    color: #555;\n",
       "    margin-left: 4px;\n",
       "    line-height: 19px;\n",
       "  }\n",
       "</style>\n",
       "<div class=\"ansiout\"></div>"
      ]
     },
     "metadata": {},
     "output_type": "display_data"
    }
   ],
   "source": [
    "# Remove NaN values from prediction (due to SPARK-14489)\n",
    "predicted_plays_df = predict_df.filter(predict_df.prediction != float('nan'))\n",
    "predicted_plays_df = predicted_plays_df.withColumn(\"prediction\", F.abs(F.round(predicted_plays_df[\"prediction\"],0)))"
   ]
  },
  {
   "cell_type": "code",
   "execution_count": 30,
   "metadata": {},
   "outputs": [
    {
     "data": {
      "text/html": [
       "<style scoped>\n",
       "  .ansiout {\n",
       "    display: block;\n",
       "    unicode-bidi: embed;\n",
       "    white-space: pre-wrap;\n",
       "    word-wrap: break-word;\n",
       "    word-break: break-all;\n",
       "    font-family: \"Source Code Pro\", \"Menlo\", monospace;;\n",
       "    font-size: 13px;\n",
       "    color: #555;\n",
       "    margin-left: 4px;\n",
       "    line-height: 19px;\n",
       "  }\n",
       "</style>\n",
       "<div class=\"ansiout\">+------------------+------------------+--------------------+-----+----------+----------+------------+----------+\n",
       "         artist_id|            songId|              userId|Plays|new_userId|new_songId|new_artistId|prediction|\n",
       "+------------------+------------------+--------------------+-----+----------+----------+------------+----------+\n",
       "ART62WC1187FB47E80|SOXMSNK12AF72A8850|e8a8acbdd37148eac...|    4|    242656|     73470|        1223|       1.0|\n",
       "ARQ3VBJ1187FB3FE55|SOWXUDU12AF72A1001|bb54c33e5a18870c6...|    1|    336979|    102960|         879|       0.0|\n",
       "ARLUF1T1187FB3603B|SOPHJIS12AC3DF5FA3|b8306bb90437dcc23...|    1|    604887|    156645|        3657|       0.0|\n",
       "ARLUF1T1187FB3603B|SOPHJIS12AC3DF5FA3|43a3d80ef57b997c0...|    1|    754737|    156645|        3657|       0.0|\n",
       "ARLUF1T1187FB3603B|SOPHJIS12AC3DF5FA3|ea2131622f74b05cd...|    2|    460249|    156645|        3657|       0.0|\n",
       "ARLUF1T1187FB3603B|SOPHJIS12AC3DF5FA3|8b732d17887245910...|    2|    242138|    156645|        3657|       0.0|\n",
       "ARLUF1T1187FB3603B|SOPHJIS12AC3DF5FA3|0987a9043d13b64f0...|    1|    512616|    156645|        3657|       1.0|\n",
       "ARV1P811187FB3CFC6|SOGMXBW12A6D4FB8D7|6be9cb80937e3fdb2...|    1|    532621|    180981|           2|       2.0|\n",
       "ARV1P811187FB3CFC6|SOGMXBW12A6D4FB8D7|6bf609c8a472dd82b...|    1|    849748|    180981|           2|       2.0|\n",
       "ARV1P811187FB3CFC6|SOGMXBW12A6D4FB8D7|e02791cf50396bef5...|    5|    762445|    180981|           2|      15.0|\n",
       "+------------------+------------------+--------------------+-----+----------+----------+------------+----------+\n",
       "only showing top 10 rows\n",
       "\n",
       "</div>"
      ]
     },
     "metadata": {},
     "output_type": "display_data"
    }
   ],
   "source": [
    "#Example of predicted plays\n",
    "predicted_plays_df.show(10)"
   ]
  },
  {
   "cell_type": "markdown",
   "metadata": {},
   "source": [
    "Because we're only looking for the nonzero plays, one way to increase the accuracy would be to convert predicted listens that are zero to one. However this would not really help the model overall, since our ultimate goal is for song recommendation and if the predicted number of plays is zero that is okay, this means that the user does o want to listen to the song."
   ]
  },
  {
   "cell_type": "markdown",
   "metadata": {},
   "source": [
    "### Testing The Model\n",
    "\n",
    "So far, we used the `training_df` and `validation_df` datasets to select the best model.  Since we used these two datasets to determine what model is best, we cannot use them to test how good the model is; otherwise, we would be very vulnerable to [overfitting](https://en.wikipedia.org/wiki/Overfitting).  To decide how good the model is, we need to use the `test_df` dataset.  We will use the best rank, and best regularization parameter in the list `best_params` previously determined to create a model for predicting songs for the test dataset and then we will compute the RMSE."
   ]
  },
  {
   "cell_type": "code",
   "execution_count": 33,
   "metadata": {},
   "outputs": [
    {
     "data": {
      "text/html": [
       "<style scoped>\n",
       "  .ansiout {\n",
       "    display: block;\n",
       "    unicode-bidi: embed;\n",
       "    white-space: pre-wrap;\n",
       "    word-wrap: break-word;\n",
       "    word-break: break-all;\n",
       "    font-family: \"Source Code Pro\", \"Menlo\", monospace;;\n",
       "    font-size: 13px;\n",
       "    color: #555;\n",
       "    margin-left: 4px;\n",
       "    line-height: 19px;\n",
       "  }\n",
       "</style>\n",
       "<div class=\"ansiout\">The model had a RMSE on the test set of 9.829685579527544\n",
       "</div>"
      ]
     },
     "metadata": {},
     "output_type": "display_data"
    }
   ],
   "source": [
    "# In ML Pipelines, this next step has a bug that produces unwanted NaN values. We\n",
    "# have to filter them out. See https://issues.apache.org/jira/browse/SPARK-14489\n",
    "\n",
    "test_df = test_df.withColumn(\"Plays\", test_df[\"Plays\"].cast(DoubleType()))\n",
    "predict_test_df = my_model.transform(test_df)\n",
    "\n",
    "# Remove NaN values from prediction (due to SPARK-14489)\n",
    "predicted_test_df = predict_df.filter(predict_df.prediction != float('nan'))\n",
    "\n",
    "# Round floats to whole numbers\n",
    "predicted_test_df = predicted_test_df.withColumn(\"prediction\", F.abs(F.round(predicted_test_df[\"prediction\"],0)))\n",
    "# Run the previously created RMSE evaluator, reg_eval, on the predicted_test_df DataFrame\n",
    "test_RMSE = reg_eval.evaluate(predicted_test_df)\n",
    "\n",
    "print('The model had a RMSE on the test set of {0}'.format(test_RMSE))"
   ]
  },
  {
   "cell_type": "markdown",
   "metadata": {},
   "source": [
    "### Comparing the Model\n",
    "\n",
    "Looking at the RMSE for the results predicted by the model versus the values in the test set is one way to evalute the quality of our model. Another way to evaluate the model is to evaluate the error from a test set where every rating is the average number of plays from the training set."
   ]
  },
  {
   "cell_type": "code",
   "execution_count": 35,
   "metadata": {},
   "outputs": [
    {
     "data": {
      "text/html": [
       "<style scoped>\n",
       "  .ansiout {\n",
       "    display: block;\n",
       "    unicode-bidi: embed;\n",
       "    white-space: pre-wrap;\n",
       "    word-wrap: break-word;\n",
       "    word-break: break-all;\n",
       "    font-family: \"Source Code Pro\", \"Menlo\", monospace;;\n",
       "    font-size: 13px;\n",
       "    color: #555;\n",
       "    margin-left: 4px;\n",
       "    line-height: 19px;\n",
       "  }\n",
       "</style>\n",
       "<div class=\"ansiout\">+--------------------+\n",
       "round(avg(Plays), 0)|\n",
       "+--------------------+\n",
       "                 3.0|\n",
       "+--------------------+\n",
       "\n",
       "The average number of plays in the dataset is 3.0\n",
       "The RMSE on the average set is 5.524487897830476\n",
       "</div>"
      ]
     },
     "metadata": {},
     "output_type": "display_data"
    }
   ],
   "source": [
    "avg_plays_df = training_df.groupBy().avg('Plays').select(F.round('avg(Plays)'))\n",
    "\n",
    "avg_plays_df.show(3)\n",
    "# Extract the average rating value. (This is row 0, column 0.)\n",
    "training_avg_plays = avg_plays_df.collect()[0][0]\n",
    "\n",
    "print('The average number of plays in the dataset is {0}'.format(training_avg_plays))\n",
    "\n",
    "# Add a column with the average rating\n",
    "test_for_avg_df = test_df.withColumn('prediction', F.lit(training_avg_plays))\n",
    "\n",
    "# Run the previously created RMSE evaluator, reg_eval, on the test_for_avg_df DataFrame\n",
    "test_avg_RMSE = reg_eval.evaluate(test_for_avg_df)\n",
    "\n",
    "print(\"The RMSE on the average set is {0}\".format(test_avg_RMSE))"
   ]
  },
  {
   "cell_type": "markdown",
   "metadata": {},
   "source": [
    "Our model performs slightly better than simply predicting 3 songs for all in the test case."
   ]
  },
  {
   "cell_type": "markdown",
   "metadata": {},
   "source": [
    "## Prediction for a User\n",
    "\n",
    "We can make a prediction for a user. To do this we make a list of all the songs that the user has not already listened to, and feed it into to model. The model will generate it the number of predicted plays, which we can arange in descending order."
   ]
  },
  {
   "cell_type": "code",
   "execution_count": 38,
   "metadata": {},
   "outputs": [
    {
     "data": {
      "text/html": [
       "<style scoped>\n",
       "  .ansiout {\n",
       "    display: block;\n",
       "    unicode-bidi: embed;\n",
       "    white-space: pre-wrap;\n",
       "    word-wrap: break-word;\n",
       "    word-break: break-all;\n",
       "    font-family: \"Source Code Pro\", \"Menlo\", monospace;;\n",
       "    font-size: 13px;\n",
       "    color: #555;\n",
       "    margin-left: 4px;\n",
       "    line-height: 19px;\n",
       "  }\n",
       "</style>\n",
       "<div class=\"ansiout\"></div>"
      ]
     },
     "metadata": {},
     "output_type": "display_data"
    }
   ],
   "source": [
    "spark.conf.set(\"spark.sql.crossJoin.enabled\", \"true\")"
   ]
  },
  {
   "cell_type": "code",
   "execution_count": 39,
   "metadata": {},
   "outputs": [
    {
     "data": {
      "text/html": [
       "<style scoped>\n",
       "  .ansiout {\n",
       "    display: block;\n",
       "    unicode-bidi: embed;\n",
       "    white-space: pre-wrap;\n",
       "    word-wrap: break-word;\n",
       "    word-break: break-all;\n",
       "    font-family: \"Source Code Pro\", \"Menlo\", monospace;;\n",
       "    font-size: 13px;\n",
       "    color: #555;\n",
       "    margin-left: 4px;\n",
       "    line-height: 19px;\n",
       "  }\n",
       "</style>\n",
       "<div class=\"ansiout\">+--------------------+--------------------+\n",
       "         artist_name|               title|\n",
       "+--------------------+--------------------+\n",
       "Bob Marley &amp; The ...|       Smile Jamaica|\n",
       "                Muse|Supermassive Blac...|\n",
       "  The Rolling Stones|Angie (1993 Digit...|\n",
       "            Hot Chip|             Hold On|\n",
       "         The Killers|A Dustland Fairytale|\n",
       "           Aerosmith|               Crazy|\n",
       "+--------------------+--------------------+\n",
       "\n",
       "</div>"
      ]
     },
     "metadata": {},
     "output_type": "display_data"
    }
   ],
   "source": [
    "# actual listens\n",
    "raw_plays_df_with_int_ids.filter(raw_plays_df_with_int_ids.new_userId == 3543).join(metadata_df, 'songId').select('artist_name', 'title'). distinct().orderBy('Plays', ascending=False).show()"
   ]
  },
  {
   "cell_type": "code",
   "execution_count": 40,
   "metadata": {},
   "outputs": [
    {
     "data": {
      "text/html": [
       "<style scoped>\n",
       "  .ansiout {\n",
       "    display: block;\n",
       "    unicode-bidi: embed;\n",
       "    white-space: pre-wrap;\n",
       "    word-wrap: break-word;\n",
       "    word-break: break-all;\n",
       "    font-family: \"Source Code Pro\", \"Menlo\", monospace;;\n",
       "    font-size: 13px;\n",
       "    color: #555;\n",
       "    margin-left: 4px;\n",
       "    line-height: 19px;\n",
       "  }\n",
       "</style>\n",
       "<div class=\"ansiout\">Songs user has listened to:\n",
       "+------------------+--------------------+\n",
       "       artist_name|               title|\n",
       "+------------------+--------------------+\n",
       "       The Killers|A Dustland Fairytale|\n",
       "The Rolling Stones|Angie (1993 Digit...|\n",
       "          Hot Chip|             Hold On|\n",
       "+------------------+--------------------+\n",
       "\n",
       "Predicted Songs:\n",
       "+--------------------+--------------------+----------+\n",
       "         artist_name|               title|prediction|\n",
       "+--------------------+--------------------+----------+\n",
       "  Memphis La Blusera|Exactamente Media...| 10.494117|\n",
       "                 UFO|Out In The Street...|  5.915309|\n",
       "      Less Than Jake|Antidote For The ...| 5.8477798|\n",
       "            Bobaflex|            Medicine| 5.2904453|\n",
       "    Michael McDonald|      Nowhere To Run| 4.9717727|\n",
       "       Janet Paschal| God Will Make A Way| 4.4560666|\n",
       "                 Hem|Have Yourself A M...| 4.2125645|\n",
       "Joe Graves &amp; The ...|Witchcraft (1997 ...| 4.2047486|\n",
       "           The Scare|   I Saw Destruction| 4.1932917|\n",
       "           Green Day|Wake Me Up When S...| 3.5484014|\n",
       "+--------------------+--------------------+----------+\n",
       "only showing top 10 rows\n",
       "\n",
       "</div>"
      ]
     },
     "metadata": {},
     "output_type": "display_data"
    }
   ],
   "source": [
    "UserID = 3543\n",
    "listened_songs = raw_plays_df_with_int_ids.filter(raw_plays_df_with_int_ids.new_userId == UserID) \\\n",
    "                                          .join(metadata_df, 'songId') \\\n",
    "                                          .select('new_songId', 'artist_name', 'title') \\\n",
    "                                          \n",
    "# generate list of listened songs\n",
    "listened_songs_list = []\n",
    "for song in listened_songs.collect():\n",
    "  listened_songs_list.append(song['new_songId'])\n",
    "\n",
    "print('Songs user has listened to:')\n",
    "listened_songs.select('artist_name', 'title').show()\n",
    "\n",
    "# generate dataframe of unlistened songs\n",
    "unlistened_songs = raw_plays_df_with_int_ids.filter(~ raw_plays_df_with_int_ids['new_songId'].isin(listened_songs_list)) \\\n",
    "                                            .select('new_songId').withColumn('new_userId', F.lit(UserID)).distinct()\n",
    "\n",
    "# feed unlistened songs into model\n",
    "predicted_listens = model.transform(unlistened_songs)\n",
    "\n",
    "# remove NaNs\n",
    "predicted_listens = predicted_listens.filter(predicted_listens['prediction'] != float('nan'))\n",
    "\n",
    "# print output\n",
    "print('Predicted Songs:')\n",
    "predicted_listens.join(raw_plays_df_with_int_ids, 'new_songId') \\\n",
    "                 .join(metadata_df, 'songId') \\\n",
    "                 .select('artist_name', 'title', 'prediction') \\\n",
    "                 .distinct() \\\n",
    "                 .orderBy('prediction', ascending = False) \\\n",
    "                 .show(10)"
   ]
  },
  {
   "cell_type": "markdown",
   "metadata": {},
   "source": [
    "### ALS for Artists"
   ]
  },
  {
   "cell_type": "code",
   "execution_count": 42,
   "metadata": {},
   "outputs": [
    {
     "data": {
      "text/html": [
       "<style scoped>\n",
       "  .ansiout {\n",
       "    display: block;\n",
       "    unicode-bidi: embed;\n",
       "    white-space: pre-wrap;\n",
       "    word-wrap: break-word;\n",
       "    word-break: break-all;\n",
       "    font-family: \"Source Code Pro\", \"Menlo\", monospace;;\n",
       "    font-size: 13px;\n",
       "    color: #555;\n",
       "    margin-left: 4px;\n",
       "    line-height: 19px;\n",
       "  }\n",
       "</style>\n",
       "<div class=\"ansiout\">For rank 4, regularization parameter 0.15 the RMSE is 5.734077983767863\n",
       "For rank 8, regularization parameter 0.15 the RMSE is 5.602468800547022\n",
       "For rank 12, regularization parameter 0.15 the RMSE is 5.534962572321722\n",
       "For rank 16, regularization parameter 0.15 the RMSE is 5.521896682401342\n",
       "For rank 4, regularization parameter 0.2 the RMSE is 5.735768803402946\n",
       "For rank 8, regularization parameter 0.2 the RMSE is 5.580275472972566\n",
       "For rank 12, regularization parameter 0.2 the RMSE is 5.529227259704196\n",
       "For rank 16, regularization parameter 0.2 the RMSE is 5.513880411199703\n",
       "For rank 4, regularization parameter 0.25 the RMSE is 5.72640444994007\n",
       "For rank 8, regularization parameter 0.25 the RMSE is 5.569391380543844\n",
       "For rank 12, regularization parameter 0.25 the RMSE is 5.530099574273815\n",
       "For rank 16, regularization parameter 0.25 the RMSE is 5.515329688460216\n",
       "The best model was trained with regularization parameter 0.2\n",
       "The best model was trained with rank 4\n",
       "</div>"
      ]
     },
     "metadata": {},
     "output_type": "display_data"
    }
   ],
   "source": [
    "# Let's initialize our ALS learner\n",
    "als_artist = ALS()\n",
    "\n",
    "# Now set the parameters for the method\n",
    "als_artist.setMaxIter(5)\\\n",
    "   .setSeed(seed)\\\n",
    "   .setItemCol(\"new_artistId\")\\\n",
    "   .setRatingCol(\"Plays\")\\\n",
    "   .setUserCol(\"new_userId\")\n",
    "\n",
    "# Now let's compute an evaluation metric for our test dataset\n",
    "# We Create an RMSE evaluator using the label and predicted columns\n",
    "reg_eval = RegressionEvaluator(predictionCol=\"prediction\", labelCol=\"Plays\", metricName=\"rmse\")\n",
    "\n",
    "tolerance = 0.03\n",
    "ranks = [4, 8, 12, 16]\n",
    "regParams = [0.15, 0.2, 0.25]\n",
    "errors_artist = [[0]*len(ranks)]*len(regParams)\n",
    "models_artist = [[0]*len(ranks)]*len(regParams)\n",
    "err = 0\n",
    "min_error = float('inf')\n",
    "best_rank = -1\n",
    "i = 0\n",
    "for regParam in regParams:\n",
    "  j = 0\n",
    "  for rank in ranks:\n",
    "    # Set the rank here:\n",
    "    als_artist.setParams(rank = rank, regParam = regParam)\n",
    "    # Create the model with these parameters.\n",
    "    model_artist = als_artist.fit(training_artist)\n",
    "    # Run the model to create a prediction. Predict against the validation_df.\n",
    "    predict_artist = model_artist.transform(validation_artist)\n",
    "\n",
    "    # Remove NaN values from prediction (due to SPARK-14489)\n",
    "    predicted_plays_artist = predict_artist.filter(predict_artist.prediction != float('nan'))\n",
    "    predicted_plays_artist = predicted_plays_artist.withColumn(\"prediction\", F.abs(F.round(predicted_plays_artist[\"prediction\"],0)))\n",
    "    # Run the previously created RMSE evaluator, reg_eval, on the predicted_ratings_df DataFrame\n",
    "    error_artist = reg_eval.evaluate(predicted_plays_artist)\n",
    "    errors_artist[i][j] = error_artist\n",
    "    models_artist[i][j] = model_artist\n",
    "    print ('For rank %s, regularization parameter %s the RMSE is %s' % (rank, regParam, error_artist))\n",
    "    if error_artist < min_error:\n",
    "      min_error = error_artist\n",
    "      best_params = [i,j]\n",
    "      j += 1\n",
    "  i += 1\n",
    "\n",
    "als_artist.setRegParam(regParams[best_params[0]])\n",
    "als_artist.setRank(ranks[best_params[1]])\n",
    "print ('The best model was trained with regularization parameter %s' % regParams[best_params[0]])\n",
    "print ('The best model was trained with rank %s' % ranks[best_params[1]])\n",
    "my_model_artist = models_artist[best_params[0]][best_params[1]]"
   ]
  },
  {
   "cell_type": "code",
   "execution_count": 43,
   "metadata": {},
   "outputs": [
    {
     "data": {
      "text/html": [
       "<style scoped>\n",
       "  .ansiout {\n",
       "    display: block;\n",
       "    unicode-bidi: embed;\n",
       "    white-space: pre-wrap;\n",
       "    word-wrap: break-word;\n",
       "    word-break: break-all;\n",
       "    font-family: \"Source Code Pro\", \"Menlo\", monospace;;\n",
       "    font-size: 13px;\n",
       "    color: #555;\n",
       "    margin-left: 4px;\n",
       "    line-height: 19px;\n",
       "  }\n",
       "</style>\n",
       "<div class=\"ansiout\"></div>"
      ]
     },
     "metadata": {},
     "output_type": "display_data"
    }
   ],
   "source": [
    "from pyspark.ml.recommendation import ALS\n",
    "from pyspark.ml.evaluation import RegressionEvaluator\n",
    "\n",
    "# Let's initialize our ALS learner\n",
    "als_artist = ALS()\n",
    "\n",
    "# Now set the parameters for the method\n",
    "als_artist.setMaxIter(5)\\\n",
    "   .setSeed(seed)\\\n",
    "   .setItemCol(\"new_artistId\")\\\n",
    "   .setRatingCol(\"Plays\")\\\n",
    "   .setUserCol(\"new_userId\")\n",
    "\n",
    "# Now let's compute an evaluation metric for our test dataset\n",
    "# We Create an RMSE evaluator using the label and predicted columns\n",
    "reg_eval = RegressionEvaluator(predictionCol=\"prediction\", labelCol=\"Plays\", metricName=\"rmse\")\n",
    "\n",
    "als_artist.setParams(rank = 4, regParam = 0.2)\n",
    "model_artist = als_artist.fit(training_artist)\n",
    "predict_artist = model_artist.transform(validation_artist)\n",
    "predict_artist_test = model_artist.transform(test_artist)"
   ]
  },
  {
   "cell_type": "code",
   "execution_count": 44,
   "metadata": {},
   "outputs": [
    {
     "data": {
      "text/html": [
       "<style scoped>\n",
       "  .ansiout {\n",
       "    display: block;\n",
       "    unicode-bidi: embed;\n",
       "    white-space: pre-wrap;\n",
       "    word-wrap: break-word;\n",
       "    word-break: break-all;\n",
       "    font-family: \"Source Code Pro\", \"Menlo\", monospace;;\n",
       "    font-size: 13px;\n",
       "    color: #555;\n",
       "    margin-left: 4px;\n",
       "    line-height: 19px;\n",
       "  }\n",
       "</style>\n",
       "<div class=\"ansiout\">+------------------+--------------------+----------+------------+-----+----------+\n",
       "         artist_id|              userId|new_userId|new_artistId|Plays|prediction|\n",
       "+------------------+--------------------+----------+------------+-----+----------+\n",
       "ARV2X851187FB41A78|7e6472406a6c34a91...|   1006689|         471|  1.0|       1.0|\n",
       "ARV2X851187FB41A78|af4fec6bed2ef2b79...|    935232|         471|  1.0|       0.0|\n",
       "ARVQTZP1187FB40283|b80c971530f3647e3...|    549849|         496|  4.0|       4.0|\n",
       "ARVQTZP1187FB40283|c9593bfa9b57bcc77...|    268227|         496|  1.0|       0.0|\n",
       "ARVQTZP1187FB40283|3f0489c87e1c70fb6...|    301174|         496|  1.0|       0.0|\n",
       "ARDE7I31187FB43352|1dd53958710d04e16...|    177416|        1342|  1.0|       1.0|\n",
       "ARDE7I31187FB43352|c5132693103017c69...|     33264|        1342|  2.0|       0.0|\n",
       "ARDE7I31187FB43352|1fcb08f07e74b5d3b...|    617467|        1342|  3.0|       0.0|\n",
       "ARP07GD1187B9B9DA4|aeb513f74b485e939...|    505901|        1591| 29.0|       2.0|\n",
       "ARP07GD1187B9B9DA4|bcd6eac0cd2deaf5d...|    585301|        1591|  5.0|       1.0|\n",
       "+------------------+--------------------+----------+------------+-----+----------+\n",
       "only showing top 10 rows\n",
       "\n",
       "+------------------+--------------------+----------+------------+-----+----------+\n",
       "         artist_id|              userId|new_userId|new_artistId|Plays|prediction|\n",
       "+------------------+--------------------+----------+------------+-----+----------+\n",
       "ARV2X851187FB41A78|831d30d970f636d9e...|    398466|         471|  1.0|       4.0|\n",
       "ARV2X851187FB41A78|f63ad5ddd1208aedc...|    845670|         471| 14.0|       3.0|\n",
       "ARVQTZP1187FB40283|6fc243a84a5bb98d3...|    310898|         496|  1.0|       1.0|\n",
       "ARVQTZP1187FB40283|0bd2057b39d8f25d5...|    394339|         496|  2.0|      11.0|\n",
       "ARVQTZP1187FB40283|179aff4cf2ef87d5d...|    107061|         496|  6.0|       4.0|\n",
       "ARDE7I31187FB43352|d7258a427664641de...|    243304|        1342|  1.0|       0.0|\n",
       "ARDE7I31187FB43352|b36d3f2ded02ec376...|     10115|        1342|  1.0|       2.0|\n",
       "ARDE7I31187FB43352|36e70d2994e7bf147...|    508017|        1342|  1.0|       3.0|\n",
       "ARP07GD1187B9B9DA4|244bf0abc538b39be...|    622727|        1591|  1.0|       2.0|\n",
       "AROW3XO1187B989E72|1340dba813819075b...|    261655|        1829|  1.0|       1.0|\n",
       "+------------------+--------------------+----------+------------+-----+----------+\n",
       "only showing top 10 rows\n",
       "\n",
       "</div>"
      ]
     },
     "metadata": {},
     "output_type": "display_data"
    }
   ],
   "source": [
    "# Remove NaN values from prediction\n",
    "predicted_plays_artist = predict_artist.filter(predict_artist.prediction != float('nan'))\n",
    "predicted_plays_artist = predicted_plays_artist.withColumn(\"prediction\", F.abs(F.round(predicted_plays_artist[\"prediction\"],0)))\n",
    "\n",
    "# Remove NaN values from prediction\n",
    "predicted_plays_artist_test = predict_artist_test.filter(predict_artist_test.prediction != float('nan'))\n",
    "predicted_plays_artist_test = predicted_plays_artist_test.withColumn(\"prediction\", F.abs(F.round(predicted_plays_artist_test[\"prediction\"],0)))\n",
    "\n",
    "predicted_plays_artist.show(10)\n",
    "predicted_plays_artist_test.show(10)"
   ]
  },
  {
   "cell_type": "markdown",
   "metadata": {},
   "source": [
    "### Acutal vs Prediction for a User"
   ]
  },
  {
   "cell_type": "code",
   "execution_count": 46,
   "metadata": {},
   "outputs": [
    {
     "data": {
      "text/html": [
       "<style scoped>\n",
       "  .ansiout {\n",
       "    display: block;\n",
       "    unicode-bidi: embed;\n",
       "    white-space: pre-wrap;\n",
       "    word-wrap: break-word;\n",
       "    word-break: break-all;\n",
       "    font-family: \"Source Code Pro\", \"Menlo\", monospace;;\n",
       "    font-size: 13px;\n",
       "    color: #555;\n",
       "    margin-left: 4px;\n",
       "    line-height: 19px;\n",
       "  }\n",
       "</style>\n",
       "<div class=\"ansiout\">+--------------------+-----+\n",
       "         artist_name|Plays|\n",
       "+--------------------+-----+\n",
       "          Bob Marley|    9|\n",
       "Bob Marley &amp; The ...|    9|\n",
       "            Hot Chip|    1|\n",
       "           Aerosmith|    1|\n",
       "         The Killers|    1|\n",
       "                Muse|    1|\n",
       "             Killers|    1|\n",
       "  The Rolling Stones|    1|\n",
       "+--------------------+-----+\n",
       "\n",
       "</div>"
      ]
     },
     "metadata": {},
     "output_type": "display_data"
    }
   ],
   "source": [
    "# actual\n",
    "artist_plays_df.filter(artist_plays_df.new_userId == 3543).join(metadata_df, 'artist_id').select('artist_name', 'Plays').distinct().orderBy('Plays', ascending=False).show(10)"
   ]
  },
  {
   "cell_type": "code",
   "execution_count": 47,
   "metadata": {},
   "outputs": [
    {
     "data": {
      "text/html": [
       "<style scoped>\n",
       "  .ansiout {\n",
       "    display: block;\n",
       "    unicode-bidi: embed;\n",
       "    white-space: pre-wrap;\n",
       "    word-wrap: break-word;\n",
       "    word-break: break-all;\n",
       "    font-family: \"Source Code Pro\", \"Menlo\", monospace;;\n",
       "    font-size: 13px;\n",
       "    color: #555;\n",
       "    margin-left: 4px;\n",
       "    line-height: 19px;\n",
       "  }\n",
       "</style>\n",
       "<div class=\"ansiout\">+------------------+--------------------+----------+------------+-----+\n",
       "         artist_id|              userId|new_userId|new_artistId|Plays|\n",
       "+------------------+--------------------+----------+------------+-----+\n",
       "ARAZCWP129462A97F1|ae304ac87c46c43cc...|    474241|         903|   81|\n",
       "ARAZCWP129462A97F1|3dd582756ab8a9919...|    658141|         903|   73|\n",
       "ARAZCWP129462A97F1|b2c5cff69924d56da...|    780942|         903|   72|\n",
       "ARAZCWP129462A97F1|d8b14e66e9ddffa24...|    336068|         903|   70|\n",
       "ARAZCWP129462A97F1|178d21a236c197a37...|    363018|         903|   57|\n",
       "ARAZCWP129462A97F1|5cdd87d64c988b636...|    488001|         903|   52|\n",
       "ARAZCWP129462A97F1|e4cca207d304cc3bb...|    623138|         903|   44|\n",
       "ARAZCWP129462A97F1|aa3f9b412b658843b...|     13694|         903|   44|\n",
       "ARAZCWP129462A97F1|290820cba8d8b2a82...|    691543|         903|   43|\n",
       "ARAZCWP129462A97F1|44bc09d1c85903939...|    962387|         903|   40|\n",
       "ARAZCWP129462A97F1|6d09b464b8dafe612...|    101795|         903|   40|\n",
       "ARAZCWP129462A97F1|9e809d6b70bafd3bf...|    748005|         903|   40|\n",
       "ARAZCWP129462A97F1|e7a4aff181c9fb8d0...|    963015|         903|   37|\n",
       "ARAZCWP129462A97F1|d85008f99692044c7...|    812234|         903|   36|\n",
       "ARAZCWP129462A97F1|53de39c4ff2e3abc6...|    403638|         903|   36|\n",
       "ARAZCWP129462A97F1|0c5103399334f0baa...|     50315|         903|   35|\n",
       "ARAZCWP129462A97F1|9f7da0eddcd0eb1c3...|    980727|         903|   35|\n",
       "ARAZCWP129462A97F1|8e0481b4cbb9c636e...|    404390|         903|   34|\n",
       "ARAZCWP129462A97F1|828a8e55f58c1e611...|    746274|         903|   34|\n",
       "ARAZCWP129462A97F1|b660e7b6264046ca9...|    665601|         903|   33|\n",
       "+------------------+--------------------+----------+------------+-----+\n",
       "only showing top 20 rows\n",
       "\n",
       "</div>"
      ]
     },
     "metadata": {},
     "output_type": "display_data"
    }
   ],
   "source": [
    "artist_plays_df.filter(artist_plays_df.artist_id == 'ARAZCWP129462A97F1').orderBy('Plays', ascending=False).show()"
   ]
  },
  {
   "cell_type": "code",
   "execution_count": 48,
   "metadata": {},
   "outputs": [
    {
     "data": {
      "text/html": [
       "<style scoped>\n",
       "  .ansiout {\n",
       "    display: block;\n",
       "    unicode-bidi: embed;\n",
       "    white-space: pre-wrap;\n",
       "    word-wrap: break-word;\n",
       "    word-break: break-all;\n",
       "    font-family: \"Source Code Pro\", \"Menlo\", monospace;;\n",
       "    font-size: 13px;\n",
       "    color: #555;\n",
       "    margin-left: 4px;\n",
       "    line-height: 19px;\n",
       "  }\n",
       "</style>\n",
       "<div class=\"ansiout\">+--------------------+------------+-----+\n",
       "         artist_name|new_artistId|Plays|\n",
       "+--------------------+------------+-----+\n",
       "          Bob Marley|         903|   72|\n",
       "Jack Johnson and ...|        2214|   23|\n",
       "Bob Marley &amp; The ...|         903|   72|\n",
       "        Jack Johnson|        2214|   23|\n",
       "+--------------------+------------+-----+\n",
       "\n",
       "</div>"
      ]
     },
     "metadata": {},
     "output_type": "display_data"
    }
   ],
   "source": [
    "artist_plays_df.filter(artist_plays_df.new_userId == 780942).join(metadata_df, 'artist_id').select('artist_name', 'new_artistId', 'Plays').distinct().show()"
   ]
  },
  {
   "cell_type": "code",
   "execution_count": 49,
   "metadata": {},
   "outputs": [
    {
     "data": {
      "text/html": [
       "<style scoped>\n",
       "  .ansiout {\n",
       "    display: block;\n",
       "    unicode-bidi: embed;\n",
       "    white-space: pre-wrap;\n",
       "    word-wrap: break-word;\n",
       "    word-break: break-all;\n",
       "    font-family: \"Source Code Pro\", \"Menlo\", monospace;;\n",
       "    font-size: 13px;\n",
       "    color: #555;\n",
       "    margin-left: 4px;\n",
       "    line-height: 19px;\n",
       "  }\n",
       "</style>\n",
       "<div class=\"ansiout\">+--------------------+\n",
       "         artist_name|\n",
       "+--------------------+\n",
       "           Sean Paul|\n",
       "        Jack Johnson|\n",
       "Jack Johnson and ...|\n",
       "Beyoncé feat. Sli...|\n",
       "             Misfits|\n",
       "           Radiohead|\n",
       "             Beyoncé|\n",
       "         The Misfits|\n",
       "+--------------------+\n",
       "\n",
       "</div>"
      ]
     },
     "metadata": {},
     "output_type": "display_data"
    }
   ],
   "source": [
    "artist_plays_df.filter((artist_plays_df.new_artistId == 3784) | (artist_plays_df.new_artistId == 453) | (artist_plays_df.new_artistId == 88) | (artist_plays_df.new_artistId == 2214)).join(metadata_df, 'artist_id').sort('Plays', ascending=False).select('artist_name').distinct().show()"
   ]
  },
  {
   "cell_type": "code",
   "execution_count": 50,
   "metadata": {},
   "outputs": [
    {
     "data": {
      "text/html": [
       "<style scoped>\n",
       "  .ansiout {\n",
       "    display: block;\n",
       "    unicode-bidi: embed;\n",
       "    white-space: pre-wrap;\n",
       "    word-wrap: break-word;\n",
       "    word-break: break-all;\n",
       "    font-family: \"Source Code Pro\", \"Menlo\", monospace;;\n",
       "    font-size: 13px;\n",
       "    color: #555;\n",
       "    margin-left: 4px;\n",
       "    line-height: 19px;\n",
       "  }\n",
       "</style>\n",
       "<div class=\"ansiout\"><span class=\"ansired\">---------------------------------------------------------------------------</span>\n",
       "<span class=\"ansired\">Py4JJavaError</span>                             Traceback (most recent call last)\n",
       "<span class=\"ansigreen\">&lt;command-1570243133171221&gt;</span> in <span class=\"ansicyan\">&lt;module&gt;</span><span class=\"ansiblue\">()</span>\n",
       "<span class=\"ansigreen\">     20</span> <span class=\"ansired\"># print output</span><span class=\"ansiyellow\"></span><span class=\"ansiyellow\"></span>\n",
       "<span class=\"ansigreen\">     21</span> print<span class=\"ansiyellow\">(</span><span class=\"ansiblue\">&apos;Predicted Songs:&apos;</span><span class=\"ansiyellow\">)</span><span class=\"ansiyellow\"></span>\n",
       "<span class=\"ansigreen\">---&gt; 22</span><span class=\"ansiyellow\"> </span>predicted_artists<span class=\"ansiyellow\">.</span>join<span class=\"ansiyellow\">(</span>artist_plays_df<span class=\"ansiyellow\">,</span> <span class=\"ansiblue\">&apos;new_artistId&apos;</span><span class=\"ansiyellow\">)</span>                  <span class=\"ansiyellow\">.</span>join<span class=\"ansiyellow\">(</span>metadata_df<span class=\"ansiyellow\">,</span> <span class=\"ansiblue\">&apos;artist_id&apos;</span><span class=\"ansiyellow\">)</span>                  <span class=\"ansiyellow\">.</span>select<span class=\"ansiyellow\">(</span><span class=\"ansiblue\">&apos;artist_name&apos;</span><span class=\"ansiyellow\">,</span> <span class=\"ansiblue\">&apos;title&apos;</span><span class=\"ansiyellow\">,</span> <span class=\"ansiblue\">&apos;prediction&apos;</span><span class=\"ansiyellow\">)</span>                  <span class=\"ansiyellow\">.</span>distinct<span class=\"ansiyellow\">(</span><span class=\"ansiyellow\">)</span>                  <span class=\"ansiyellow\">.</span>orderBy<span class=\"ansiyellow\">(</span><span class=\"ansiblue\">&apos;prediction&apos;</span><span class=\"ansiyellow\">,</span> ascending <span class=\"ansiyellow\">=</span> <span class=\"ansigreen\">False</span><span class=\"ansiyellow\">)</span>                  <span class=\"ansiyellow\">.</span>show<span class=\"ansiyellow\">(</span><span class=\"ansicyan\">10</span><span class=\"ansiyellow\">)</span><span class=\"ansiyellow\"></span>\n",
       "\n",
       "<span class=\"ansigreen\">/databricks/spark/python/pyspark/sql/dataframe.py</span> in <span class=\"ansicyan\">show</span><span class=\"ansiblue\">(self, n, truncate, vertical)</span>\n",
       "<span class=\"ansigreen\">    377</span>         &quot;&quot;&quot;\n",
       "<span class=\"ansigreen\">    378</span>         <span class=\"ansigreen\">if</span> isinstance<span class=\"ansiyellow\">(</span>truncate<span class=\"ansiyellow\">,</span> bool<span class=\"ansiyellow\">)</span> <span class=\"ansigreen\">and</span> truncate<span class=\"ansiyellow\">:</span><span class=\"ansiyellow\"></span>\n",
       "<span class=\"ansigreen\">--&gt; 379</span><span class=\"ansiyellow\">             </span>print<span class=\"ansiyellow\">(</span>self<span class=\"ansiyellow\">.</span>_jdf<span class=\"ansiyellow\">.</span>showString<span class=\"ansiyellow\">(</span>n<span class=\"ansiyellow\">,</span> <span class=\"ansicyan\">20</span><span class=\"ansiyellow\">,</span> vertical<span class=\"ansiyellow\">)</span><span class=\"ansiyellow\">)</span><span class=\"ansiyellow\"></span>\n",
       "<span class=\"ansigreen\">    380</span>         <span class=\"ansigreen\">else</span><span class=\"ansiyellow\">:</span><span class=\"ansiyellow\"></span>\n",
       "<span class=\"ansigreen\">    381</span>             print<span class=\"ansiyellow\">(</span>self<span class=\"ansiyellow\">.</span>_jdf<span class=\"ansiyellow\">.</span>showString<span class=\"ansiyellow\">(</span>n<span class=\"ansiyellow\">,</span> int<span class=\"ansiyellow\">(</span>truncate<span class=\"ansiyellow\">)</span><span class=\"ansiyellow\">,</span> vertical<span class=\"ansiyellow\">)</span><span class=\"ansiyellow\">)</span><span class=\"ansiyellow\"></span>\n",
       "\n",
       "<span class=\"ansigreen\">/databricks/spark/python/lib/py4j-0.10.7-src.zip/py4j/java_gateway.py</span> in <span class=\"ansicyan\">__call__</span><span class=\"ansiblue\">(self, *args)</span>\n",
       "<span class=\"ansigreen\">   1255</span>         answer <span class=\"ansiyellow\">=</span> self<span class=\"ansiyellow\">.</span>gateway_client<span class=\"ansiyellow\">.</span>send_command<span class=\"ansiyellow\">(</span>command<span class=\"ansiyellow\">)</span><span class=\"ansiyellow\"></span>\n",
       "<span class=\"ansigreen\">   1256</span>         return_value = get_return_value(\n",
       "<span class=\"ansigreen\">-&gt; 1257</span><span class=\"ansiyellow\">             answer, self.gateway_client, self.target_id, self.name)\n",
       "</span><span class=\"ansigreen\">   1258</span> <span class=\"ansiyellow\"></span>\n",
       "<span class=\"ansigreen\">   1259</span>         <span class=\"ansigreen\">for</span> temp_arg <span class=\"ansigreen\">in</span> temp_args<span class=\"ansiyellow\">:</span><span class=\"ansiyellow\"></span>\n",
       "\n",
       "<span class=\"ansigreen\">/databricks/spark/python/pyspark/sql/utils.py</span> in <span class=\"ansicyan\">deco</span><span class=\"ansiblue\">(*a, **kw)</span>\n",
       "<span class=\"ansigreen\">     61</span>     <span class=\"ansigreen\">def</span> deco<span class=\"ansiyellow\">(</span><span class=\"ansiyellow\">*</span>a<span class=\"ansiyellow\">,</span> <span class=\"ansiyellow\">**</span>kw<span class=\"ansiyellow\">)</span><span class=\"ansiyellow\">:</span><span class=\"ansiyellow\"></span>\n",
       "<span class=\"ansigreen\">     62</span>         <span class=\"ansigreen\">try</span><span class=\"ansiyellow\">:</span><span class=\"ansiyellow\"></span>\n",
       "<span class=\"ansigreen\">---&gt; 63</span><span class=\"ansiyellow\">             </span><span class=\"ansigreen\">return</span> f<span class=\"ansiyellow\">(</span><span class=\"ansiyellow\">*</span>a<span class=\"ansiyellow\">,</span> <span class=\"ansiyellow\">**</span>kw<span class=\"ansiyellow\">)</span><span class=\"ansiyellow\"></span>\n",
       "<span class=\"ansigreen\">     64</span>         <span class=\"ansigreen\">except</span> py4j<span class=\"ansiyellow\">.</span>protocol<span class=\"ansiyellow\">.</span>Py4JJavaError <span class=\"ansigreen\">as</span> e<span class=\"ansiyellow\">:</span><span class=\"ansiyellow\"></span>\n",
       "<span class=\"ansigreen\">     65</span>             s <span class=\"ansiyellow\">=</span> e<span class=\"ansiyellow\">.</span>java_exception<span class=\"ansiyellow\">.</span>toString<span class=\"ansiyellow\">(</span><span class=\"ansiyellow\">)</span><span class=\"ansiyellow\"></span>\n",
       "\n",
       "<span class=\"ansigreen\">/databricks/spark/python/lib/py4j-0.10.7-src.zip/py4j/protocol.py</span> in <span class=\"ansicyan\">get_return_value</span><span class=\"ansiblue\">(answer, gateway_client, target_id, name)</span>\n",
       "<span class=\"ansigreen\">    326</span>                 raise Py4JJavaError(\n",
       "<span class=\"ansigreen\">    327</span>                     <span class=\"ansiblue\">&quot;An error occurred while calling {0}{1}{2}.\\n&quot;</span><span class=\"ansiyellow\">.</span><span class=\"ansiyellow\"></span>\n",
       "<span class=\"ansigreen\">--&gt; 328</span><span class=\"ansiyellow\">                     format(target_id, &quot;.&quot;, name), value)\n",
       "</span><span class=\"ansigreen\">    329</span>             <span class=\"ansigreen\">else</span><span class=\"ansiyellow\">:</span><span class=\"ansiyellow\"></span>\n",
       "<span class=\"ansigreen\">    330</span>                 raise Py4JError(\n",
       "\n",
       "<span class=\"ansired\">Py4JJavaError</span>: An error occurred while calling o2738.showString.\n",
       ": org.apache.spark.SparkException: Job aborted due to stage failure: Task 5 in stage 2849.0 failed 4 times, most recent failure: Lost task 5.3 in stage 2849.0 (TID 26868, 10.39.231.53, executor 4): java.lang.ArrayIndexOutOfBoundsException\n",
       "\n",
       "Driver stacktrace:\n",
       "\tat org.apache.spark.scheduler.DAGScheduler.org$apache$spark$scheduler$DAGScheduler$$failJobAndIndependentStages(DAGScheduler.scala:2355)\n",
       "\tat org.apache.spark.scheduler.DAGScheduler$$anonfun$abortStage$1.apply(DAGScheduler.scala:2343)\n",
       "\tat org.apache.spark.scheduler.DAGScheduler$$anonfun$abortStage$1.apply(DAGScheduler.scala:2342)\n",
       "\tat scala.collection.mutable.ResizableArray$class.foreach(ResizableArray.scala:59)\n",
       "\tat scala.collection.mutable.ArrayBuffer.foreach(ArrayBuffer.scala:48)\n",
       "\tat org.apache.spark.scheduler.DAGScheduler.abortStage(DAGScheduler.scala:2342)\n",
       "\tat org.apache.spark.scheduler.DAGScheduler$$anonfun$handleTaskSetFailed$1.apply(DAGScheduler.scala:1096)\n",
       "\tat org.apache.spark.scheduler.DAGScheduler$$anonfun$handleTaskSetFailed$1.apply(DAGScheduler.scala:1096)\n",
       "\tat scala.Option.foreach(Option.scala:257)\n",
       "\tat org.apache.spark.scheduler.DAGScheduler.handleTaskSetFailed(DAGScheduler.scala:1096)\n",
       "\tat org.apache.spark.scheduler.DAGSchedulerEventProcessLoop.doOnReceive(DAGScheduler.scala:2574)\n",
       "\tat org.apache.spark.scheduler.DAGSchedulerEventProcessLoop.onReceive(DAGScheduler.scala:2522)\n",
       "\tat org.apache.spark.scheduler.DAGSchedulerEventProcessLoop.onReceive(DAGScheduler.scala:2510)\n",
       "\tat org.apache.spark.util.EventLoop$$anon$1.run(EventLoop.scala:49)\n",
       "\tat org.apache.spark.scheduler.DAGScheduler.runJob(DAGScheduler.scala:893)\n",
       "\tat org.apache.spark.SparkContext.runJob(SparkContext.scala:2243)\n",
       "\tat org.apache.spark.SparkContext.runJob(SparkContext.scala:2341)\n",
       "\tat org.apache.spark.rdd.RDD$$anonfun$takeOrdered$1.apply(RDD.scala:1467)\n",
       "\tat org.apache.spark.rdd.RDDOperationScope$.withScope(RDDOperationScope.scala:151)\n",
       "\tat org.apache.spark.rdd.RDDOperationScope$.withScope(RDDOperationScope.scala:112)\n",
       "\tat org.apache.spark.rdd.RDD.withScope(RDD.scala:379)\n",
       "\tat org.apache.spark.rdd.RDD.takeOrdered(RDD.scala:1442)\n",
       "\tat org.apache.spark.sql.execution.TakeOrderedAndProjectExec.executeCollect(limit.scala:154)\n",
       "\tat org.apache.spark.sql.execution.collect.Collector$.collect(Collector.scala:67)\n",
       "\tat org.apache.spark.sql.execution.collect.Collector$.collect(Collector.scala:86)\n",
       "\tat org.apache.spark.sql.execution.ResultCacheManager.getOrComputeResult(ResultCacheManager.scala:508)\n",
       "\tat org.apache.spark.sql.execution.ResultCacheManager.getOrComputeResult(ResultCacheManager.scala:480)\n",
       "\tat org.apache.spark.sql.execution.SparkPlan.executeCollectResult(SparkPlan.scala:324)\n",
       "\tat org.apache.spark.sql.Dataset.org$apache$spark$sql$Dataset$$collectResult(Dataset.scala:2834)\n",
       "\tat org.apache.spark.sql.Dataset.org$apache$spark$sql$Dataset$$collectFromPlan(Dataset.scala:3446)\n",
       "\tat org.apache.spark.sql.Dataset$$anonfun$head$1.apply(Dataset.scala:2563)\n",
       "\tat org.apache.spark.sql.Dataset$$anonfun$head$1.apply(Dataset.scala:2563)\n",
       "\tat org.apache.spark.sql.Dataset$$anonfun$54.apply(Dataset.scala:3430)\n",
       "\tat org.apache.spark.sql.Dataset$$anonfun$54.apply(Dataset.scala:3425)\n",
       "\tat org.apache.spark.sql.execution.SQLExecution$$anonfun$withCustomExecutionEnv$1.apply(SQLExecution.scala:111)\n",
       "\tat org.apache.spark.sql.execution.SQLExecution$.withSQLConfPropagated(SQLExecution.scala:240)\n",
       "\tat org.apache.spark.sql.execution.SQLExecution$.withCustomExecutionEnv(SQLExecution.scala:97)\n",
       "\tat org.apache.spark.sql.execution.SQLExecution$.withNewExecutionId(SQLExecution.scala:170)\n",
       "\tat org.apache.spark.sql.Dataset.org$apache$spark$sql$Dataset$$withAction(Dataset.scala:3425)\n",
       "\tat org.apache.spark.sql.Dataset.head(Dataset.scala:2563)\n",
       "\tat org.apache.spark.sql.Dataset.take(Dataset.scala:2777)\n",
       "\tat org.apache.spark.sql.Dataset.getRows(Dataset.scala:265)\n",
       "\tat org.apache.spark.sql.Dataset.showString(Dataset.scala:302)\n",
       "\tat sun.reflect.GeneratedMethodAccessor342.invoke(Unknown Source)\n",
       "\tat sun.reflect.DelegatingMethodAccessorImpl.invoke(DelegatingMethodAccessorImpl.java:43)\n",
       "\tat java.lang.reflect.Method.invoke(Method.java:498)\n",
       "\tat py4j.reflection.MethodInvoker.invoke(MethodInvoker.java:244)\n",
       "\tat py4j.reflection.ReflectionEngine.invoke(ReflectionEngine.java:380)\n",
       "\tat py4j.Gateway.invoke(Gateway.java:295)\n",
       "\tat py4j.commands.AbstractCommand.invokeMethod(AbstractCommand.java:132)\n",
       "\tat py4j.commands.CallCommand.execute(CallCommand.java:79)\n",
       "\tat py4j.GatewayConnection.run(GatewayConnection.java:251)\n",
       "\tat java.lang.Thread.run(Thread.java:748)\n",
       "Caused by: java.lang.ArrayIndexOutOfBoundsException\n",
       "</div>"
      ]
     },
     "metadata": {},
     "output_type": "display_data"
    }
   ],
   "source": [
    "UserID = 980727\n",
    "listened_artists = artist_plays_df.filter(artist_plays_df.new_userId == UserID) \\\n",
    "                                          .join(metadata_df, 'artist_id') \\\n",
    "                                          .select('new_artistId', 'artist_name', 'title') \\\n",
    "                                          \n",
    "# generate list of listened artists\n",
    "listened_artists_list = []\n",
    "for song in listened_artists.collect():\n",
    "  listened_artists_list.append(song['new_artistId'])\n",
    "\n",
    "print('Artists user has listened to:')\n",
    "listened_artists.select('artist_name').distinct().show()\n",
    "\n",
    "# generate dataframe of unlistened songs\n",
    "unlistened_artists = artist_plays_df.filter(~ artist_plays_df['new_artistId'].isin(listened_artists_list)) \\\n",
    "                                            .select('new_artistId').withColumn('new_userId', F.lit(UserID)).distinct()\n",
    "\n",
    "# feed unlistened songs into model\n",
    "predicted_artists = model_artist.transform(unlistened_artists)\n",
    "\n",
    "# remove NaNs\n",
    "predicted_artists = predicted_artists.filter(predicted_artists['prediction'] != float('nan'))\n",
    "\n",
    "# print output\n",
    "print('Predicted Songs:')\n",
    "predicted_artists.join(artist_plays_df, 'new_artistId') \\\n",
    "                 .join(metadata_df, 'artist_id') \\\n",
    "                 .select('artist_name', 'title', 'prediction') \\\n",
    "                 .distinct() \\\n",
    "                 .orderBy('prediction', ascending = False) \\\n",
    "                 .show(10)"
   ]
  },
  {
   "cell_type": "code",
   "execution_count": 51,
   "metadata": {},
   "outputs": [],
   "source": [
    "listened_songs.select('artist_name', 'title').show()\n",
    "unlistened_songs = raw_plays_df_with_int_ids.filter(~ raw_plays_df_with_int_ids['new_songId'].isin(listened_songs_list)) \\\n",
    "                                            .select('new_songId').withColumn('new_userId', F.lit(UserID)).distinct()\n",
    "\n",
    "predicted_listens_2 = model_2.transform(unlistened_songs)\n",
    "predicted_listens_2 = predicted_listens_2.filter(predicted_listens_2['prediction'] != float('nan'))\n",
    "\n",
    "print('Predicted Songs:')\n",
    "predicted_listens_2.join(raw_plays_df_with_int_ids, 'new_songId') \\\n",
    "                 .join(metadata_df, 'songId') \\\n",
    "                 .select('artist_name', 'title', 'prediction') \\\n",
    "                 .distinct() \\\n",
    "                 .orderBy('prediction', ascending = False) \\\n",
    "                 .show(10)"
   ]
  },
  {
   "cell_type": "code",
   "execution_count": 52,
   "metadata": {},
   "outputs": [
    {
     "data": {
      "text/html": [
       "<style scoped>\n",
       "  .ansiout {\n",
       "    display: block;\n",
       "    unicode-bidi: embed;\n",
       "    white-space: pre-wrap;\n",
       "    word-wrap: break-word;\n",
       "    word-break: break-all;\n",
       "    font-family: \"Source Code Pro\", \"Menlo\", monospace;;\n",
       "    font-size: 13px;\n",
       "    color: #555;\n",
       "    margin-left: 4px;\n",
       "    line-height: 19px;\n",
       "  }\n",
       "</style>\n",
       "<div class=\"ansiout\">The model had a RMSE on the test set of 6.716275649987533\n",
       "</div>"
      ]
     },
     "metadata": {},
     "output_type": "display_data"
    }
   ],
   "source": [
    "## Testing\n",
    "# In ML Pipelines, this next step has a bug that produces unwanted NaN values\n",
    "\n",
    "predicted_test_artist = my_model_artist.transform(test_artist)\n",
    "\n",
    "# Remove NaN values from prediction (due to SPARK-14489)\n",
    "predicted_test_artist = predicted_test_artist.filter(predicted_test_artist.prediction != float('nan'))\n",
    "\n",
    "# Round floats to whole numbers\n",
    "predicted_test_artist = predicted_test_artist.withColumn(\"prediction\", F.abs(F.round(predicted_test_artist[\"prediction\"],0)))\n",
    "# Run the previously created RMSE evaluator, reg_eval, on the predicted_test_df DataFrame\n",
    "test_artist_RMSE = reg_eval.evaluate(predicted_test_artist)\n",
    "\n",
    "print('The model had a RMSE on the test set of {0}'.format(test_artist_RMSE))"
   ]
  },
  {
   "cell_type": "markdown",
   "metadata": {},
   "source": [
    "<br>\n",
    "\n",
    "## Making Predictions Based on Songs Listened to at Least Twice\n",
    "\n",
    "In order to lower the error I hypothesize that if a user has only listened to a song once, it is not representative of their listening profile. Listening to songs at least twice may be more representative and yield lower errors in the model predictions. Also since we want to recommend songs that the user likes, and will hopefully listen to more than once, it makes sense to use train on songs that have been listened to more than once."
   ]
  },
  {
   "cell_type": "code",
   "execution_count": 54,
   "metadata": {},
   "outputs": [
    {
     "data": {
      "text/html": [
       "<style scoped>\n",
       "  .ansiout {\n",
       "    display: block;\n",
       "    unicode-bidi: embed;\n",
       "    white-space: pre-wrap;\n",
       "    word-wrap: break-word;\n",
       "    word-break: break-all;\n",
       "    font-family: \"Source Code Pro\", \"Menlo\", monospace;;\n",
       "    font-size: 13px;\n",
       "    color: #555;\n",
       "    margin-left: 4px;\n",
       "    line-height: 19px;\n",
       "  }\n",
       "</style>\n",
       "<div class=\"ansiout\">Total enties with two or more plays: 19617620\n",
       "<span class=\"ansired\">Out[</span><span class=\"ansired\">53</span><span class=\"ansired\">]: </span>DataFrame[new_userId: int, new_songId: int, Plays: int]</div>"
      ]
     },
     "metadata": {},
     "output_type": "display_data"
    }
   ],
   "source": [
    "raw_plays_df_2more_plays = raw_plays_df.join(userId_change, 'userId') \\\n",
    "                                       .join(songId_change, 'songId') \\\n",
    "                                       .filter(raw_plays_df.Plays >= 2)\\\n",
    "                                       .distinct()\n",
    "\n",
    "tot_entries_2more = raw_plays_df_2more_plays.count()\n",
    "print('Total enties with two or more plays: {0}'.format(tot_entries_2more))\n",
    "\n",
    "raw_plays_df_2more_plays = raw_plays_df_2more_plays.filter(raw_plays_df_2more_plays.new_userId < (userId_change.count())*0.8) \\\n",
    "                                                   .select('new_userId', 'new_songId', 'Plays')\n",
    "raw_plays_df_2more_plays.cache() "
   ]
  },
  {
   "cell_type": "markdown",
   "metadata": {},
   "source": [
    "We still see one number (2) which dominates, at around 37%, however this is much better than for one plays, which had almost 60%"
   ]
  },
  {
   "cell_type": "markdown",
   "metadata": {},
   "source": [
    "Split into training, validation, and test datasets"
   ]
  },
  {
   "cell_type": "code",
   "execution_count": 57,
   "metadata": {},
   "outputs": [
    {
     "data": {
      "text/html": [
       "<style scoped>\n",
       "  .ansiout {\n",
       "    display: block;\n",
       "    unicode-bidi: embed;\n",
       "    white-space: pre-wrap;\n",
       "    word-wrap: break-word;\n",
       "    word-break: break-all;\n",
       "    font-family: \"Source Code Pro\", \"Menlo\", monospace;;\n",
       "    font-size: 13px;\n",
       "    color: #555;\n",
       "    margin-left: 4px;\n",
       "    line-height: 19px;\n",
       "  }\n",
       "</style>\n",
       "<div class=\"ansiout\">Training: 9416289, validation: 3140562, test: 3134102\n",
       "\n",
       "+----------+----------+-----+\n",
       "new_userId|new_songId|Plays|\n",
       "+----------+----------+-----+\n",
       "         2|     23720|    2|\n",
       "         2|    130614|    3|\n",
       "         2|    175180|    2|\n",
       "+----------+----------+-----+\n",
       "only showing top 3 rows\n",
       "\n",
       "+----------+----------+-----+\n",
       "new_userId|new_songId|Plays|\n",
       "+----------+----------+-----+\n",
       "         5|      3879|  2.0|\n",
       "         5|     32786|  2.0|\n",
       "         5|    151582|  2.0|\n",
       "+----------+----------+-----+\n",
       "only showing top 3 rows\n",
       "\n",
       "+----------+----------+-----+\n",
       "new_userId|new_songId|Plays|\n",
       "+----------+----------+-----+\n",
       "         4|    291935| 10.0|\n",
       "         5|     88446|  8.0|\n",
       "         5|    197575|  2.0|\n",
       "+----------+----------+-----+\n",
       "only showing top 3 rows\n",
       "\n",
       "</div>"
      ]
     },
     "metadata": {},
     "output_type": "display_data"
    }
   ],
   "source": [
    "# We'll hold out 60% for training, 20% of our data for validation, and leave 20% for testing\n",
    "#seed = 1800083193L\n",
    "seed = 1\n",
    "(split_60_df_2more, split_a_20_df_2more, split_b_20_df_2more) = raw_plays_df_2more_plays.randomSplit([0.6, 0.2, 0.2], seed = seed)\n",
    "\n",
    "# Let's cache these datasets for performance\n",
    "training_2more_df = split_60_df_2more.cache()\n",
    "validation_2more_df = split_a_20_df_2more.cache()\n",
    "test_2more_df = split_b_20_df_2more.cache()\n",
    "\n",
    "print('Training: {0}, validation: {1}, test: {2}\\n'.format(\n",
    "  training_2more_df.count(), validation_2more_df.count(), test_2more_df.count())\n",
    ")\n",
    "validation_2more_df = validation_2more_df.withColumn(\"Plays\", validation_2more_df[\"Plays\"].cast(DoubleType()))\n",
    "test_2more_df = test_2more_df.withColumn(\"Plays\", test_2more_df[\"Plays\"].cast(DoubleType()))\n",
    "\n",
    "training_2more_df.show(3)\n",
    "validation_2more_df.show(3)\n",
    "test_2more_df.show(3)"
   ]
  },
  {
   "cell_type": "markdown",
   "metadata": {},
   "source": [
    "### Train Using Alternating Least Squares"
   ]
  },
  {
   "cell_type": "code",
   "execution_count": 59,
   "metadata": {},
   "outputs": [
    {
     "data": {
      "text/html": [
       "<style scoped>\n",
       "  .ansiout {\n",
       "    display: block;\n",
       "    unicode-bidi: embed;\n",
       "    white-space: pre-wrap;\n",
       "    word-wrap: break-word;\n",
       "    word-break: break-all;\n",
       "    font-family: \"Source Code Pro\", \"Menlo\", monospace;;\n",
       "    font-size: 13px;\n",
       "    color: #555;\n",
       "    margin-left: 4px;\n",
       "    line-height: 19px;\n",
       "  }\n",
       "</style>\n",
       "<div class=\"ansiout\">For rank 4, regularization parameter 0.1 the RMSE is 13.184865519618292\n",
       "For rank 8, regularization parameter 0.1 the RMSE is 12.73819243617186\n",
       "For rank 12, regularization parameter 0.1 the RMSE is 12.016093328057908\n",
       "For rank 16, regularization parameter 0.1 the RMSE is 11.748674123587799\n",
       "For rank 4, regularization parameter 0.15 the RMSE is 11.944077870188465\n",
       "For rank 8, regularization parameter 0.15 the RMSE is 11.384782117269651\n",
       "For rank 12, regularization parameter 0.15 the RMSE is 10.79999919523712\n",
       "For rank 16, regularization parameter 0.15 the RMSE is 10.621286376266848\n",
       "For rank 4, regularization parameter 0.2 the RMSE is 11.248099852651647\n",
       "For rank 8, regularization parameter 0.2 the RMSE is 10.705218383267567\n",
       "For rank 12, regularization parameter 0.2 the RMSE is 10.268625324972696\n",
       "For rank 16, regularization parameter 0.2 the RMSE is 10.147094632699774\n",
       "For rank 4, regularization parameter 0.25 the RMSE is 10.832849575239294\n",
       "For rank 8, regularization parameter 0.25 the RMSE is 10.336500847617668\n",
       "For rank 12, regularization parameter 0.25 the RMSE is 10.006430097076828\n",
       "For rank 16, regularization parameter 0.25 the RMSE is 9.922769320284214\n",
       "The best model was trained with regularization parameter 0.25\n",
       "The best model was trained with rank 16\n",
       "</div>"
      ]
     },
     "metadata": {},
     "output_type": "display_data"
    }
   ],
   "source": [
    "# Let's initialize our ALS learner\n",
    "als_2more = ALS()\n",
    "\n",
    "# Now set the parameters for the method\n",
    "als_2more.setMaxIter(2)\\\n",
    "   .setSeed(seed)\\\n",
    "   .setItemCol(\"new_songId\")\\\n",
    "   .setRatingCol(\"Plays\")\\\n",
    "   .setUserCol(\"new_userId\")\n",
    "\n",
    "# Now let's compute an evaluation metric for our test dataset\n",
    "# We Create an RMSE evaluator using the label and predicted columns\n",
    "reg_eval = RegressionEvaluator(predictionCol=\"prediction\", labelCol=\"Plays\", metricName=\"rmse\")\n",
    "\n",
    "tolerance = 0.03\n",
    "ranks = [4, 8, 12, 16]\n",
    "regParams = [0.1, 0.15, 0.2, 0.25]\n",
    "errors = [[0]*len(ranks)]*len(regParams)\n",
    "models = [[0]*len(ranks)]*len(regParams)\n",
    "err = 0\n",
    "min_error = float('inf')\n",
    "best_rank = -1\n",
    "i = 0\n",
    "for regParam in regParams:\n",
    "  j = 0\n",
    "  for rank in ranks:\n",
    "    # Set the rank here:\n",
    "    als_2more.setParams(rank = rank, regParam = regParam)\n",
    "    # Create the model with these parameters.\n",
    "    model = als_2more.fit(training_2more_df)\n",
    "    # Run the model to create a prediction. Predict against the validation_df.\n",
    "    predict_df = model.transform(validation_2more_df)\n",
    "\n",
    "    # Remove NaN values from prediction (due to SPARK-14489)\n",
    "    predicted_plays_df = predict_df.filter(predict_df.prediction != float('nan'))\n",
    "    predicted_plays_df = predicted_plays_df.withColumn(\"prediction\", F.abs(F.round(predicted_plays_df[\"prediction\"],0)))\n",
    "    # Run the previously created RMSE evaluator, reg_eval, on the predicted_ratings_df DataFrame\n",
    "    error = reg_eval.evaluate(predicted_plays_df)\n",
    "    errors[i][j] = error\n",
    "    models[i][j] = model\n",
    "    print ('For rank %s, regularization parameter %s the RMSE is %s' % (rank, regParam, error))\n",
    "    if error < min_error:\n",
    "      min_error = error\n",
    "      best_params = [i,j]\n",
    "    j += 1\n",
    "  i += 1\n",
    "\n",
    "als_2more.setRegParam(regParams[best_params[0]])\n",
    "als_2more.setRank(ranks[best_params[1]])\n",
    "print ('The best model was trained with regularization parameter %s' % regParams[best_params[0]])\n",
    "print ('The best model was trained with rank %s' % ranks[best_params[1]])\n",
    "my_model_2more = models[best_params[0]][best_params[1]]"
   ]
  },
  {
   "cell_type": "code",
   "execution_count": 60,
   "metadata": {},
   "outputs": [
    {
     "data": {
      "text/html": [
       "<style scoped>\n",
       "  .ansiout {\n",
       "    display: block;\n",
       "    unicode-bidi: embed;\n",
       "    white-space: pre-wrap;\n",
       "    word-wrap: break-word;\n",
       "    word-break: break-all;\n",
       "    font-family: \"Source Code Pro\", \"Menlo\", monospace;;\n",
       "    font-size: 13px;\n",
       "    color: #555;\n",
       "    margin-left: 4px;\n",
       "    line-height: 19px;\n",
       "  }\n",
       "</style>\n",
       "<div class=\"ansiout\"></div>"
      ]
     },
     "metadata": {},
     "output_type": "display_data"
    }
   ],
   "source": [
    "# Let's initialize our ALS learner\n",
    "als_2 = ALS()\n",
    "\n",
    "# Now set the parameters for the method\n",
    "als_2.setMaxIter(5)\\\n",
    "   .setSeed(seed)\\\n",
    "   .setItemCol(\"new_songId\")\\\n",
    "   .setRatingCol(\"Plays\")\\\n",
    "   .setUserCol(\"new_userId\")\n",
    "\n",
    "# Now let's compute an evaluation metric for our test dataset\n",
    "# We Create an RMSE evaluator using the label and predicted columns\n",
    "reg_eval = RegressionEvaluator(predictionCol=\"prediction\", labelCol=\"Plays\", metricName=\"rmse\")\n",
    "\n",
    "als_2.setParams(rank = 16, regParam = 0.25)\n",
    "model_2 = als_2.fit(training_2more_df)\n",
    "predict_2 = model_2.transform(validation_2more_df)\n",
    "predict_2_test = model_2.transform(test_2more_df)"
   ]
  },
  {
   "cell_type": "markdown",
   "metadata": {},
   "source": [
    "### Test the Model on the Test Dataset"
   ]
  },
  {
   "cell_type": "code",
   "execution_count": 62,
   "metadata": {},
   "outputs": [
    {
     "data": {
      "text/html": [
       "<style scoped>\n",
       "  .ansiout {\n",
       "    display: block;\n",
       "    unicode-bidi: embed;\n",
       "    white-space: pre-wrap;\n",
       "    word-wrap: break-word;\n",
       "    word-break: break-all;\n",
       "    font-family: \"Source Code Pro\", \"Menlo\", monospace;;\n",
       "    font-size: 13px;\n",
       "    color: #555;\n",
       "    margin-left: 4px;\n",
       "    line-height: 19px;\n",
       "  }\n",
       "</style>\n",
       "<div class=\"ansiout\">The model had a RMSE on the test set of 10.02409210286157\n",
       "</div>"
      ]
     },
     "metadata": {},
     "output_type": "display_data"
    }
   ],
   "source": [
    "predict2_df = model_2.transform(test_2more_df)\n",
    "\n",
    "# Remove NaN values from prediction (due to SPARK-14489)\n",
    "predicted2_test_df = predict2_df.filter(predict2_df.prediction != float('nan'))\n",
    "\n",
    "# Round floats to whole numbers\n",
    "predicted2_test_df = predicted2_test_df.withColumn(\"prediction\", F.abs(F.round(predicted2_test_df[\"prediction\"],0)))\n",
    "# Run the previously created RMSE evaluator, reg_eval, on the predicted_test_df DataFrame\n",
    "test2_RMSE = reg_eval.evaluate(predicted2_test_df)\n",
    "\n",
    "print('The model had a RMSE on the test set of {0}'.format(test2_RMSE))"
   ]
  },
  {
   "cell_type": "markdown",
   "metadata": {},
   "source": [
    "### Comparing the Model\n",
    "\n",
    "We again compare to selecting the average number of plays from the training dataset"
   ]
  },
  {
   "cell_type": "code",
   "execution_count": 64,
   "metadata": {},
   "outputs": [
    {
     "data": {
      "text/html": [
       "<style scoped>\n",
       "  .ansiout {\n",
       "    display: block;\n",
       "    unicode-bidi: embed;\n",
       "    white-space: pre-wrap;\n",
       "    word-wrap: break-word;\n",
       "    word-break: break-all;\n",
       "    font-family: \"Source Code Pro\", \"Menlo\", monospace;;\n",
       "    font-size: 13px;\n",
       "    color: #555;\n",
       "    margin-left: 4px;\n",
       "    line-height: 19px;\n",
       "  }\n",
       "</style>\n",
       "<div class=\"ansiout\">+--------------------+\n",
       "round(avg(Plays), 0)|\n",
       "+--------------------+\n",
       "                 6.0|\n",
       "+--------------------+\n",
       "\n",
       "The average number of plays in the dataset is 6.0\n",
       "The RMSE on the average set is 9.244973830567792\n",
       "</div>"
      ]
     },
     "metadata": {},
     "output_type": "display_data"
    }
   ],
   "source": [
    "avg_plays2_df = training_2more_df.groupBy().avg('Plays').select(F.round('avg(Plays)'))\n",
    "\n",
    "avg_plays2_df.show(3)\n",
    "# Extract the average rating value. (This is row 0, column 0.)\n",
    "training_avg_plays2 = avg_plays2_df.collect()[0][0]\n",
    "\n",
    "print('The average number of plays in the dataset is {0}'.format(training_avg_plays2))\n",
    "\n",
    "# Add a column with the average rating\n",
    "test_for_avg2_df = test_2more_df.withColumn('prediction', F.lit(training_avg_plays2))\n",
    "\n",
    "# Run the previously created RMSE evaluator, reg_eval, on the test_for_avg_df DataFrame\n",
    "test_avg2_RMSE = reg_eval.evaluate(test_for_avg2_df)\n",
    "\n",
    "print(\"The RMSE on the average set is {0}\".format(test_avg2_RMSE))"
   ]
  },
  {
   "cell_type": "markdown",
   "metadata": {},
   "source": [
    "Though we see higher RMSEs than when we included songs with 1 play, this is to be expected since the model is likely to there is larger mean and larger variation.\n",
    "\n",
    "We can also see that, compared to average number of plays in the dataset, excluding one play songs the model performs better."
   ]
  },
  {
   "cell_type": "markdown",
   "metadata": {},
   "source": [
    "### Prediction for a User\n",
    "\n",
    "We use an example user to visually see the kind of songs the model predicts"
   ]
  },
  {
   "cell_type": "code",
   "execution_count": 67,
   "metadata": {},
   "outputs": [
    {
     "data": {
      "text/html": [
       "<style scoped>\n",
       "  .ansiout {\n",
       "    display: block;\n",
       "    unicode-bidi: embed;\n",
       "    white-space: pre-wrap;\n",
       "    word-wrap: break-word;\n",
       "    word-break: break-all;\n",
       "    font-family: \"Source Code Pro\", \"Menlo\", monospace;;\n",
       "    font-size: 13px;\n",
       "    color: #555;\n",
       "    margin-left: 4px;\n",
       "    line-height: 19px;\n",
       "  }\n",
       "</style>\n",
       "<div class=\"ansiout\">+-----------+--------------------+\n",
       "artist_name|               title|\n",
       "+-----------+--------------------+\n",
       "The Killers|A Dustland Fairytale|\n",
       "+-----------+--------------------+\n",
       "\n",
       "Predicted Songs:\n",
       "+-------------------+--------------------+----------+\n",
       "        artist_name|               title|prediction|\n",
       "+-------------------+--------------------+----------+\n",
       "         Mary Black|     Flesh And Blood| 40.482685|\n",
       "               Mazz|           Más Y Más| 33.126324|\n",
       "     Back Door Slam|Heavy On My Mind ...| 30.418045|\n",
       "      The Berzerker|         Pure Hatred| 28.786285|\n",
       "   Angela Dimitriou|       Mi Mas Agapas| 26.135033|\n",
       "My Chemical Romance|Interlude (Album ...| 26.135033|\n",
       "            Planxty|Follow Me Up To C...| 26.038643|\n",
       "        Olivia Ruiz|              Enervé| 25.370657|\n",
       "     Jeremy Spencer|   Maria De Santiago| 24.715492|\n",
       "             Prozak|   It\u0019s Too Late Now| 24.189468|\n",
       "+-------------------+--------------------+----------+\n",
       "only showing top 10 rows\n",
       "\n",
       "</div>"
      ]
     },
     "metadata": {},
     "output_type": "display_data"
    }
   ],
   "source": [
    "listened_songs.select('artist_name', 'title').show()\n",
    "unlistened_songs = raw_plays_df_with_int_ids.filter(~ raw_plays_df_with_int_ids['new_songId'].isin(listened_songs_list)) \\\n",
    "                                            .select('new_songId').withColumn('new_userId', F.lit(UserID)).distinct()\n",
    "\n",
    "predicted_listens_2 = model_2.transform(unlistened_songs)\n",
    "predicted_listens_2 = predicted_listens_2.filter(predicted_listens_2['prediction'] != float('nan'))\n",
    "\n",
    "print('Predicted Songs:')\n",
    "predicted_listens_2.join(raw_plays_df_with_int_ids, 'new_songId') \\\n",
    "                 .join(metadata_df, 'songId') \\\n",
    "                 .select('artist_name', 'title', 'prediction') \\\n",
    "                 .distinct() \\\n",
    "                 .orderBy('prediction', ascending = False) \\\n",
    "                 .show(10)"
   ]
  },
  {
   "cell_type": "markdown",
   "metadata": {},
   "source": [
    "## Clustering -- K-Means Clustering for Song clusters -- Madhavi"
   ]
  },
  {
   "cell_type": "code",
   "execution_count": 69,
   "metadata": {},
   "outputs": [
    {
     "data": {
      "text/html": [
       "<style scoped>\n",
       "  .ansiout {\n",
       "    display: block;\n",
       "    unicode-bidi: embed;\n",
       "    white-space: pre-wrap;\n",
       "    word-wrap: break-word;\n",
       "    word-break: break-all;\n",
       "    font-family: \"Source Code Pro\", \"Menlo\", monospace;;\n",
       "    font-size: 13px;\n",
       "    color: #555;\n",
       "    margin-left: 4px;\n",
       "    line-height: 19px;\n",
       "  }\n",
       "</style>\n",
       "<div class=\"ansiout\"></div>"
      ]
     },
     "metadata": {},
     "output_type": "display_data"
    }
   ],
   "source": [
    "# Step 1 join dataframes - append song hottness & artist hottness\n",
    "df_for_clustering = raw_plays_df_with_int_ids.join(metadata_df.select('song_hotttnesss', 'artist_name', 'title','artist_familiarity', 'genre','artist_hotttness','songId'), 'songId')\n",
    "\n",
    "#df_for_clustering = df_for_clustering.join\n",
    "#df_for_clustering.na.fill(0).show(5)"
   ]
  },
  {
   "cell_type": "code",
   "execution_count": 70,
   "metadata": {},
   "outputs": [
    {
     "data": {
      "text/html": [
       "<style scoped>\n",
       "  .ansiout {\n",
       "    display: block;\n",
       "    unicode-bidi: embed;\n",
       "    white-space: pre-wrap;\n",
       "    word-wrap: break-word;\n",
       "    word-break: break-all;\n",
       "    font-family: \"Source Code Pro\", \"Menlo\", monospace;;\n",
       "    font-size: 13px;\n",
       "    color: #555;\n",
       "    margin-left: 4px;\n",
       "    line-height: 19px;\n",
       "  }\n",
       "</style>\n",
       "<div class=\"ansiout\"><span class=\"ansired\">Out[</span><span class=\"ansired\">33</span><span class=\"ansired\">]: </span>0</div>"
      ]
     },
     "metadata": {},
     "output_type": "display_data"
    }
   ],
   "source": [
    "from pyspark.sql import functions as F\n",
    "\n",
    "df_temp = df_for_clustering.select(\n",
    "  \"artist_familiarity\",\n",
    "  F.col(\"artist_familiarity\").cast(\"int\").isNotNull().alias(\"Value\")\n",
    ")\n",
    "\n",
    "\n",
    "df_temp.where(df_temp.Value == 'false').select(\"artist_familiarity\").count()\n"
   ]
  },
  {
   "cell_type": "code",
   "execution_count": 71,
   "metadata": {},
   "outputs": [
    {
     "data": {
      "text/html": [
       "<style scoped>\n",
       "  .ansiout {\n",
       "    display: block;\n",
       "    unicode-bidi: embed;\n",
       "    white-space: pre-wrap;\n",
       "    word-wrap: break-word;\n",
       "    word-break: break-all;\n",
       "    font-family: \"Source Code Pro\", \"Menlo\", monospace;;\n",
       "    font-size: 13px;\n",
       "    color: #555;\n",
       "    margin-left: 4px;\n",
       "    line-height: 19px;\n",
       "  }\n",
       "</style>\n",
       "<div class=\"ansiout\">+------------------+------------------+--------------------+-----+----------+----------+------------+----------------+-----------+-------------------+------------------+-----+------------------+--------------------+\n",
       "            songId|         artist_id|              userId|Plays|new_userId|new_songId|new_artistId| song_hotttnesss|artist_name|              title|artist_familiarity|genre|  artist_hotttness|            features|\n",
       "+------------------+------------------+--------------------+-----+----------+----------+------------+----------------+-----------+-------------------+------------------+-----+------------------+--------------------+\n",
       "SOCKUUJ12A6D4FA41C|ARXSABJ1187FB3C336|29ae33988946a423f...|    1|    786037|      9626|         301|0.69047353903576|   Deftones|Lotion (LP Version)|0.8216973167394691| null|0.6017297557100237|[1.0,0.6017297557...|\n",
       "SOCKUUJ12A6D4FA41C|ARXSABJ1187FB3C336|6866d8cf3f418f3dc...|    1|    783126|      9626|         301|0.69047353903576|   Deftones|Lotion (LP Version)|0.8216973167394691| null|0.6017297557100237|[1.0,0.6017297557...|\n",
       "SOCKUUJ12A6D4FA41C|ARXSABJ1187FB3C336|8ae7b3a604c68d688...|   25|    785407|      9626|         301|0.69047353903576|   Deftones|Lotion (LP Version)|0.8216973167394691| null|0.6017297557100237|[25.0,0.601729755...|\n",
       "SOCKUUJ12A6D4FA41C|ARXSABJ1187FB3C336|9b862d3237e93308b...|    1|    785441|      9626|         301|0.69047353903576|   Deftones|Lotion (LP Version)|0.8216973167394691| null|0.6017297557100237|[1.0,0.6017297557...|\n",
       "SOCKUUJ12A6D4FA41C|ARXSABJ1187FB3C336|b276add80e2341d59...|    1|    783535|      9626|         301|0.69047353903576|   Deftones|Lotion (LP Version)|0.8216973167394691| null|0.6017297557100237|[1.0,0.6017297557...|\n",
       "+------------------+------------------+--------------------+-----+----------+----------+------------+----------------+-----------+-------------------+------------------+-----+------------------+--------------------+\n",
       "only showing top 5 rows\n",
       "\n",
       "</div>"
      ]
     },
     "metadata": {},
     "output_type": "display_data"
    }
   ],
   "source": [
    "# Step2 - Assemble features\n",
    "from pyspark.ml.feature import VectorAssembler\n",
    "\n",
    "df = df_for_clustering\n",
    "vecAssembler = VectorAssembler(inputCols=[\"Plays\", \"artist_hotttness\"], outputCol=\"features\")\n",
    "new_df = vecAssembler.transform(df)\n",
    "new_df.show(5)"
   ]
  },
  {
   "cell_type": "code",
   "execution_count": 72,
   "metadata": {},
   "outputs": [
    {
     "data": {
      "text/html": [
       "<style scoped>\n",
       "  .ansiout {\n",
       "    display: block;\n",
       "    unicode-bidi: embed;\n",
       "    white-space: pre-wrap;\n",
       "    word-wrap: break-word;\n",
       "    word-break: break-all;\n",
       "    font-family: \"Source Code Pro\", \"Menlo\", monospace;;\n",
       "    font-size: 13px;\n",
       "    color: #555;\n",
       "    margin-left: 4px;\n",
       "    line-height: 19px;\n",
       "  }\n",
       "</style>\n",
       "<div class=\"ansiout\"></div>"
      ]
     },
     "metadata": {},
     "output_type": "display_data"
    }
   ],
   "source": [
    "# Scale data\n",
    "from pyspark.ml.feature import StandardScaler\n",
    "scaler = StandardScaler(inputCol='features', outputCol='scaledFeatures')\n",
    "scaler_model = scaler.fit(new_df)\n",
    "scaled_data = scaler_model.transform(new_df)"
   ]
  },
  {
   "cell_type": "code",
   "execution_count": 73,
   "metadata": {},
   "outputs": [
    {
     "data": {
      "text/html": [
       "<style scoped>\n",
       "  .ansiout {\n",
       "    display: block;\n",
       "    unicode-bidi: embed;\n",
       "    white-space: pre-wrap;\n",
       "    word-wrap: break-word;\n",
       "    word-break: break-all;\n",
       "    font-family: \"Source Code Pro\", \"Menlo\", monospace;;\n",
       "    font-size: 13px;\n",
       "    color: #555;\n",
       "    margin-left: 4px;\n",
       "    line-height: 19px;\n",
       "  }\n",
       "</style>\n",
       "<div class=\"ansiout\">+------------------+------------------+--------------------+-----+----------+----------+------------+----------------+-----------+-------------------+------------------+-----+------------------+--------------------+--------------------+\n",
       "            songId|         artist_id|              userId|Plays|new_userId|new_songId|new_artistId| song_hotttnesss|artist_name|              title|artist_familiarity|genre|  artist_hotttness|            features|      scaledFeatures|\n",
       "+------------------+------------------+--------------------+-----+----------+----------+------------+----------------+-----------+-------------------+------------------+-----+------------------+--------------------+--------------------+\n",
       "SOCKUUJ12A6D4FA41C|ARXSABJ1187FB3C336|29ae33988946a423f...|    1|    786037|      9626|         301|0.69047353903576|   Deftones|Lotion (LP Version)|0.8216973167394691| null|0.6017297557100237|[1.0,0.6017297557...|[0.18332996073304...|\n",
       "SOCKUUJ12A6D4FA41C|ARXSABJ1187FB3C336|6866d8cf3f418f3dc...|    1|    783126|      9626|         301|0.69047353903576|   Deftones|Lotion (LP Version)|0.8216973167394691| null|0.6017297557100237|[1.0,0.6017297557...|[0.18332996073304...|\n",
       "SOCKUUJ12A6D4FA41C|ARXSABJ1187FB3C336|8ae7b3a604c68d688...|   25|    785407|      9626|         301|0.69047353903576|   Deftones|Lotion (LP Version)|0.8216973167394691| null|0.6017297557100237|[25.0,0.601729755...|[4.58324901832613...|\n",
       "SOCKUUJ12A6D4FA41C|ARXSABJ1187FB3C336|9b862d3237e93308b...|    1|    785441|      9626|         301|0.69047353903576|   Deftones|Lotion (LP Version)|0.8216973167394691| null|0.6017297557100237|[1.0,0.6017297557...|[0.18332996073304...|\n",
       "SOCKUUJ12A6D4FA41C|ARXSABJ1187FB3C336|b276add80e2341d59...|    1|    783535|      9626|         301|0.69047353903576|   Deftones|Lotion (LP Version)|0.8216973167394691| null|0.6017297557100237|[1.0,0.6017297557...|[0.18332996073304...|\n",
       "+------------------+------------------+--------------------+-----+----------+----------+------------+----------------+-----------+-------------------+------------------+-----+------------------+--------------------+--------------------+\n",
       "only showing top 5 rows\n",
       "\n",
       "</div>"
      ]
     },
     "metadata": {},
     "output_type": "display_data"
    }
   ],
   "source": [
    "scaled_data.show(5)"
   ]
  },
  {
   "cell_type": "code",
   "execution_count": 74,
   "metadata": {},
   "outputs": [
    {
     "data": {
      "text/html": [
       "<style scoped>\n",
       "  .ansiout {\n",
       "    display: block;\n",
       "    unicode-bidi: embed;\n",
       "    white-space: pre-wrap;\n",
       "    word-wrap: break-word;\n",
       "    word-break: break-all;\n",
       "    font-family: \"Source Code Pro\", \"Menlo\", monospace;;\n",
       "    font-size: 13px;\n",
       "    color: #555;\n",
       "    margin-left: 4px;\n",
       "    line-height: 19px;\n",
       "  }\n",
       "</style>\n",
       "<div class=\"ansiout\"></div>"
      ]
     },
     "metadata": {},
     "output_type": "display_data"
    }
   ],
   "source": [
    "# Step 2 - fit  KMeans model\n",
    "from pyspark.ml.clustering import KMeans"
   ]
  },
  {
   "cell_type": "code",
   "execution_count": 75,
   "metadata": {},
   "outputs": [
    {
     "data": {
      "text/html": [
       "<style scoped>\n",
       "  .ansiout {\n",
       "    display: block;\n",
       "    unicode-bidi: embed;\n",
       "    white-space: pre-wrap;\n",
       "    word-wrap: break-word;\n",
       "    word-break: break-all;\n",
       "    font-family: \"Source Code Pro\", \"Menlo\", monospace;;\n",
       "    font-size: 13px;\n",
       "    color: #555;\n",
       "    margin-left: 4px;\n",
       "    line-height: 19px;\n",
       "  }\n",
       "</style>\n",
       "<div class=\"ansiout\"></div>"
      ]
     },
     "metadata": {},
     "output_type": "display_data"
    }
   ],
   "source": [
    "k_means_10 = KMeans(featuresCol='scaledFeatures', k=10)\n",
    "k_means_15 = KMeans(featuresCol='scaledFeatures', k=15)\n",
    "model_k10 = k_means_10.fit(scaled_data)\n",
    "model_k15 = k_means_15.fit(scaled_data)"
   ]
  },
  {
   "cell_type": "code",
   "execution_count": 76,
   "metadata": {},
   "outputs": [
    {
     "data": {
      "text/html": [
       "<style scoped>\n",
       "  .ansiout {\n",
       "    display: block;\n",
       "    unicode-bidi: embed;\n",
       "    white-space: pre-wrap;\n",
       "    word-wrap: break-word;\n",
       "    word-break: break-all;\n",
       "    font-family: \"Source Code Pro\", \"Menlo\", monospace;;\n",
       "    font-size: 13px;\n",
       "    color: #555;\n",
       "    margin-left: 4px;\n",
       "    line-height: 19px;\n",
       "  }\n",
       "</style>\n",
       "<div class=\"ansiout\"></div>"
      ]
     },
     "metadata": {},
     "output_type": "display_data"
    }
   ],
   "source": [
    "model_k15_data = model_k15.transform(scaled_data)\n",
    "#model_k15_data.groupBy('prediction').count().show()\n"
   ]
  },
  {
   "cell_type": "code",
   "execution_count": 77,
   "metadata": {},
   "outputs": [
    {
     "data": {
      "text/html": [
       "<style scoped>\n",
       "  .ansiout {\n",
       "    display: block;\n",
       "    unicode-bidi: embed;\n",
       "    white-space: pre-wrap;\n",
       "    word-wrap: break-word;\n",
       "    word-break: break-all;\n",
       "    font-family: \"Source Code Pro\", \"Menlo\", monospace;;\n",
       "    font-size: 13px;\n",
       "    color: #555;\n",
       "    margin-left: 4px;\n",
       "    line-height: 19px;\n",
       "  }\n",
       "</style>\n",
       "<div class=\"ansiout\">+----------+---------------+--------------------+-----+----------+\n",
       "new_songId|    artist_name|               title|Plays|Prediction|\n",
       "+----------+---------------+--------------------+-----+----------+\n",
       "    107445| Less Than Jake|           Automatic|    2|         0|\n",
       "    171660|Andres Calamaro|Un vestido y un a...|    1|         0|\n",
       "    195260|      2 Minutos|           2 Minutos|    1|         1|\n",
       "    253574|     Bob Marley|  Lively Up Yourself|    2|         0|\n",
       "    278808|      Fito Paez|        Tercer Mundo|    1|        10|\n",
       "    315736|     Goldfinger|            I&apos;m Down|    2|         0|\n",
       "    328694|      Radiohead|Everything In Its...|    1|        11|\n",
       "    336833|     Goldfinger|Ocean Size (Album...|    2|         0|\n",
       "    336949|      2 Minutos|         Rompan Todo|    2|         1|\n",
       "    351986|      Radiohead|             15 Step|    1|        11|\n",
       "+----------+---------------+--------------------+-----+----------+\n",
       "\n",
       "</div>"
      ]
     },
     "metadata": {},
     "output_type": "display_data"
    }
   ],
   "source": [
    "UserID = 177833\n",
    "listened_songs_cl = model_k15_data.filter(model_k15_data.new_userId == UserID) \\\n",
    "                                          .select('new_songId', 'artist_name', 'title','Plays','Prediction')  \n",
    "                                          \n",
    "\n",
    "\n",
    "listened_songs_cl.show()\n"
   ]
  },
  {
   "cell_type": "code",
   "execution_count": 78,
   "metadata": {},
   "outputs": [
    {
     "data": {
      "text/html": [
       "<style scoped>\n",
       "  .ansiout {\n",
       "    display: block;\n",
       "    unicode-bidi: embed;\n",
       "    white-space: pre-wrap;\n",
       "    word-wrap: break-word;\n",
       "    word-break: break-all;\n",
       "    font-family: \"Source Code Pro\", \"Menlo\", monospace;;\n",
       "    font-size: 13px;\n",
       "    color: #555;\n",
       "    margin-left: 4px;\n",
       "    line-height: 19px;\n",
       "  }\n",
       "</style>\n",
       "<div class=\"ansiout\">+----------+-----------+-----+-----+----------+\n",
       "new_songId|artist_name|title|Plays|Prediction|\n",
       "+----------+-----------+-----+-----+----------+\n",
       "+----------+-----------+-----+-----+----------+\n",
       "\n",
       "</div>"
      ]
     },
     "metadata": {},
     "output_type": "display_data"
    }
   ],
   "source": [
    "UserID = 3543\n",
    "listened_songs_cl = model_k15_data.filter(model_k15_data.new_userId == UserID) \\\n",
    "                                          .select('new_songId', 'artist_name', 'title','Plays','Prediction')  \n",
    "                                          \n",
    "\n",
    "\n",
    "listened_songs_cl.show()"
   ]
  },
  {
   "cell_type": "code",
   "execution_count": 79,
   "metadata": {},
   "outputs": [
    {
     "data": {
      "text/html": [
       "<style scoped>\n",
       "  .ansiout {\n",
       "    display: block;\n",
       "    unicode-bidi: embed;\n",
       "    white-space: pre-wrap;\n",
       "    word-wrap: break-word;\n",
       "    word-break: break-all;\n",
       "    font-family: \"Source Code Pro\", \"Menlo\", monospace;;\n",
       "    font-size: 13px;\n",
       "    color: #555;\n",
       "    margin-left: 4px;\n",
       "    line-height: 19px;\n",
       "  }\n",
       "</style>\n",
       "<div class=\"ansiout\"></div>"
      ]
     },
     "metadata": {},
     "output_type": "display_data"
    }
   ],
   "source": [
    "# Find other songs in the same cluster\n",
    "other_songs_cl0 = model_k15_data.filter(model_k15_data.prediction == 0) \\\n",
    "                                          .select('new_songId', 'artist_name', 'title','Plays','Prediction')  \n",
    "                                          \n",
    "\n",
    "  # Find other songs in the same cluster\n",
    "other_songs_cl11 = model_k15_data.filter(model_k15_data.prediction == 11) \\\n",
    "                                          .select('new_songId', 'artist_name', 'title','Plays','Prediction')  "
   ]
  },
  {
   "cell_type": "code",
   "execution_count": 80,
   "metadata": {},
   "outputs": [
    {
     "data": {
      "text/html": [
       "<div style=\"max-width:1500px;overflow:auto;\">\n",
       "<table border=\"1\" class=\"dataframe\">\n",
       "  <thead>\n",
       "    <tr style=\"text-align: right;\">\n",
       "      <th></th>\n",
       "      <th>new_songId</th>\n",
       "      <th>artist_name</th>\n",
       "      <th>title</th>\n",
       "      <th>Plays</th>\n",
       "      <th>Prediction</th>\n",
       "    </tr>\n",
       "  </thead>\n",
       "  <tbody>\n",
       "    <tr>\n",
       "      <th>135356</th>\n",
       "      <td>305745</td>\n",
       "      <td>The Crystal Method</td>\n",
       "      <td>Keep Hope Alive</td>\n",
       "      <td>3</td>\n",
       "      <td>0</td>\n",
       "    </tr>\n",
       "    <tr>\n",
       "      <th>108615</th>\n",
       "      <td>257480</td>\n",
       "      <td>The Cardigans</td>\n",
       "      <td>Iron Man</td>\n",
       "      <td>3</td>\n",
       "      <td>0</td>\n",
       "    </tr>\n",
       "    <tr>\n",
       "      <th>45924</th>\n",
       "      <td>163994</td>\n",
       "      <td>The Presets</td>\n",
       "      <td>Are You The One?</td>\n",
       "      <td>3</td>\n",
       "      <td>0</td>\n",
       "    </tr>\n",
       "    <tr>\n",
       "      <th>163481</th>\n",
       "      <td>356041</td>\n",
       "      <td>The Misfits</td>\n",
       "      <td>Halloween II</td>\n",
       "      <td>3</td>\n",
       "      <td>0</td>\n",
       "    </tr>\n",
       "    <tr>\n",
       "      <th>146655</th>\n",
       "      <td>319127</td>\n",
       "      <td>Phil Collins</td>\n",
       "      <td>Two Hearts</td>\n",
       "      <td>3</td>\n",
       "      <td>0</td>\n",
       "    </tr>\n",
       "  </tbody>\n",
       "</table>\n",
       "</div>"
      ]
     },
     "metadata": {},
     "output_type": "display_data"
    }
   ],
   "source": [
    "# Other songs in the same cluster\n",
    "other_songs_cl0.toPandas().drop_duplicates().sort_values('Plays', ascending=False ).head(5)\n"
   ]
  },
  {
   "cell_type": "code",
   "execution_count": 81,
   "metadata": {},
   "outputs": [
    {
     "data": {
      "text/html": [
       "<div style=\"max-width:1500px;overflow:auto;\">\n",
       "<table border=\"1\" class=\"dataframe\">\n",
       "  <thead>\n",
       "    <tr style=\"text-align: right;\">\n",
       "      <th></th>\n",
       "      <th>new_songId</th>\n",
       "      <th>artist_name</th>\n",
       "      <th>title</th>\n",
       "      <th>Plays</th>\n",
       "      <th>Prediction</th>\n",
       "    </tr>\n",
       "  </thead>\n",
       "  <tbody>\n",
       "    <tr>\n",
       "      <th>50349</th>\n",
       "      <td>184410</td>\n",
       "      <td>Kelly Clarkson</td>\n",
       "      <td>Cry</td>\n",
       "      <td>5</td>\n",
       "      <td>11</td>\n",
       "    </tr>\n",
       "    <tr>\n",
       "      <th>97579</th>\n",
       "      <td>290467</td>\n",
       "      <td>Madonna</td>\n",
       "      <td>Papa Don't Preach</td>\n",
       "      <td>5</td>\n",
       "      <td>11</td>\n",
       "    </tr>\n",
       "    <tr>\n",
       "      <th>62673</th>\n",
       "      <td>253709</td>\n",
       "      <td>The White Stripes</td>\n",
       "      <td>I\u0019m Slowly Turning Into You</td>\n",
       "      <td>5</td>\n",
       "      <td>11</td>\n",
       "    </tr>\n",
       "    <tr>\n",
       "      <th>111546</th>\n",
       "      <td>332564</td>\n",
       "      <td>Jack Johnson</td>\n",
       "      <td>Monsoon</td>\n",
       "      <td>5</td>\n",
       "      <td>11</td>\n",
       "    </tr>\n",
       "    <tr>\n",
       "      <th>47464</th>\n",
       "      <td>171211</td>\n",
       "      <td>Radiohead</td>\n",
       "      <td>Fake Plastic Trees (Acoustic Version)</td>\n",
       "      <td>5</td>\n",
       "      <td>11</td>\n",
       "    </tr>\n",
       "  </tbody>\n",
       "</table>\n",
       "</div>"
      ]
     },
     "metadata": {},
     "output_type": "display_data"
    }
   ],
   "source": [
    "other_songs_cl11.toPandas().drop_duplicates().sort_values('Plays', ascending=False ).head(5)"
   ]
  },
  {
   "cell_type": "code",
   "execution_count": 82,
   "metadata": {},
   "outputs": [
    {
     "data": {
      "text/html": [
       "<div style=\"max-width:1500px;overflow:auto;\">\n",
       "<table border=\"1\" class=\"dataframe\">\n",
       "  <thead>\n",
       "    <tr style=\"text-align: right;\">\n",
       "      <th></th>\n",
       "      <th>new_songId</th>\n",
       "      <th>artist_name</th>\n",
       "      <th>title</th>\n",
       "      <th>Plays</th>\n",
       "      <th>Prediction</th>\n",
       "    </tr>\n",
       "  </thead>\n",
       "  <tbody>\n",
       "    <tr>\n",
       "      <th>94957</th>\n",
       "      <td>300455</td>\n",
       "      <td>Ziggy Marley And The Melody Makers</td>\n",
       "      <td>Namibia</td>\n",
       "      <td>3</td>\n",
       "      <td>9</td>\n",
       "    </tr>\n",
       "    <tr>\n",
       "      <th>85706</th>\n",
       "      <td>257635</td>\n",
       "      <td>Plies</td>\n",
       "      <td>I Am The Club (Explicit Album Version)</td>\n",
       "      <td>3</td>\n",
       "      <td>9</td>\n",
       "    </tr>\n",
       "    <tr>\n",
       "      <th>90517</th>\n",
       "      <td>50061</td>\n",
       "      <td>Lupe Fiasco feat. GemStones</td>\n",
       "      <td>Go Baby (feat GemStones) (Explicit Album Version)</td>\n",
       "      <td>3</td>\n",
       "      <td>9</td>\n",
       "    </tr>\n",
       "    <tr>\n",
       "      <th>89323</th>\n",
       "      <td>92454</td>\n",
       "      <td>Lupe Fiasco feat. Matthew Santos</td>\n",
       "      <td>Fighters (feat. Matthew Santos) (Amended Album...</td>\n",
       "      <td>3</td>\n",
       "      <td>9</td>\n",
       "    </tr>\n",
       "    <tr>\n",
       "      <th>89305</th>\n",
       "      <td>300018</td>\n",
       "      <td>Lupe Fiasco feat. Matthew Santos</td>\n",
       "      <td>Fighters (feat. Matthew Santos) (Amended Album...</td>\n",
       "      <td>3</td>\n",
       "      <td>9</td>\n",
       "    </tr>\n",
       "  </tbody>\n",
       "</table>\n",
       "</div>"
      ]
     },
     "metadata": {},
     "output_type": "display_data"
    }
   ],
   "source": [
    "other_songs_cl9 = model_k15_data.filter(model_k15_data.prediction == 9) \\\n",
    "                                          .select('new_songId', 'artist_name', 'title','Plays','Prediction') \n",
    "other_songs_cl9.toPandas().drop_duplicates().sort_values('Plays', ascending=False ).head(5)"
   ]
  },
  {
   "cell_type": "code",
   "execution_count": 83,
   "metadata": {},
   "outputs": [
    {
     "data": {
      "text/html": [
       "<div style=\"max-width:1500px;overflow:auto;\">\n",
       "<table border=\"1\" class=\"dataframe\">\n",
       "  <thead>\n",
       "    <tr style=\"text-align: right;\">\n",
       "      <th></th>\n",
       "      <th>new_songId</th>\n",
       "      <th>artist_name</th>\n",
       "      <th>title</th>\n",
       "      <th>Plays</th>\n",
       "      <th>Prediction</th>\n",
       "    </tr>\n",
       "  </thead>\n",
       "  <tbody>\n",
       "    <tr>\n",
       "      <th>9414</th>\n",
       "      <td>88189</td>\n",
       "      <td>Usher Featuring The Nu Beginning</td>\n",
       "      <td>Only Human</td>\n",
       "      <td>6</td>\n",
       "      <td>1</td>\n",
       "    </tr>\n",
       "    <tr>\n",
       "      <th>9119</th>\n",
       "      <td>151644</td>\n",
       "      <td>Usher Featuring The Nu Beginning</td>\n",
       "      <td>Only Human</td>\n",
       "      <td>6</td>\n",
       "      <td>1</td>\n",
       "    </tr>\n",
       "    <tr>\n",
       "      <th>17515</th>\n",
       "      <td>51993</td>\n",
       "      <td>Usher</td>\n",
       "      <td>Hey Daddy (Daddy's Home)</td>\n",
       "      <td>6</td>\n",
       "      <td>1</td>\n",
       "    </tr>\n",
       "    <tr>\n",
       "      <th>17402</th>\n",
       "      <td>23145</td>\n",
       "      <td>Usher</td>\n",
       "      <td>Hey Daddy (Daddy's Home)</td>\n",
       "      <td>6</td>\n",
       "      <td>1</td>\n",
       "    </tr>\n",
       "    <tr>\n",
       "      <th>60803</th>\n",
       "      <td>340735</td>\n",
       "      <td>Usher</td>\n",
       "      <td>I'll Show You Love</td>\n",
       "      <td>6</td>\n",
       "      <td>1</td>\n",
       "    </tr>\n",
       "  </tbody>\n",
       "</table>\n",
       "</div>"
      ]
     },
     "metadata": {},
     "output_type": "display_data"
    }
   ],
   "source": [
    "other_songs_cl1 = model_k15_data.filter(model_k15_data.prediction == 1) \\\n",
    "                                          .select('new_songId', 'artist_name', 'title','Plays','Prediction') \n",
    "other_songs_cl1.toPandas().drop_duplicates().sort_values('Plays', ascending=False ).head(5)"
   ]
  },
  {
   "cell_type": "markdown",
   "metadata": {},
   "source": [
    "## Clustering -- K-Means Clustering Elbow Plot -- Annie"
   ]
  },
  {
   "cell_type": "code",
   "execution_count": 85,
   "metadata": {},
   "outputs": [],
   "source": [
    "import numpy as np\n",
    "import pandas as pd\n",
    "import matplotlib.pyplot as plt\n",
    "from mpl_toolkits.mplot3d import Axes3D\n",
    "from sklearn.datasets.samples_generator import make_blobs\n",
    "from pyspark import SparkContext\n",
    "from pyspark.ml.clustering import KMeans\n",
    "from pyspark.ml.feature import VectorAssembler\n",
    "from pyspark.sql import SQLContext"
   ]
  },
  {
   "cell_type": "markdown",
   "metadata": {},
   "source": [
    "### Optimize choice of k\n",
    "\n",
    "One disadvantage of KMeans compared to more advanced clustering algorithms is that the algorithm must be told how many clusters, k, it should try to find. To optimize k we cluster a fraction of the data for different choices of k and look for an \"elbow\" in the cost function."
   ]
  },
  {
   "cell_type": "code",
   "execution_count": 87,
   "metadata": {},
   "outputs": [],
   "source": [
    "cost = np.zeros(20)\n",
    "for k in range(2,20):\n",
    "    kmeans = KMeans().setK(k).setSeed(1).setFeaturesCol(\"features\")\n",
    "    model = kmeans.fit(new_df.sample(False,0.1, seed=42))\n",
    "    cost[k] = model.computeCost(new_df)"
   ]
  },
  {
   "cell_type": "code",
   "execution_count": 88,
   "metadata": {},
   "outputs": [],
   "source": [
    "fig, ax = plt.subplots(1,1, figsize =(10,8))\n",
    "ax.plot(range(2,20),cost[2:20])\n",
    "ax.set_xlabel('k')\n",
    "ax.set_ylabel('cost')\n",
    "display(fig)"
   ]
  },
  {
   "cell_type": "markdown",
   "metadata": {},
   "source": [
    "Look like there is very little gain after k=15, so we stick to that choice when processing the full data set."
   ]
  }
 ],
 "metadata": {
  "kernelspec": {
   "display_name": "Python 3",
   "language": "python",
   "name": "python3"
  },
  "language_info": {
   "codemirror_mode": {
    "name": "ipython",
    "version": 3
   },
   "file_extension": ".py",
   "mimetype": "text/x-python",
   "name": "python",
   "nbconvert_exporter": "python",
   "pygments_lexer": "ipython3",
   "version": "3.7.1"
  },
  "name": "MusicRecommender",
  "notebookId": 2513030256153479
 },
 "nbformat": 4,
 "nbformat_minor": 1
}
